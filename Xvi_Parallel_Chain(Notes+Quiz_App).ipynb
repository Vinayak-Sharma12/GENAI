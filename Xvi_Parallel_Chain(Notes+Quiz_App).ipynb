{
  "nbformat": 4,
  "nbformat_minor": 0,
  "metadata": {
    "colab": {
      "provenance": [],
      "authorship_tag": "ABX9TyMUhFX4PBTPn5Az8lr+RshI",
      "include_colab_link": true
    },
    "kernelspec": {
      "name": "python3",
      "display_name": "Python 3"
    },
    "language_info": {
      "name": "python"
    }
  },
  "cells": [
    {
      "cell_type": "markdown",
      "metadata": {
        "id": "view-in-github",
        "colab_type": "text"
      },
      "source": [
        "<a href=\"https://colab.research.google.com/github/Vinayak-Sharma12/GENAI/blob/main/Xvi_Parallel_Chain(Notes%2BQuiz_App).ipynb\" target=\"_parent\"><img src=\"https://colab.research.google.com/assets/colab-badge.svg\" alt=\"Open In Colab\"/></a>"
      ]
    },
    {
      "cell_type": "markdown",
      "source": [
        "## **PARALLEL CHAIN**"
      ],
      "metadata": {
        "id": "kGlLCnhTpzPQ"
      }
    },
    {
      "cell_type": "code",
      "source": [
        "!pip install grandalf"
      ],
      "metadata": {
        "colab": {
          "base_uri": "https://localhost:8080/"
        },
        "id": "Myr6QJNfv89K",
        "outputId": "9c40e1bd-6e45-4c57-fc00-cd1697c4c65d"
      },
      "execution_count": 31,
      "outputs": [
        {
          "output_type": "stream",
          "name": "stdout",
          "text": [
            "Collecting grandalf\n",
            "  Downloading grandalf-0.8-py3-none-any.whl.metadata (1.7 kB)\n",
            "Requirement already satisfied: pyparsing in /usr/local/lib/python3.11/dist-packages (from grandalf) (3.2.3)\n",
            "Downloading grandalf-0.8-py3-none-any.whl (41 kB)\n",
            "\u001b[?25l   \u001b[90m━━━━━━━━━━━━━━━━━━━━━━━━━━━━━━━━━━━━━━━━\u001b[0m \u001b[32m0.0/41.8 kB\u001b[0m \u001b[31m?\u001b[0m eta \u001b[36m-:--:--\u001b[0m\r\u001b[2K   \u001b[90m━━━━━━━━━━━━━━━━━━━━━━━━━━━━━━━━━━━━━━━━\u001b[0m \u001b[32m41.8/41.8 kB\u001b[0m \u001b[31m1.4 MB/s\u001b[0m eta \u001b[36m0:00:00\u001b[0m\n",
            "\u001b[?25hInstalling collected packages: grandalf\n",
            "Successfully installed grandalf-0.8\n"
          ]
        }
      ]
    },
    {
      "cell_type": "code",
      "source": [
        "merge_chain.get_graph().print_ascii()"
      ],
      "metadata": {
        "colab": {
          "base_uri": "https://localhost:8080/"
        },
        "id": "LWjFthKzv1SQ",
        "outputId": "dbf4adc9-faf8-4b8c-def3-7e32ba281bcf"
      },
      "execution_count": 32,
      "outputs": [
        {
          "output_type": "stream",
          "name": "stdout",
          "text": [
            "          +---------------------------+            \n",
            "          | Parallel<notes,quiz>Input |            \n",
            "          +---------------------------+            \n",
            "                ***             ***                \n",
            "              **                   **              \n",
            "            **                       **            \n",
            "+----------------+              +----------------+ \n",
            "| PromptTemplate |              | PromptTemplate | \n",
            "+----------------+              +----------------+ \n",
            "          *                             *          \n",
            "          *                             *          \n",
            "          *                             *          \n",
            "    +----------+                  +----------+     \n",
            "    | ChatGroq |                  | ChatGroq |     \n",
            "    +----------+                  +----------+     \n",
            "          *                             *          \n",
            "          *                             *          \n",
            "          *                             *          \n",
            "+-----------------+            +-----------------+ \n",
            "| StrOutputParser |            | StrOutputParser | \n",
            "+-----------------+            +-----------------+ \n",
            "                ***             ***                \n",
            "                   **         **                   \n",
            "                     **     **                     \n",
            "          +----------------------------+           \n",
            "          | Parallel<notes,quiz>Output |           \n",
            "          +----------------------------+           \n",
            "                         *                         \n",
            "                         *                         \n",
            "                         *                         \n",
            "                +----------------+                 \n",
            "                | PromptTemplate |                 \n",
            "                +----------------+                 \n",
            "                         *                         \n",
            "                         *                         \n",
            "                         *                         \n",
            "                   +----------+                    \n",
            "                   | ChatGroq |                    \n",
            "                   +----------+                    \n",
            "                         *                         \n",
            "                         *                         \n",
            "                         *                         \n",
            "                +-----------------+                \n",
            "                | StrOutputParser |                \n",
            "                +-----------------+                \n",
            "                         *                         \n",
            "                         *                         \n",
            "                         *                         \n",
            "            +-----------------------+              \n",
            "            | StrOutputParserOutput |              \n",
            "            +-----------------------+              \n"
          ]
        }
      ]
    },
    {
      "cell_type": "code",
      "execution_count": 1,
      "metadata": {
        "colab": {
          "base_uri": "https://localhost:8080/"
        },
        "id": "bAX7jaNCpL4n",
        "outputId": "cb9c2320-6c3b-497e-ef22-53873225fd01"
      },
      "outputs": [
        {
          "output_type": "stream",
          "name": "stdout",
          "text": [
            "Requirement already satisfied: langchain in /usr/local/lib/python3.11/dist-packages (0.3.22)\n",
            "Collecting langchain_groq\n",
            "  Downloading langchain_groq-0.3.2-py3-none-any.whl.metadata (2.6 kB)\n",
            "Collecting langchain_community\n",
            "  Downloading langchain_community-0.3.21-py3-none-any.whl.metadata (2.4 kB)\n",
            "Requirement already satisfied: langchain-core<1.0.0,>=0.3.49 in /usr/local/lib/python3.11/dist-packages (from langchain) (0.3.50)\n",
            "Requirement already satisfied: langchain-text-splitters<1.0.0,>=0.3.7 in /usr/local/lib/python3.11/dist-packages (from langchain) (0.3.7)\n",
            "Requirement already satisfied: langsmith<0.4,>=0.1.17 in /usr/local/lib/python3.11/dist-packages (from langchain) (0.3.23)\n",
            "Requirement already satisfied: pydantic<3.0.0,>=2.7.4 in /usr/local/lib/python3.11/dist-packages (from langchain) (2.11.2)\n",
            "Requirement already satisfied: SQLAlchemy<3,>=1.4 in /usr/local/lib/python3.11/dist-packages (from langchain) (2.0.40)\n",
            "Requirement already satisfied: requests<3,>=2 in /usr/local/lib/python3.11/dist-packages (from langchain) (2.32.3)\n",
            "Requirement already satisfied: PyYAML>=5.3 in /usr/local/lib/python3.11/dist-packages (from langchain) (6.0.2)\n",
            "Collecting groq<1,>=0.4.1 (from langchain_groq)\n",
            "  Downloading groq-0.22.0-py3-none-any.whl.metadata (15 kB)\n",
            "Collecting langchain-core<1.0.0,>=0.3.49 (from langchain)\n",
            "  Downloading langchain_core-0.3.51-py3-none-any.whl.metadata (5.9 kB)\n",
            "Collecting langchain\n",
            "  Downloading langchain-0.3.23-py3-none-any.whl.metadata (7.8 kB)\n",
            "Requirement already satisfied: aiohttp<4.0.0,>=3.8.3 in /usr/local/lib/python3.11/dist-packages (from langchain_community) (3.11.15)\n",
            "Requirement already satisfied: tenacity!=8.4.0,<10,>=8.1.0 in /usr/local/lib/python3.11/dist-packages (from langchain_community) (9.1.2)\n",
            "Collecting dataclasses-json<0.7,>=0.5.7 (from langchain_community)\n",
            "  Downloading dataclasses_json-0.6.7-py3-none-any.whl.metadata (25 kB)\n",
            "Collecting pydantic-settings<3.0.0,>=2.4.0 (from langchain_community)\n",
            "  Downloading pydantic_settings-2.8.1-py3-none-any.whl.metadata (3.5 kB)\n",
            "Collecting httpx-sse<1.0.0,>=0.4.0 (from langchain_community)\n",
            "  Downloading httpx_sse-0.4.0-py3-none-any.whl.metadata (9.0 kB)\n",
            "Requirement already satisfied: numpy<3,>=1.26.2 in /usr/local/lib/python3.11/dist-packages (from langchain_community) (2.0.2)\n",
            "Collecting langchain-text-splitters<1.0.0,>=0.3.8 (from langchain)\n",
            "  Downloading langchain_text_splitters-0.3.8-py3-none-any.whl.metadata (1.9 kB)\n",
            "Requirement already satisfied: aiohappyeyeballs>=2.3.0 in /usr/local/lib/python3.11/dist-packages (from aiohttp<4.0.0,>=3.8.3->langchain_community) (2.6.1)\n",
            "Requirement already satisfied: aiosignal>=1.1.2 in /usr/local/lib/python3.11/dist-packages (from aiohttp<4.0.0,>=3.8.3->langchain_community) (1.3.2)\n",
            "Requirement already satisfied: attrs>=17.3.0 in /usr/local/lib/python3.11/dist-packages (from aiohttp<4.0.0,>=3.8.3->langchain_community) (25.3.0)\n",
            "Requirement already satisfied: frozenlist>=1.1.1 in /usr/local/lib/python3.11/dist-packages (from aiohttp<4.0.0,>=3.8.3->langchain_community) (1.5.0)\n",
            "Requirement already satisfied: multidict<7.0,>=4.5 in /usr/local/lib/python3.11/dist-packages (from aiohttp<4.0.0,>=3.8.3->langchain_community) (6.2.0)\n",
            "Requirement already satisfied: propcache>=0.2.0 in /usr/local/lib/python3.11/dist-packages (from aiohttp<4.0.0,>=3.8.3->langchain_community) (0.3.1)\n",
            "Requirement already satisfied: yarl<2.0,>=1.17.0 in /usr/local/lib/python3.11/dist-packages (from aiohttp<4.0.0,>=3.8.3->langchain_community) (1.18.3)\n",
            "Collecting marshmallow<4.0.0,>=3.18.0 (from dataclasses-json<0.7,>=0.5.7->langchain_community)\n",
            "  Downloading marshmallow-3.26.1-py3-none-any.whl.metadata (7.3 kB)\n",
            "Collecting typing-inspect<1,>=0.4.0 (from dataclasses-json<0.7,>=0.5.7->langchain_community)\n",
            "  Downloading typing_inspect-0.9.0-py3-none-any.whl.metadata (1.5 kB)\n",
            "Requirement already satisfied: anyio<5,>=3.5.0 in /usr/local/lib/python3.11/dist-packages (from groq<1,>=0.4.1->langchain_groq) (4.9.0)\n",
            "Requirement already satisfied: distro<2,>=1.7.0 in /usr/local/lib/python3.11/dist-packages (from groq<1,>=0.4.1->langchain_groq) (1.9.0)\n",
            "Requirement already satisfied: httpx<1,>=0.23.0 in /usr/local/lib/python3.11/dist-packages (from groq<1,>=0.4.1->langchain_groq) (0.28.1)\n",
            "Requirement already satisfied: sniffio in /usr/local/lib/python3.11/dist-packages (from groq<1,>=0.4.1->langchain_groq) (1.3.1)\n",
            "Requirement already satisfied: typing-extensions<5,>=4.10 in /usr/local/lib/python3.11/dist-packages (from groq<1,>=0.4.1->langchain_groq) (4.13.1)\n",
            "Requirement already satisfied: jsonpatch<2.0,>=1.33 in /usr/local/lib/python3.11/dist-packages (from langchain-core<1.0.0,>=0.3.49->langchain) (1.33)\n",
            "Requirement already satisfied: packaging<25,>=23.2 in /usr/local/lib/python3.11/dist-packages (from langchain-core<1.0.0,>=0.3.49->langchain) (24.2)\n",
            "Requirement already satisfied: orjson<4.0.0,>=3.9.14 in /usr/local/lib/python3.11/dist-packages (from langsmith<0.4,>=0.1.17->langchain) (3.10.16)\n",
            "Requirement already satisfied: requests-toolbelt<2.0.0,>=1.0.0 in /usr/local/lib/python3.11/dist-packages (from langsmith<0.4,>=0.1.17->langchain) (1.0.0)\n",
            "Requirement already satisfied: zstandard<0.24.0,>=0.23.0 in /usr/local/lib/python3.11/dist-packages (from langsmith<0.4,>=0.1.17->langchain) (0.23.0)\n",
            "Requirement already satisfied: annotated-types>=0.6.0 in /usr/local/lib/python3.11/dist-packages (from pydantic<3.0.0,>=2.7.4->langchain) (0.7.0)\n",
            "Requirement already satisfied: pydantic-core==2.33.1 in /usr/local/lib/python3.11/dist-packages (from pydantic<3.0.0,>=2.7.4->langchain) (2.33.1)\n",
            "Requirement already satisfied: typing-inspection>=0.4.0 in /usr/local/lib/python3.11/dist-packages (from pydantic<3.0.0,>=2.7.4->langchain) (0.4.0)\n",
            "Collecting python-dotenv>=0.21.0 (from pydantic-settings<3.0.0,>=2.4.0->langchain_community)\n",
            "  Downloading python_dotenv-1.1.0-py3-none-any.whl.metadata (24 kB)\n",
            "Requirement already satisfied: charset-normalizer<4,>=2 in /usr/local/lib/python3.11/dist-packages (from requests<3,>=2->langchain) (3.4.1)\n",
            "Requirement already satisfied: idna<4,>=2.5 in /usr/local/lib/python3.11/dist-packages (from requests<3,>=2->langchain) (3.10)\n",
            "Requirement already satisfied: urllib3<3,>=1.21.1 in /usr/local/lib/python3.11/dist-packages (from requests<3,>=2->langchain) (2.3.0)\n",
            "Requirement already satisfied: certifi>=2017.4.17 in /usr/local/lib/python3.11/dist-packages (from requests<3,>=2->langchain) (2025.1.31)\n",
            "Requirement already satisfied: greenlet>=1 in /usr/local/lib/python3.11/dist-packages (from SQLAlchemy<3,>=1.4->langchain) (3.1.1)\n",
            "Requirement already satisfied: httpcore==1.* in /usr/local/lib/python3.11/dist-packages (from httpx<1,>=0.23.0->groq<1,>=0.4.1->langchain_groq) (1.0.7)\n",
            "Requirement already satisfied: h11<0.15,>=0.13 in /usr/local/lib/python3.11/dist-packages (from httpcore==1.*->httpx<1,>=0.23.0->groq<1,>=0.4.1->langchain_groq) (0.14.0)\n",
            "Requirement already satisfied: jsonpointer>=1.9 in /usr/local/lib/python3.11/dist-packages (from jsonpatch<2.0,>=1.33->langchain-core<1.0.0,>=0.3.49->langchain) (3.0.0)\n",
            "Collecting mypy-extensions>=0.3.0 (from typing-inspect<1,>=0.4.0->dataclasses-json<0.7,>=0.5.7->langchain_community)\n",
            "  Downloading mypy_extensions-1.0.0-py3-none-any.whl.metadata (1.1 kB)\n",
            "Downloading langchain_groq-0.3.2-py3-none-any.whl (15 kB)\n",
            "Downloading langchain_community-0.3.21-py3-none-any.whl (2.5 MB)\n",
            "\u001b[2K   \u001b[90m━━━━━━━━━━━━━━━━━━━━━━━━━━━━━━━━━━━━━━━━\u001b[0m \u001b[32m2.5/2.5 MB\u001b[0m \u001b[31m28.1 MB/s\u001b[0m eta \u001b[36m0:00:00\u001b[0m\n",
            "\u001b[?25hDownloading langchain-0.3.23-py3-none-any.whl (1.0 MB)\n",
            "\u001b[2K   \u001b[90m━━━━━━━━━━━━━━━━━━━━━━━━━━━━━━━━━━━━━━━━\u001b[0m \u001b[32m1.0/1.0 MB\u001b[0m \u001b[31m27.7 MB/s\u001b[0m eta \u001b[36m0:00:00\u001b[0m\n",
            "\u001b[?25hDownloading dataclasses_json-0.6.7-py3-none-any.whl (28 kB)\n",
            "Downloading groq-0.22.0-py3-none-any.whl (126 kB)\n",
            "\u001b[2K   \u001b[90m━━━━━━━━━━━━━━━━━━━━━━━━━━━━━━━━━━━━━━━━\u001b[0m \u001b[32m126.7/126.7 kB\u001b[0m \u001b[31m5.5 MB/s\u001b[0m eta \u001b[36m0:00:00\u001b[0m\n",
            "\u001b[?25hDownloading httpx_sse-0.4.0-py3-none-any.whl (7.8 kB)\n",
            "Downloading langchain_core-0.3.51-py3-none-any.whl (423 kB)\n",
            "\u001b[2K   \u001b[90m━━━━━━━━━━━━━━━━━━━━━━━━━━━━━━━━━━━━━━━━\u001b[0m \u001b[32m423.3/423.3 kB\u001b[0m \u001b[31m14.6 MB/s\u001b[0m eta \u001b[36m0:00:00\u001b[0m\n",
            "\u001b[?25hDownloading langchain_text_splitters-0.3.8-py3-none-any.whl (32 kB)\n",
            "Downloading pydantic_settings-2.8.1-py3-none-any.whl (30 kB)\n",
            "Downloading marshmallow-3.26.1-py3-none-any.whl (50 kB)\n",
            "\u001b[2K   \u001b[90m━━━━━━━━━━━━━━━━━━━━━━━━━━━━━━━━━━━━━━━━\u001b[0m \u001b[32m50.9/50.9 kB\u001b[0m \u001b[31m2.9 MB/s\u001b[0m eta \u001b[36m0:00:00\u001b[0m\n",
            "\u001b[?25hDownloading python_dotenv-1.1.0-py3-none-any.whl (20 kB)\n",
            "Downloading typing_inspect-0.9.0-py3-none-any.whl (8.8 kB)\n",
            "Downloading mypy_extensions-1.0.0-py3-none-any.whl (4.7 kB)\n",
            "Installing collected packages: python-dotenv, mypy-extensions, marshmallow, httpx-sse, typing-inspect, pydantic-settings, groq, dataclasses-json, langchain-core, langchain-text-splitters, langchain_groq, langchain, langchain_community\n",
            "  Attempting uninstall: langchain-core\n",
            "    Found existing installation: langchain-core 0.3.50\n",
            "    Uninstalling langchain-core-0.3.50:\n",
            "      Successfully uninstalled langchain-core-0.3.50\n",
            "  Attempting uninstall: langchain-text-splitters\n",
            "    Found existing installation: langchain-text-splitters 0.3.7\n",
            "    Uninstalling langchain-text-splitters-0.3.7:\n",
            "      Successfully uninstalled langchain-text-splitters-0.3.7\n",
            "  Attempting uninstall: langchain\n",
            "    Found existing installation: langchain 0.3.22\n",
            "    Uninstalling langchain-0.3.22:\n",
            "      Successfully uninstalled langchain-0.3.22\n",
            "Successfully installed dataclasses-json-0.6.7 groq-0.22.0 httpx-sse-0.4.0 langchain-0.3.23 langchain-core-0.3.51 langchain-text-splitters-0.3.8 langchain_community-0.3.21 langchain_groq-0.3.2 marshmallow-3.26.1 mypy-extensions-1.0.0 pydantic-settings-2.8.1 python-dotenv-1.1.0 typing-inspect-0.9.0\n"
          ]
        }
      ],
      "source": [
        "!pip install langchain langchain_groq langchain_community"
      ]
    },
    {
      "cell_type": "code",
      "source": [
        "from langchain_groq import ChatGroq\n",
        "llm=ChatGroq(model='llama-3.1-8b-instant',api_key='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')"
      ],
      "metadata": {
        "id": "wMQt782bpaWG"
      },
      "execution_count": 2,
      "outputs": []
    },
    {
      "cell_type": "code",
      "source": [
        "from langchain.prompts import PromptTemplate\n",
        "from langchain_core.output_parsers import StrOutputParser\n",
        "from langchain.schema.runnable import RunnableParallel"
      ],
      "metadata": {
        "id": "IGm58I51polB"
      },
      "execution_count": 4,
      "outputs": []
    },
    {
      "cell_type": "markdown",
      "source": [
        "Parallel Chain"
      ],
      "metadata": {
        "id": "WOKBKvgtrYNj"
      }
    },
    {
      "cell_type": "code",
      "source": [
        "parser=StrOutputParser()\n",
        "prompt1=PromptTemplate(\n",
        "     template='Create the short and simple notes on the text\\n {text}',\n",
        "     input_variables=['text']\n",
        ")\n",
        "prompt2=PromptTemplate(\n",
        "    template='Create a quiz for the following\\n {text}',\n",
        "    input_variables=['text']\n",
        ")\n",
        "parallel_chain=RunnableParallel({\n",
        "    'notes': prompt1|llm|parser,\n",
        "     'quiz':prompt2|llm|parser\n",
        "})\n"
      ],
      "metadata": {
        "id": "ogMEUbFJqh0b"
      },
      "execution_count": 6,
      "outputs": []
    },
    {
      "cell_type": "markdown",
      "source": [
        "**MERGE CHAIN**"
      ],
      "metadata": {
        "id": "3ayhRdsSsrvl"
      }
    },
    {
      "cell_type": "code",
      "source": [
        "prompt3=PromptTemplate(\n",
        "    template='Merge the provided notes and quiz in single document \\n notes->{notes} and quiz->{quiz}',\n",
        "    input_variables=['notes','quiz']\n",
        ")\n",
        "chain=prompt3|llm|parser\n",
        "merge_chain=parallel_chain|chain"
      ],
      "metadata": {
        "id": "cCqoNyG2syTF"
      },
      "execution_count": 25,
      "outputs": []
    },
    {
      "cell_type": "code",
      "source": [
        "text=\"\"\"Let us recall these laws –\n",
        "(i) The angle of incidence is equal to the angle of reflection, and\n",
        "(ii) The incident ray, the normal to the mirror at the point of incidence\n",
        "and the reflected ray, all lie in the same plane.\n",
        "These laws of reflection are applicable to all types of reflecting surfaces\n",
        "including spherical surfaces. You are familiar with the formation of image\n",
        "by a plane mirror. What are the properties of the image? Image formed\n",
        "by a plane mirror is always virtual and erect. The size of the image is\n",
        "equal to that of the object. The image formed is as far behind the mirror\n",
        "as the object is in front of it. Further, the image is laterally inverted.\n",
        "How would the images be when the reflecting surfaces are curved? Let\n",
        "us explore.\n",
        "Activity 9.1\n",
        "n Take a large shining spoon. Try to view your face in its curved\n",
        "surface.\n",
        "n Do you get the image? Is it smaller or larger?\n",
        "n Move the spoon slowly away from your face. Observe the image.\n",
        "How does it change?\n",
        "n Reverse the spoon and repeat the Activity. How does the image\n",
        "look like now?\n",
        "n Compare the characteristics of the image on the two surfaces.\n",
        "The curved surface of a shining spoon could be considered as a curved\n",
        "mirror. The most commonly used type of curved mirror is the spherical\n",
        "mirror. The reflecting surface of such mirrors can be considered to form\n",
        "a part of the surface of a sphere. Such mirrors, whose reflecting surfaces\n",
        "are spherical, are called spherical mirrors. We shall now study about\n",
        "spherical mirrors in some detail.\n",
        "9.2 SPHERICAL MIRRORS\n",
        "The reflecting surface of a spherical mirror may be curved inwards or\n",
        "outwards. A spherical mirror, whose reflecting surface is curved inwards,\n",
        "that is, faces towards the centre of the sphere, is called a concave mirror.\n",
        "A spherical mirror whose reflecting surface is curved outwards, is called\n",
        "a convex mirror. The schematic representation of these mirrors is shown\n",
        "in Fig. 9.1. You may note in these diagrams that the back\n",
        "of the mirror is shaded.\n",
        "You may now understand that the surface of the spoon\n",
        "curved inwards can be approximated to a concave mirror\n",
        "and the surface of the spoon bulged outwards can be\n",
        "approximated to a convex mirror.\n",
        "Before we move further on spherical mirrors, we need to\n",
        "recognise and understand the meaning of a few terms. These\n",
        "terms are commonly used in discussions about spherical\n",
        "mirrors. The centre of the reflecting surface of a spherical\n",
        "mirror is a point called the pole. It lies on the surface of the\n",
        "mirror. The pole is usually represented by the letter P.\"\"\""
      ],
      "metadata": {
        "id": "7xxxy0Xattqg"
      },
      "execution_count": 26,
      "outputs": []
    },
    {
      "cell_type": "code",
      "source": [
        "result=merge_chain.invoke({'text':text})\n",
        "print(result)"
      ],
      "metadata": {
        "colab": {
          "base_uri": "https://localhost:8080/"
        },
        "id": "qwieLzXPuG_X",
        "outputId": "39fc71bd-40ca-44cc-d8c4-98883c9f2bb9"
      },
      "execution_count": 27,
      "outputs": [
        {
          "output_type": "stream",
          "name": "stdout",
          "text": [
            "**Notes on Spherical Mirrors**\n",
            "\n",
            "**Laws of Reflection**\n",
            "\n",
            "1. Angle of incidence = Angle of reflection\n",
            "2. Incident ray, normal, and reflected ray lie in the same plane\n",
            "\n",
            "**Properties of Image Formed by Plane Mirror**\n",
            "\n",
            "- Virtual and erect\n",
            "- Same size as the object\n",
            "- As far behind the mirror as the object is in front of it\n",
            "- Laterally inverted\n",
            "\n",
            "**Activity with a Spoon**\n",
            "\n",
            "- Curved surface of a spoon can be approximated to a spherical mirror\n",
            "- When it's curved inwards, it acts as a concave mirror\n",
            "- When it's curved outwards, it acts as a convex mirror\n",
            "\n",
            "**Types of Spherical Mirrors**\n",
            "\n",
            "1. **Concave Mirror**: Reflecting surface curved inwards, faces towards the centre of the sphere\n",
            "2. **Convex Mirror**: Reflecting surface curved outwards\n",
            "\n",
            "**Important Terms**\n",
            "\n",
            "1. **Pole**: Centre of the reflecting surface of a spherical mirror\n",
            "2. **Normal**: Line perpendicular to the reflecting surface at the point of incidence\n",
            "\n",
            "**Quiz: Spherical Mirrors**\n",
            "\n",
            "**Part 1: Multiple Choice Questions**\n",
            "\n",
            "1. According to the laws of reflection, what is the relationship between the angle of incidence and the angle of reflection?\n",
            "a) Equal\n",
            "b) Opposite\n",
            "c) Not related\n",
            "d) Inversely proportional\n",
            "\n",
            "Answer: a) Equal\n",
            "\n",
            "2. Which type of mirror is formed by the curved surface of a spoon that is curved inwards?\n",
            "a) Convex mirror\n",
            "b) Concave mirror\n",
            "c) Plane mirror\n",
            "d) Spherical mirror\n",
            "\n",
            "Answer: b) Concave mirror\n",
            "\n",
            "3. What is the property of an image formed by a plane mirror?\n",
            "a) Virtual and inverted\n",
            "b) Real and erect\n",
            "c) Virtual and erect\n",
            "d) Real and inverted\n",
            "\n",
            "Answer: c) Virtual and erect\n",
            "\n",
            "4. What happens to the size of the image when the spoon is moved slowly away from your face?\n",
            "a) It becomes larger\n",
            "b) It becomes smaller\n",
            "c) It remains the same\n",
            "d) It disappears\n",
            "\n",
            "Answer: b) It becomes smaller\n",
            "\n",
            "5. What is the term for the centre of the reflecting surface of a spherical mirror?\n",
            "a) Pole\n",
            "b) Centre\n",
            "c) Surface\n",
            "d) Mirror\n",
            "\n",
            "Answer: a) Pole\n",
            "\n",
            "**Part 2: Short Answer Questions**\n",
            "\n",
            "1. Describe the characteristics of an image formed by a plane mirror.\n",
            "\n",
            "Answer: The image formed by a plane mirror is virtual, erect, and of the same size as the object. It is also laterally inverted and appears to be as far behind the mirror as the object is in front of it.\n",
            "\n",
            "2. What is the difference between a concave mirror and a convex mirror?\n",
            "\n",
            "Answer: A concave mirror is a spherical mirror whose reflecting surface is curved inwards, while a convex mirror is a spherical mirror whose reflecting surface is curved outwards.\n",
            "\n",
            "**Part 3: Essay Questions**\n",
            "\n",
            "1. Describe the activity of viewing your face in the curved surface of a spoon.\n",
            "\n",
            "2. Compare the characteristics of the image formed by a concave mirror and a convex mirror.\n",
            "\n",
            "**Answer to Essay Questions:**\n",
            "\n",
            "1. When you view your face in the curved surface of a spoon, you will observe that the curved surface acts as a spherical mirror. If the spoon is curved inwards, it will act as a concave mirror, and if it is curved outwards, it will act as a convex mirror. In both cases, you will see a virtual image of your face, which appears to be upright and of the same size as the object. The image will be laterally inverted, meaning that it will appear to be on the opposite side of the mirror as your actual face.\n",
            "\n",
            "2. The image formed by a concave mirror is real, inverted, and larger than the object. On the other hand, the image formed by a convex mirror is virtual, erect, and smaller than the object. This is because the concave mirror converges light rays, resulting in a real and inverted image, while the convex mirror diverges light rays, resulting in a virtual and erect image.\n"
          ]
        }
      ]
    }
  ]
}