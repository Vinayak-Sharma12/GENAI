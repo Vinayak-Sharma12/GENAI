{
  "nbformat": 4,
  "nbformat_minor": 0,
  "metadata": {
    "colab": {
      "provenance": [],
      "mount_file_id": "1hsc0XEnMwSqdvyFxgb_vJSLHSWMjb4JY",
      "authorship_tag": "ABX9TyOMtWzsgBS9qRzLfIBNe6li",
      "include_colab_link": true
    },
    "kernelspec": {
      "name": "python3",
      "display_name": "Python 3"
    },
    "language_info": {
      "name": "python"
    }
  },
  "cells": [
    {
      "cell_type": "markdown",
      "metadata": {
        "id": "view-in-github",
        "colab_type": "text"
      },
      "source": [
        "<a href=\"https://colab.research.google.com/github/Vinayak-Sharma12/GENAI/blob/main/Xxii_DocumentLoader(PDF%2BText%2BCSV%2BWeb.ipynb\" target=\"_parent\"><img src=\"https://colab.research.google.com/assets/colab-badge.svg\" alt=\"Open In Colab\"/></a>"
      ]
    },
    {
      "cell_type": "markdown",
      "source": [
        "## **PYPDFLOADER**"
      ],
      "metadata": {
        "id": "JFtQBGsY56-t"
      }
    },
    {
      "cell_type": "code",
      "execution_count": 30,
      "metadata": {
        "colab": {
          "base_uri": "https://localhost:8080/"
        },
        "id": "W3i7LyHl0rvu",
        "outputId": "005efb7e-ad19-47de-eab3-ef7ac198108c"
      },
      "outputs": [
        {
          "output_type": "stream",
          "name": "stdout",
          "text": [
            "Requirement already satisfied: langchain_community in /usr/local/lib/python3.11/dist-packages (0.3.21)\n",
            "Requirement already satisfied: pypdf in /usr/local/lib/python3.11/dist-packages (5.4.0)\n",
            "Requirement already satisfied: langchain-core<1.0.0,>=0.3.51 in /usr/local/lib/python3.11/dist-packages (from langchain_community) (0.3.51)\n",
            "Requirement already satisfied: langchain<1.0.0,>=0.3.23 in /usr/local/lib/python3.11/dist-packages (from langchain_community) (0.3.23)\n",
            "Requirement already satisfied: SQLAlchemy<3,>=1.4 in /usr/local/lib/python3.11/dist-packages (from langchain_community) (2.0.40)\n",
            "Requirement already satisfied: requests<3,>=2 in /usr/local/lib/python3.11/dist-packages (from langchain_community) (2.32.3)\n",
            "Requirement already satisfied: PyYAML>=5.3 in /usr/local/lib/python3.11/dist-packages (from langchain_community) (6.0.2)\n",
            "Requirement already satisfied: aiohttp<4.0.0,>=3.8.3 in /usr/local/lib/python3.11/dist-packages (from langchain_community) (3.11.15)\n",
            "Requirement already satisfied: tenacity!=8.4.0,<10,>=8.1.0 in /usr/local/lib/python3.11/dist-packages (from langchain_community) (9.1.2)\n",
            "Requirement already satisfied: dataclasses-json<0.7,>=0.5.7 in /usr/local/lib/python3.11/dist-packages (from langchain_community) (0.6.7)\n",
            "Requirement already satisfied: pydantic-settings<3.0.0,>=2.4.0 in /usr/local/lib/python3.11/dist-packages (from langchain_community) (2.8.1)\n",
            "Requirement already satisfied: langsmith<0.4,>=0.1.125 in /usr/local/lib/python3.11/dist-packages (from langchain_community) (0.3.28)\n",
            "Requirement already satisfied: httpx-sse<1.0.0,>=0.4.0 in /usr/local/lib/python3.11/dist-packages (from langchain_community) (0.4.0)\n",
            "Requirement already satisfied: numpy<3,>=1.26.2 in /usr/local/lib/python3.11/dist-packages (from langchain_community) (2.0.2)\n",
            "Requirement already satisfied: aiohappyeyeballs>=2.3.0 in /usr/local/lib/python3.11/dist-packages (from aiohttp<4.0.0,>=3.8.3->langchain_community) (2.6.1)\n",
            "Requirement already satisfied: aiosignal>=1.1.2 in /usr/local/lib/python3.11/dist-packages (from aiohttp<4.0.0,>=3.8.3->langchain_community) (1.3.2)\n",
            "Requirement already satisfied: attrs>=17.3.0 in /usr/local/lib/python3.11/dist-packages (from aiohttp<4.0.0,>=3.8.3->langchain_community) (25.3.0)\n",
            "Requirement already satisfied: frozenlist>=1.1.1 in /usr/local/lib/python3.11/dist-packages (from aiohttp<4.0.0,>=3.8.3->langchain_community) (1.5.0)\n",
            "Requirement already satisfied: multidict<7.0,>=4.5 in /usr/local/lib/python3.11/dist-packages (from aiohttp<4.0.0,>=3.8.3->langchain_community) (6.4.2)\n",
            "Requirement already satisfied: propcache>=0.2.0 in /usr/local/lib/python3.11/dist-packages (from aiohttp<4.0.0,>=3.8.3->langchain_community) (0.3.1)\n",
            "Requirement already satisfied: yarl<2.0,>=1.17.0 in /usr/local/lib/python3.11/dist-packages (from aiohttp<4.0.0,>=3.8.3->langchain_community) (1.19.0)\n",
            "Requirement already satisfied: marshmallow<4.0.0,>=3.18.0 in /usr/local/lib/python3.11/dist-packages (from dataclasses-json<0.7,>=0.5.7->langchain_community) (3.26.1)\n",
            "Requirement already satisfied: typing-inspect<1,>=0.4.0 in /usr/local/lib/python3.11/dist-packages (from dataclasses-json<0.7,>=0.5.7->langchain_community) (0.9.0)\n",
            "Requirement already satisfied: langchain-text-splitters<1.0.0,>=0.3.8 in /usr/local/lib/python3.11/dist-packages (from langchain<1.0.0,>=0.3.23->langchain_community) (0.3.8)\n",
            "Requirement already satisfied: pydantic<3.0.0,>=2.7.4 in /usr/local/lib/python3.11/dist-packages (from langchain<1.0.0,>=0.3.23->langchain_community) (2.11.3)\n",
            "Requirement already satisfied: jsonpatch<2.0,>=1.33 in /usr/local/lib/python3.11/dist-packages (from langchain-core<1.0.0,>=0.3.51->langchain_community) (1.33)\n",
            "Requirement already satisfied: packaging<25,>=23.2 in /usr/local/lib/python3.11/dist-packages (from langchain-core<1.0.0,>=0.3.51->langchain_community) (24.2)\n",
            "Requirement already satisfied: typing-extensions>=4.7 in /usr/local/lib/python3.11/dist-packages (from langchain-core<1.0.0,>=0.3.51->langchain_community) (4.13.1)\n",
            "Requirement already satisfied: httpx<1,>=0.23.0 in /usr/local/lib/python3.11/dist-packages (from langsmith<0.4,>=0.1.125->langchain_community) (0.28.1)\n",
            "Requirement already satisfied: orjson<4.0.0,>=3.9.14 in /usr/local/lib/python3.11/dist-packages (from langsmith<0.4,>=0.1.125->langchain_community) (3.10.16)\n",
            "Requirement already satisfied: requests-toolbelt<2.0.0,>=1.0.0 in /usr/local/lib/python3.11/dist-packages (from langsmith<0.4,>=0.1.125->langchain_community) (1.0.0)\n",
            "Requirement already satisfied: zstandard<0.24.0,>=0.23.0 in /usr/local/lib/python3.11/dist-packages (from langsmith<0.4,>=0.1.125->langchain_community) (0.23.0)\n",
            "Requirement already satisfied: python-dotenv>=0.21.0 in /usr/local/lib/python3.11/dist-packages (from pydantic-settings<3.0.0,>=2.4.0->langchain_community) (1.1.0)\n",
            "Requirement already satisfied: charset-normalizer<4,>=2 in /usr/local/lib/python3.11/dist-packages (from requests<3,>=2->langchain_community) (3.4.1)\n",
            "Requirement already satisfied: idna<4,>=2.5 in /usr/local/lib/python3.11/dist-packages (from requests<3,>=2->langchain_community) (3.10)\n",
            "Requirement already satisfied: urllib3<3,>=1.21.1 in /usr/local/lib/python3.11/dist-packages (from requests<3,>=2->langchain_community) (2.3.0)\n",
            "Requirement already satisfied: certifi>=2017.4.17 in /usr/local/lib/python3.11/dist-packages (from requests<3,>=2->langchain_community) (2025.1.31)\n",
            "Requirement already satisfied: greenlet>=1 in /usr/local/lib/python3.11/dist-packages (from SQLAlchemy<3,>=1.4->langchain_community) (3.1.1)\n",
            "Requirement already satisfied: anyio in /usr/local/lib/python3.11/dist-packages (from httpx<1,>=0.23.0->langsmith<0.4,>=0.1.125->langchain_community) (4.9.0)\n",
            "Requirement already satisfied: httpcore==1.* in /usr/local/lib/python3.11/dist-packages (from httpx<1,>=0.23.0->langsmith<0.4,>=0.1.125->langchain_community) (1.0.7)\n",
            "Requirement already satisfied: h11<0.15,>=0.13 in /usr/local/lib/python3.11/dist-packages (from httpcore==1.*->httpx<1,>=0.23.0->langsmith<0.4,>=0.1.125->langchain_community) (0.14.0)\n",
            "Requirement already satisfied: jsonpointer>=1.9 in /usr/local/lib/python3.11/dist-packages (from jsonpatch<2.0,>=1.33->langchain-core<1.0.0,>=0.3.51->langchain_community) (3.0.0)\n",
            "Requirement already satisfied: annotated-types>=0.6.0 in /usr/local/lib/python3.11/dist-packages (from pydantic<3.0.0,>=2.7.4->langchain<1.0.0,>=0.3.23->langchain_community) (0.7.0)\n",
            "Requirement already satisfied: pydantic-core==2.33.1 in /usr/local/lib/python3.11/dist-packages (from pydantic<3.0.0,>=2.7.4->langchain<1.0.0,>=0.3.23->langchain_community) (2.33.1)\n",
            "Requirement already satisfied: typing-inspection>=0.4.0 in /usr/local/lib/python3.11/dist-packages (from pydantic<3.0.0,>=2.7.4->langchain<1.0.0,>=0.3.23->langchain_community) (0.4.0)\n",
            "Requirement already satisfied: mypy-extensions>=0.3.0 in /usr/local/lib/python3.11/dist-packages (from typing-inspect<1,>=0.4.0->dataclasses-json<0.7,>=0.5.7->langchain_community) (1.0.0)\n",
            "Requirement already satisfied: sniffio>=1.1 in /usr/local/lib/python3.11/dist-packages (from anyio->httpx<1,>=0.23.0->langsmith<0.4,>=0.1.125->langchain_community) (1.3.1)\n"
          ]
        }
      ],
      "source": [
        "!pip install langchain_community  pypdf"
      ]
    },
    {
      "cell_type": "code",
      "source": [
        "from langchain_community.document_loaders import PyPDFLoader"
      ],
      "metadata": {
        "id": "tA-VmmD-2EGH"
      },
      "execution_count": 31,
      "outputs": []
    },
    {
      "cell_type": "code",
      "source": [
        "loader=PyPDFLoader('/content/GHB PMC RFP (1).pdf')"
      ],
      "metadata": {
        "id": "kbJ43hSQ2Q5Z"
      },
      "execution_count": 46,
      "outputs": []
    },
    {
      "cell_type": "code",
      "source": [
        "docs=loader.load()"
      ],
      "metadata": {
        "id": "1wxEYRAY3YOP"
      },
      "execution_count": 47,
      "outputs": []
    },
    {
      "cell_type": "code",
      "source": [
        "len(docs) # No. of Pages => Convert each page into document object"
      ],
      "metadata": {
        "colab": {
          "base_uri": "https://localhost:8080/"
        },
        "id": "4E8UXeFg3pP3",
        "outputId": "57ee25a6-53da-4b57-ed84-f37042bbae72"
      },
      "execution_count": 48,
      "outputs": [
        {
          "output_type": "execute_result",
          "data": {
            "text/plain": [
              "113"
            ]
          },
          "metadata": {},
          "execution_count": 48
        }
      ]
    },
    {
      "cell_type": "code",
      "source": [
        "print(docs[0].metadata)"
      ],
      "metadata": {
        "colab": {
          "base_uri": "https://localhost:8080/"
        },
        "id": "O7GBQ2di_2l1",
        "outputId": "896e6168-654f-4918-de03-93665d4e3b43"
      },
      "execution_count": 55,
      "outputs": [
        {
          "output_type": "stream",
          "name": "stdout",
          "text": [
            "{'producer': 'macOS Version 14.4.1 (Build 23E224) Quartz PDFContext, AppendMode 1.1', 'creator': 'Microsoft® Word for Microsoft 365', 'creationdate': \"D:20230913062406Z00'00'\", 'author': 'Pritesh Patel', 'moddate': \"D:20240522124058Z00'00'\", 'source': '/content/GHB PMC RFP (1).pdf', 'total_pages': 113, 'page': 0, 'page_label': '1'}\n"
          ]
        }
      ]
    },
    {
      "cell_type": "markdown",
      "source": [
        "**Simple Page**"
      ],
      "metadata": {
        "id": "SBt_hY9N9evi"
      }
    },
    {
      "cell_type": "code",
      "source": [
        "print(docs[0].page_content)"
      ],
      "metadata": {
        "colab": {
          "base_uri": "https://localhost:8080/"
        },
        "id": "iBSAtKl232IW",
        "outputId": "fe0e3f12-8738-40dd-80ef-2200589ea4d6"
      },
      "execution_count": 49,
      "outputs": [
        {
          "output_type": "stream",
          "name": "stdout",
          "text": [
            "GUJARAT HOUSING BOARD  \n",
            "OFFICE OF THE EXECUTIVE ENGINEER PRAGATINAGAR,  \n",
            "NARANPURA, AHMEDABAD: -380 013, GUJARAT.                                                     \n",
            "Phone No: 079-27447011 \n",
            "Fax No: 079-27447016 \n",
            "  \n",
            "REQUEST FOR PROPOSAL (RFP)  \n",
            "  \n",
            "FOR \n",
            " \n",
            "SELECTION & EMPANELMENT OF PROJECT MANAGEMENT \n",
            "CONSULTANT FOR V ARIOUS REDEVELOPMENT PROJECTS TO BE \n",
            "UNDERTAKEN BY GUJARAT HOUSING BOARD.\n"
          ]
        }
      ]
    },
    {
      "cell_type": "markdown",
      "source": [
        "**Page with Table**"
      ],
      "metadata": {
        "id": "-CXHENhN9kKZ"
      }
    },
    {
      "cell_type": "code",
      "source": [
        "print(docs[1].page_content)"
      ],
      "metadata": {
        "colab": {
          "base_uri": "https://localhost:8080/"
        },
        "id": "msBW4prE4Ckd",
        "outputId": "114b43dc-c0f5-4177-dc21-9f2e64978ad9"
      },
      "execution_count": 50,
      "outputs": [
        {
          "output_type": "stream",
          "name": "stdout",
          "text": [
            "GUJARAT HOUSING BOARD - AHMEDBAD \n",
            "2 \n",
            "GUJARAT HOUSING BOARD  \n",
            "Pragati Nagar, Naranpura,  \n",
            "Ahmedabad - 380013  \n",
            "Office of the Executive Engineer, Gujarat Housing Board, Ahmedabad under the Housing Commissioner, \n",
            "Gujarat Housing Board invites online tender for redevelopment work as under: \n",
            "  \n",
            "Name of Work  1) Tender Fee  \n",
            "2) EMD (Rs.)  \n",
            "Date & time of \n",
            "upload & \n",
            "submission of \n",
            "tender \n",
            "Request for Proposal (RFP) for Selection & \n",
            "Empanelment of Project Management \n",
            "Consultant for Various Redevelopment \n",
            "Projects to be Undertaken by Gujarat Housing \n",
            "Board.  \n",
            "1) Rs. 20,000/-  \n",
            "2) Rs.50,00,000/-  \n",
            "12/09/2023 \n",
            "to  \n",
            "13/10/2023 by  \n",
            "18:00 hrs  \n",
            "1. For more information and to download the tender documents, login to : - \n",
            "(https://tender.nprocure.com) \n",
            "2. Pre-bid meeting will be on dt 26/09/2023 at 12:00 hrs in Conference Room of Gujarat Housing \n",
            "Board, Pragati Nagar, Naranpura. Ahmedabad \n",
            "3. Hard copy of technical bid, tender fee, EMD and other documents should be delivered to Chief \n",
            "Engineer, 6th floor, Gujarat Housing Board, Ahmedabad on or before dated 16/10/2023. By Courier, \n",
            "by Post or by Hand delivery.  \n",
            "4. Conditional tender will not be accepted.  \n",
            "5. Please note that all related details, notification, corrigendum & additional alteration will be \n",
            "uploaded on above website.  \n",
            "6. The Housing Commissioner, Gujarat Housing Board, Ahmedabad shall have the right to accept or \n",
            "reject one or all tenders without giving any reasons.   \n",
            "7. This tender notice will be considered as part of the Contract Documents.  \n",
            "                                                                  \n",
            "                                                          -----Sd-----  \n",
            "Executive Engineer, Gujarat Housing Board, Ahmedabad\n"
          ]
        }
      ]
    },
    {
      "cell_type": "code",
      "source": [
        "print(docs[2].page_content)"
      ],
      "metadata": {
        "colab": {
          "base_uri": "https://localhost:8080/"
        },
        "id": "-DoKZy_X4UqS",
        "outputId": "d78806e2-827c-4baa-c6c0-f2c002086a63"
      },
      "execution_count": 51,
      "outputs": [
        {
          "output_type": "stream",
          "name": "stdout",
          "text": [
            "GUJARAT HOUSING BOARD - AHMEDBAD \n",
            "3 \n",
            "Table of Contents \n",
            " \n",
            "1 DISCLAIMER .............................................................................................................. 5 \n",
            "2 FACT SHEET ............................................................................................................... 7 \n",
            "3 E-TENDERING ONLINE SUBMISSION PROCESS .............................................. 10 \n",
            "4 PROJECT BRIEF ....................................................................................................... 12 \n",
            "5 INFORMATION AND INSTRUCTION TO APPLICANT FIRMS .......................... 14 \n",
            "5.1 GENERAL: .................................................................................................................... 14 \n",
            "5.2 DEFINITIONS ............................................................................................................... 16 \n",
            "5.3 CLARIFICATIONS AND AMENDMENTS TO RFP DOCUMENTS ......................... 18 \n",
            "5.4 PREPARATION OF THE PROPOSAL ......................................................................... 18 \n",
            "5.5 ELIGIBILITY AND METHOD OF SUBMISSION OF RFP ....................................... 18 \n",
            "5.6 SELECTION PROCESS ................................................................................................ 19 \n",
            "5.7 NEGOTIATION ............................................................................................................. 20 \n",
            "5.8 TENDER FEE AND EARNEST MONEY DEPOSIT. .................................................. 20 \n",
            "5.9 PRE-BID MEETING ..................................................................................................... 21 \n",
            "6 ELIGIBILITY CRITERIA FOR QUALIFICATION ................................................. 22 \n",
            "6.1 BASIC ELIGIBILITY CRITERIA ................................................................................ 22 \n",
            "6.2 TECHNICAL CAPACITY ............................................................................................. 22 \n",
            "6.3 FINANCIAL CAPACITY .............................................................................................. 22 \n",
            "CRITERIA FOR EV ALUATION .............................................................................................. 22 \n",
            "6.4 GENERAL ..................................................................................................................... 22 \n",
            "6.5 EV ALUATION OF TECHNICAL PROPOSALS .......................................................... 23 \n",
            "6.6 EV ALUATION OF FINANCIAL PROPOSALS ........................................................... 24 \n",
            "7 SUBMISSION, RECEIPT, AND OPENING OF PROPOSALS ............................... 25 \n",
            "8 PROPOSAL EV ALUATION ...................................................................................... 26 \n",
            "8.1 GENERAL: .................................................................................................................... 26 \n",
            "8.2 EV ALUATION OF TECHNICAL PROPOSALS: ........................................................ 26 \n",
            "8.3 SELECTION PROCESS ................................................................................................ 26 \n",
            "8.4 AWARD OF CONTRACT: ............................................................................................ 26 \n",
            "8.5 CONFIDENTIALITY: ................................................................................................... 27 \n",
            "8.6 MODE OF EXECUTION .............................................................................................. 27 \n",
            "9 TERMS OF REFERENCE FOR PROJECT MANAGEMENT ................................ 28\n"
          ]
        }
      ]
    },
    {
      "cell_type": "markdown",
      "source": [
        "Not Correct"
      ],
      "metadata": {
        "id": "y-vOE6PD5OrC"
      }
    },
    {
      "cell_type": "code",
      "source": [
        "print(docs[22].page_content) # Table Format"
      ],
      "metadata": {
        "colab": {
          "base_uri": "https://localhost:8080/"
        },
        "id": "Fc0tiQ-p48Vy",
        "outputId": "4ec950b3-3897-4171-b569-934efa6c045e"
      },
      "execution_count": 17,
      "outputs": [
        {
          "output_type": "stream",
          "name": "stdout",
          "text": [
            "GUJARAT HOUSING BOARD - AHMEDBAD \n",
            "23 \n",
            "6.5 EV ALUATION OF TECHNICAL PROPOSALS \n",
            "In the first stage, the Technical Proposal will be evaluated based on Applicant's experience, \n",
            "its understanding of TOR, proposed methodol ogy and Work Plan, and the experience of \n",
            "Key Personnel. Only those Applicants whose Technical Proposals get a score of 80 (Eighty) \n",
            "marks or more out of 100 (one hundred) shall qualify for further consideration. \n",
            "The scoring criteria to be used for evaluation shall be as follows: \n",
            "Group \n",
            "No Parameter Max. \n",
            "Score Criteria \n",
            "1 Relevant \n",
            "Experience of the \n",
            "Consultant’s Firm \n",
            "in last ten years \n",
            "The Experience \n",
            "should     include \n",
            "Architectural/Mas\n",
            "ter Planning and \n",
            "Concept Design, \n",
            "/Review \n",
            "Engineering and \n",
            "PMC. \n",
            "15 1. Experience in High rise Residential/ \n",
            "Commercial/Institutional/ Infrastructure projects \n",
            "A Project Value > Rs. 200.00 Cr.   \n",
            "(5 marks per Project) 3 Projects \n",
            "Each project: \n",
            "- Architectural Master Planning and \n",
            "Concept Design- OR \n",
            "- Review Engineering and PMC \n",
            "15 \n",
            "B Project Value between Rs. 150.00 Cr \n",
            "to 200.00 Cr.   \n",
            "(3 marks per Project) 5 Projects \n",
            "Each project: \n",
            "- Architectural Master Planning and  \n",
            "Concept Design- OR \n",
            "- Review Engineering and PMC \n",
            "15 \n",
            "C Project Value between Rs. 100.00 Cr \n",
            "to 150.00 Cr.  \n",
            "(1 marks per Project) per projects \n",
            "Each project: \n",
            "- Architectural Master Planning and \n",
            "Concept Design OR \n",
            "- Review Engineering and PMC \n",
            "15 \n",
            "Bidder shall quote projects against all three categories A,B,C. Marks  shall be considered as \n",
            "highest of three. \n",
            "2 Experience in \n",
            "structural design \n",
            "using alternative \n",
            "Technology \n",
            "(other than \n",
            "Traditional) \n",
            "5 A Conventional + material specified in SOR 03 \n",
            "B Alternative technology in addition to \n",
            "conventional (e.g. Pre-cast/alternative \n",
            "technology design) \n",
            "02 Projects (02 marks per Project) \n",
            "02 \n",
            " \n",
            "3 Proposed \n",
            "methodology and \n",
            "work plan \n",
            "20  Understanding TOR 10 \n",
            " Quality of methodology 10 \n",
            " \n",
            "4 Relevant \n",
            "experience of the \n",
            "key personnel \n",
            "30 \n",
            "Personal \n",
            "No. of \n",
            "person \n",
            "Mark per \n",
            "person \n",
            "Total \n",
            "marks \n",
            "Team Leader (Core \n",
            "Team) 1 5 5\n"
          ]
        }
      ]
    },
    {
      "cell_type": "code",
      "source": [
        "print(docs[101].page_content)"
      ],
      "metadata": {
        "colab": {
          "base_uri": "https://localhost:8080/"
        },
        "id": "5Lw64Kbl5nQR",
        "outputId": "4d3f128f-ca12-48e7-a8f7-4a14f1da5f7b"
      },
      "execution_count": 18,
      "outputs": [
        {
          "output_type": "stream",
          "name": "stdout",
          "text": [
            "GUJARAT HOUSING BOARD - AHMEDBAD \n",
            "102 \n",
            "Sr. \n",
            "No. Division City Name of Colony Plot Area \n",
            "(sq m.) \n",
            "No. of \n",
            "DUs \n",
            "Project \n",
            "Duration  \n",
            "Proposed PHC \n",
            "Carpet Area (sq \n",
            "m.) \n",
            "48 2,683.09 \n",
            "13 Ahmedabad Amraiwadi 20 LIG + 4 Shops + 4 Stalls Shivnagar 1,564.00 20 16 843.00 \n",
            "14 Ahmedabad Vastrapur 72 LIG. Sanghamitra + 48 Anand Vihar 5,532.00 120 22 5,947.20 \n",
            "15 \n",
            "Ahmedabad Amraiwadi 84 LIG Omnagar \n",
            "18,465.52 \n",
            "84 \n",
            "28 \n",
            "2,615.42 \n",
            "Ahmedabad Amraiwadi 96 EWS. Ambika 96 2,880.00 \n",
            "Ahmedabad Amraiwadi 96 EWS. Hanuman 96 2,880.00 \n",
            "Ahmedabad Amraiwadi 96 EWS Lakshminagar 96 3,495.74 \n",
            "16 Ahmedabad Amraiwadi 84 LIG. Shivshaktinagar 4,525.61 84 19 2,615.42 \n",
            "17 Ahmedabad Nehrunagar 24 MIG. Shastri Park 2,070.16 24 19 2,002.56 \n",
            "18 Ahmedabad Nehrunagar 42 LIG. Subhash Park 2,654.79 42 22 4,918.03 \n",
            "19 Ahmedabad Sola 768 LIG. Sola. (Ganesh, Shivalay, Shrinagar) 33,535.00 768 34 24,503.81 \n",
            "20 \n",
            "Ahmedabad Khokhara 900 EWS. Rishikesh Khokhra \n",
            "99,402.00 \n",
            "900 \n",
            "40 \n",
            "27,000.00 \n",
            "Ahmedabad Khokhara 588 EWS. Dhiraj Khokhra 588 17,640.00 \n",
            "Ahmedabad Khokhara 312 EWS. Dhiraj Khokhra 312 9,360.00 \n",
            "Ahmedabad Khokhara 192 EWS. Dhiraj Khokhra 192 5,760.00 \n",
            "21 Ahmedabad Vadaj 6 MIG. Ratnadeep Apartment 5,517.31 6 22 377.83 \n",
            "Ahmedabad Vadaj 120 Urban Gaganvihar 120 3,600.00 \n",
            "22 Ahmedabad Vastrapur 36 EWS. Vidhyanagar Flats 5,100.00 36 16 1,080.00 \n",
            "23 Ahmedabad Bapunagar 360 LIG. Vaishali 18,677.00 360 34 17,599.68 \n",
            "24 \n",
            "Ahmedabad Krushnanagar 144 LIG. Balakrishnagar (144 DU out of 360) \n",
            "16,002.00 \n",
            "144 \n",
            "28 \n",
            "6,648.77 \n",
            "Ahmedabad Krushnanagar 120 LIG Abhinav Vibhag 1 & 2  (120 out of 204 \n",
            "DU) 120 4,443.60 \n",
            "25 Ahmedabad Vadaj 36 EWS. Kiran Park 2,204.80 36 16 1,264.24 \n",
            "26 Ahmedabad Amraiwadi 456 LIG. Ekta 10,797.00 456 28 13,680.00 \n",
            "27 Ahmedabad Naroda 312 Dr. Baba Saheb Ambedkar Apartment 7,761.00 312 28 9,360.00\n"
          ]
        }
      ]
    },
    {
      "cell_type": "markdown",
      "source": [
        "### **PyPDFPLUMBER** -> Can't Extract Tables but More good extraction of text than PyPDF and more meta data"
      ],
      "metadata": {
        "id": "oxpGgLIs9tcb"
      }
    },
    {
      "cell_type": "markdown",
      "source": [
        "## **TEXTLOADER**"
      ],
      "metadata": {
        "id": "EVLyjfl5ANYN"
      }
    },
    {
      "cell_type": "code",
      "source": [
        "from langchain_community.document_loaders import TextLoader"
      ],
      "metadata": {
        "id": "TjOza6BfB82_"
      },
      "execution_count": 56,
      "outputs": []
    },
    {
      "cell_type": "code",
      "source": [
        "loader=TextLoader('/content/GHB PMC RFP (1).txt')"
      ],
      "metadata": {
        "id": "-L96f3x1CI3w"
      },
      "execution_count": 57,
      "outputs": []
    },
    {
      "cell_type": "code",
      "source": [
        "docs=loader.load()"
      ],
      "metadata": {
        "id": "4WnLWrpHCa7P"
      },
      "execution_count": 58,
      "outputs": []
    },
    {
      "cell_type": "code",
      "source": [
        "len(docs)"
      ],
      "metadata": {
        "colab": {
          "base_uri": "https://localhost:8080/"
        },
        "id": "Ic1O8tcsCndW",
        "outputId": "b7c3375d-f67e-40c6-fa0a-2bb65e6a21f2"
      },
      "execution_count": 60,
      "outputs": [
        {
          "output_type": "execute_result",
          "data": {
            "text/plain": [
              "1"
            ]
          },
          "metadata": {},
          "execution_count": 60
        }
      ]
    },
    {
      "cell_type": "code",
      "source": [
        "docs"
      ],
      "metadata": {
        "colab": {
          "base_uri": "https://localhost:8080/"
        },
        "id": "cR_Qk48fCdAD",
        "outputId": "3f2e58d9-2c74-4384-f1e7-eea1954b1861"
      },
      "execution_count": 63,
      "outputs": [
        {
          "output_type": "execute_result",
          "data": {
            "text/plain": [
              "[Document(metadata={'source': '/content/GHB PMC RFP (1).txt'}, page_content='GUJARAT HOUSING BOARD\\nOFFICE OF THE EXECUTIVE ENGINEER PRAGATINAGAR,\\nNARANPURA, AHMEDABAD: -380 013, GUJARAT.\\nPhone No: 079-27447011\\nFax No: 079-27447016\\nREQUEST FOR PROPOSAL (RFP)\\nFOR\\nSELECTION & EMPANELMENT OF PROJECT MANAGEMENT\\nCONSULTANT FOR VARIOUS REDEVELOPMENT PROJECTS TO BE\\nUNDERTAKEN BY GUJARAT HOUSING BOARD.\\n\\n\\x0cGUJARAT HOUSING BOARD - AHMEDBAD\\n\\nGUJARAT HOUSING BOARD\\nPragati Nagar, Naranpura,\\nAhmedabad - 380013\\nOffice of the Executive Engineer, Gujarat Housing Board, Ahmedabad under the Housing Commissioner,\\nGujarat Housing Board invites online tender for redevelopment work as under:\\nName of Work\\n\\n1) Tender Fee\\n\\nRequest for Proposal (RFP) for Selection &\\nEmpanelment of Project Management\\nConsultant for Various Redevelopment\\nProjects to be Undertaken by Gujarat Housing\\nBoard.\\n\\n2) EMD (Rs.)\\n\\nDate & time of\\nupload &\\nsubmission of\\ntender\\n\\n1) Rs. 20,000/-\\n\\n12/09/2023\\n\\n2) Rs.50,00,000/-\\n\\nto\\n13/10/2023 by\\n18:00 hrs\\n\\n1. For\\n2.\\n3.\\n4.\\n5.\\n6.\\n7.\\n\\nmore information and to download the tender documents, login to :(https://tender.nprocure.com)\\nPre-bid meeting will be on dt 26/09/2023 at 12:00 hrs in Conference Room of Gujarat Housing\\nBoard, Pragati Nagar, Naranpura. Ahmedabad\\nHard copy of technical bid, tender fee, EMD and other documents should be delivered to Chief\\nEngineer, 6th floor, Gujarat Housing Board, Ahmedabad on or before dated 16/10/2023. By Courier,\\nby Post or by Hand delivery.\\nConditional tender will not be accepted.\\nPlease note that all related details, notification, corrigendum & additional alteration will be\\nuploaded on above website.\\nThe Housing Commissioner, Gujarat Housing Board, Ahmedabad shall have the right to accept or\\nreject one or all tenders without giving any reasons.\\nThis tender notice will be considered as part of the Contract Documents.\\n-----Sd----Executive Engineer, Gujarat Housing Board, Ahmedabad\\n\\n2\\n\\n\\x0cGUJARAT HOUSING BOARD - AHMEDBAD\\n\\nTable of Contents\\n1\\n\\nDISCLAIMER .............................................................................................................. 5\\n\\n2\\n\\nFACT SHEET ............................................................................................................... 7\\n\\n3\\n\\nE-TENDERING ONLINE SUBMISSION PROCESS .............................................. 10\\n\\n4\\n\\nPROJECT BRIEF ....................................................................................................... 12\\n\\n5\\n\\nINFORMATION AND INSTRUCTION TO APPLICANT FIRMS .......................... 14\\n\\n5.1\\n\\nGENERAL: .................................................................................................................... 14\\n\\n5.2\\n\\nDEFINITIONS ............................................................................................................... 16\\n\\n5.3\\n\\nCLARIFICATIONS AND AMENDMENTS TO RFP DOCUMENTS ......................... 18\\n\\n5.4\\n\\nPREPARATION OF THE PROPOSAL ......................................................................... 18\\n\\n5.5\\n\\nELIGIBILITY AND METHOD OF SUBMISSION OF RFP ....................................... 18\\n\\n5.6\\n\\nSELECTION PROCESS ................................................................................................ 19\\n\\n5.7\\n\\nNEGOTIATION ............................................................................................................. 20\\n\\n5.8\\n\\nTENDER FEE AND EARNEST MONEY DEPOSIT. .................................................. 20\\n\\n5.9\\n\\nPRE-BID MEETING ..................................................................................................... 21\\n\\n6\\n\\nELIGIBILITY CRITERIA FOR QUALIFICATION ................................................. 22\\n\\n6.1\\n\\nBASIC ELIGIBILITY CRITERIA ................................................................................ 22\\n\\n6.2\\n\\nTECHNICAL CAPACITY ............................................................................................. 22\\n\\n6.3\\n\\nFINANCIAL CAPACITY .............................................................................................. 22\\n\\nCRITERIA FOR EVALUATION .............................................................................................. 22\\n6.4\\n\\nGENERAL ..................................................................................................................... 22\\n\\n6.5\\n\\nEVALUATION OF TECHNICAL PROPOSALS.......................................................... 23\\n\\n6.6\\n\\nEVALUATION OF FINANCIAL PROPOSALS ........................................................... 24\\n\\n7\\n\\nSUBMISSION, RECEIPT, AND OPENING OF PROPOSALS ............................... 25\\n\\n8\\n\\nPROPOSAL EVALUATION ...................................................................................... 26\\n\\n8.1\\n\\nGENERAL: .................................................................................................................... 26\\n\\n8.2\\n\\nEVALUATION OF TECHNICAL PROPOSALS: ........................................................ 26\\n\\n8.3\\n\\nSELECTION PROCESS ................................................................................................ 26\\n\\n8.4\\n\\nAWARD OF CONTRACT: ............................................................................................ 26\\n\\n8.5\\n\\nCONFIDENTIALITY: ................................................................................................... 27\\n\\n8.6\\n\\nMODE OF EXECUTION .............................................................................................. 27\\n\\n9\\n\\nTERMS OF REFERENCE FOR PROJECT MANAGEMENT ................................ 28\\n\\n3\\n\\n\\x0cGUJARAT HOUSING BOARD - AHMEDBAD\\n9.1\\n\\nSCOPE OF WORK UNDER GHB REDEVELOPMENT PROJECTS: ....................... 28\\n\\n9.2 Scope of Works for Greenfield/Brownfield Works other than GHB Redevelopment\\nProjects ...................................................................................................................................... 34\\n9.3\\n\\nPROJECT TIMELINES ................................................................................................. 43\\n\\n9.4\\n\\nTEAM COMPOSITION ................................................................................................ 43\\n\\n9.5\\n\\nFACILITIES: .................................................................................................................. 44\\n\\n9.6\\n\\nREPORTS....................................................................................................................... 44\\n\\n9.7\\n\\nADDITIONAL SERVICES: .......................................................................................... 45\\n\\n9.8\\n\\nPENALTIES: .................................................................................................................. 45\\n\\n9.9\\n\\nTERMS & PAYMENT SCHEDULE: ............................................................................ 46\\n\\n9.10 PREPARATION OF PROPOSALS ............................................................................... 61\\n10\\n\\nCONTRACT AGREEMENT AND GENERAL CONDITIONS OF CONTRACT62\\n\\n11\\nANNEXURE: I: FORM OF BANK GUARANTEE FOR PERFORMANCE\\nSECURITY ............................................................................................................................... 81\\n12\\n\\nANNEXURE II: BANK GUARANTEE FOR EARNEST MONEY DEPOSIT ... 84\\n\\n13\\n\\nANNEXURE III: FINANCIAL BID / PRICE BID ................................................ 91\\n\\n14\\n\\nANNEXURE IV: FORMAT FOR PRE-BID QUERIES ...................................... 100\\n\\nAPPENDIX 1: LIST OF PROJECTS ..................................................................................... 101\\n15\\n\\nAPPENDIX 2 : PROPOSED TEAM COMPOSITION.........................................110\\n\\n4\\n\\n\\x0cGUJARAT HOUSING BOARD - AHMEDBAD\\n\\n1 DISCLAIMER\\nThe information contained in this Request for Proposal document (\"RFP\") or subsequently\\nprovided to Applicants, whether verbally or in documentary or any other form by or on behalf of\\nthe Authority or any of its employees or advisers, is provided to Applicants on the terms and\\nconditions set out in this RFP and such other terms and conditions subject to which such\\ninformation is provided.\\nThis RFP is not an agreement and is neither an offer nor invitation by the Authority to the\\nprospective Applicants or any other person. The purpose of this RFP is to provide interested\\nparties with information that may be useful to them in the formulation of their Proposals pursuant\\nto this RFP. This RFP includes statements, which reflect various assumptions and assessments\\narrived at by the Authority in relation to the Project. Such assumptions, assessments and\\nstatements do not purport to contain all the information that each Applicant may require. This\\nRFP may not be appropriate for all persons, and it is not possible for the Authority, its employees,\\nor advisers to consider the objectives, technical expertise and particular needs of each party who\\nreads or uses this RFP. The assumptions, assessments, statements and information contained in\\nthis RFP, may not be complete, accurate, adequate or correct. Each Applicant should, therefore,\\nconduct its own investigations and analysis and should check the accuracy, adequacy,\\ncorrectness, reliability and completeness of the assumptions, assessments and information\\ncontained in this RFP and obtain independent advice from appropriate sources.\\nInformation provided in this RFP to the Applicants is on a wide range of matters, some of which\\ndepends upon interpretation of law. The information given is not an exhaustive account of\\nstatutory requirements and should not be regarded as a complete or authoritative statement of\\nlaw. The Authority accepts no responsibility for the accuracy or otherwise for any interpretation\\nor opinion on the law expressed herein.\\nThe Authority, its employees and advisers make no representation or warranty and shall have no\\nliability to any person including any Applicant under any law, statute, rules or regulations or tort,\\nprinciples of restitution or unjust enrichment or otherwise for any loss, damages, cost or expense\\nwhich may arise from or be incurred or suffered on account of anything contained in this RFP or\\notherwise, including the accuracy, adequacy, correctness, reliability or completeness of the RFP\\nand any assessment, assumption, statement or information contained therein or deemed to form\\npart of this RFP or arising in any way in this Selection Process.\\nThe Authority also accepts no liability of any nature whether resulting from negligence or\\notherwise however caused arising from reliance of any Applicant upon the statements contained\\nin this RFP.\\nThe Authority may in its absolute discretion, but without being under any obligation to do so,\\nupdate, amend or supplement the information, assessment or assumption contained in this RFP.\\nThe issue of this RFP does not imply that the Authority is bound to select an Applicant or to\\nappoint the Selected Applicant, as the case may be, for the Project and the Authority reserves the\\nright to reject all or any of the Proposals without assigning any reasons whatsoever.\\n\\n5\\n\\n\\x0cGUJARAT HOUSING BOARD - AHMEDBAD\\nThe Applicant shall bear all its costs associated with or relating to the preparation and submission\\nof its Proposal including but not limited to preparation, copying, postage, delivery fees, expenses\\nassociated with any demonstrations or presentations which may be required by the Authority or\\nany other costs incurred in connection with or relating to its Proposal. All such costs and expenses\\nwill remain with the Applicant and the Authority shall not be liable in any manner whatsoever\\nfor the same or for any other costs or other expenses incurred by an Applicant in preparation or\\nsubmission of the Proposal, regardless of the conduct or outcome of the Selection Process.\\n\\n6\\n\\n\\x0cGUJARAT HOUSING BOARD - AHMEDBAD\\n\\n2 FACT SHEET\\nSr. No.\\n\\nInformation\\n\\nDetails\\n\\nA. Introduction\\n\\n1\\n\\nName of Project\\n\\nRequest For Proposal (RFP) For Selection &\\nEmpanelment Of Project Management Consultant\\nFor Various Projects To Be Undertaken By Gujarat\\nHousing Board.\\nRs. 20,000/- Only in form of DD/Bankers Cheque by\\nDemand Draft or Bankers cheque in favor of the\\n“The Executive Engineer, Gujarat Housing Board,\\nPragatinagar, Naranpura, Ahmedabad, 380013.\\nRs. 50,00,000/- Only in form of DD (Demand Draft)\\n5 % of Contract Value i.e. (Total Carpet Area of\\nwork allotted X Approved Empaneled Rate per Sqm\\nof Carpet Area) in form of BG to be submitted\\nwithin 10 days of issuance of LOA.\\nComplete 5% of Performance Security shall be\\nreleased on issuance building use permission or\\nPhysical Project completion whichever is later.\\n5 % of Contract Value i.e. (Total Carpet Area of\\nwork allotted X Approved Empaneled Rate per Sqm\\nof Carpet Area)\\n2.5 % shall be deposited by bidder in form of\\nFDR/BG which to be submitted within 10 days of\\nissuance of LOA.\\nRemaining 2.5 % will be deducted from RA bills at\\nthe rate of 5 % of each bill till SD reaches 5%)\\n2.5% shall be released on successful handing over\\nof PHC DUs to beneficiaries.\\n2.5% shall be released on completion of DLP.\\n\\n2\\n\\nTender Fees\\n\\n3\\n\\nEarnest Money Deposit (EMD)\\n\\n4\\n\\nPerformance Security\\n\\n5\\n\\nSecurity Deposit\\n\\n6\\n\\nDefects liability Period\\n\\n10 Years (from date of signing of contract)\\n\\n7\\n\\nLiquidity Damages\\n\\nIf established delay in approval of drawings and\\ndelay in progress, then liquidated damages will be\\n0.8 % of contract value per week for delay beyond\\noriginal/extended time limit maximum up to 10% of\\nContact Value.\\n\\n8\\n\\nThe Employer/ Nodal Agency\\n\\nGujarat Housing Board, Pragati Nagar,\\nNaranpura, Ahmedabad: 380 013\\n\\n7\\n\\n\\x0cGUJARAT HOUSING BOARD - AHMEDBAD\\nRepresentative/Contact Person\\nand Address of the Employer/\\n9\\nCommunication\\nB. Bid Language and Validity\\n10 Language of Bid\\n11 Bid Validity Period\\nC. Important Dates\\n\\nThe Executive Engineer, Gujarat Housing Board,\\nPragatinagar, Naranpura, Ahmedabad, 380 013\\nEnglish\\n120 days from due date for submission of bid\\n\\n12\\n\\nRFP Publish Date\\n\\n12/09/2023\\n\\n13\\n\\nBID Document download start\\ndate\\n\\n12/09/2023\\n\\n14\\n\\nQuery Submission\\n\\nTo be submitted via e-mail only.\\nRefer Appendix IV for Pre-Bid query format\\n\\n15\\n\\nPre-Bid Meeting\\n\\n26/09/2023 at 12 PM at GHB Head Office\\nAhmedabad\\n\\n16\\n\\nLast date for submission of\\nwritten queries for clarifications\\n\\n23/09/2023\\n\\n17\\n\\nBid Submission Start Date\\n\\n18\\n\\nContact Information\\n\\n19\\n\\nBid Submission End Date\\n\\nOn or after the uploading of common set of\\ndeviation.\\nThe Executive Engineer, Gujarat Housing Board,\\nPragatinagar, Naranpura, Ahmedabad, 380013.\\neeabdghb21@gmail.com\\nMob: +91 99784 41344 (Deputy Exe. Engg)\\nMob: +91 9099996553 (Exe. Engg)\\n13/10/2023\\n\\nPlace, Time and Date of opening\\nof technical proposals received\\n20\\nNext Working Day\\nin response to the Bid Document\\nnotice\\nPlace, Time and Date of technical\\nby qualified To be intimated Later\\n21 presentations\\nbidders.\\nPlace, Time and Date of opening\\nof financial proposals received in\\n22\\nTo be intimated later\\nresponse to the Bid Document\\nNotice\\nD. Mode of Selection\\nThe empaneled Project Management Consultants shall be selected on Least Cost Based\\n23 Selection (LCBS).\\nE. Contract Agreement\\n\\n8\\n\\n\\x0cGUJARAT HOUSING BOARD - AHMEDBAD\\n24\\n\\nSigning of Contract Agreement\\n\\nWithin 7 days after the declaration of results\\n\\n25\\n\\nProject Implementation\\nPeriod/Consultancy Period\\n\\nAs per Work Order issued to PMC of the project.\\n\\n9\\n\\n\\x0cGUJARAT HOUSING BOARD - AHMEDBAD\\n\\n3 E-TENDERING ONLINE SUBMISSION PROCESS\\n3.1\\n3.2\\n3.3\\n\\n3.4\\n3.5\\n3.6\\n3.7\\n3.8\\n3.9\\n3.10\\n\\n3.11\\n3.12\\n3.13\\n3.14\\n3.15\\n3.16\\n3.17\\n3.18\\n3.19\\n3.20\\n\\nBidders wishes to participate in this tender will have to register on\\nhttps://tender.nprocure.com\\nBid Document shall be available on the above-mentioned web portal fromdate specified\\nin FACT SHEET.\\nBidders who wish to participate in online tender will have to procure /should have legally\\nvalid digital certificate (class-III) as per Information Technology Act-2000 using which\\nthey can sign their electronic bids. Bidder can procure the same from any of the license\\nauthority of India or cancontact (n) Code Solution a division of GNFC Ltd. who are license\\nauthority by Govt. of India.\\nBidders who already have a valid digital certificate need not procure a new digital\\ncertificate.\\nBidder can prepare & edit their offers number of times before last date and time of tender\\nsubmission.After tender submission date & time bidder cannot edit offer submitted in\\nany case. No writtenor online request in this regard shall be granted.\\nBidder shall submit their offer i.e., pre-qualification bid as well as technical bid & price\\nbid in electronic format only on nprocure only up to time and date shown above after\\ndigitally signing the same.\\nEmployer will not be responsible for non-submission/uploading of offer in time due to\\nelectronic/electrical or any other reason.\\nOffers submitted without digitally signed will not be accepted.\\nBidder shall pay Not refundable Tender fee as specified in FACT SHEET by DD/Bankers\\ncheque in favor of the “Gujarat Housing board, Ahmedabad.” payable at Ahmedabad.\\nBid security shall be in the form of DD/Bankers Check in favor of the “Executive Engineer,\\nGujarat Housing board, Ahmedabad.” Payable at AHMEDABAD. from any bank listed.\\nB.G. shall be validup to at least 180 days. D.D. issued after the last date of submission of\\nbid shall not be considered or accepted in any case.\\nAny bidders fail to pay Tender fee, E.M.D. in Original and physical form as above shall\\nnot be considered in any case.\\nBidder shall have to submit DD/Banker’s cheque of Tender fee, DD against EMD and other\\ndocuments as mentioned above in physical form so as to reach on date shown above during\\noffice hours at 6th Floor Chief Engineer’s by R.P.A.D./ Speed Post only.\\nAny addition / alteration/ corrigendum issued by GHB till the last date of uploading will\\nhave to consider by the bidder for quoting the rate in the offer. The bidder himself will be\\nheld responsible in this matter.\\nBidder shall have to submit unconditional offer without differing from any of the tender\\ncondition.ie. Conditional tender will not be accepted in any circumstances.\\nOnline opening of pre-qualification bid will be held in Conference Room, 7th Floor, Gujarat\\nHousing Board, Pragatinagar, Naranpura, Ahmedabad, on date and time shown above.\\nIntending bidder or their representative who wish to remain present at the time of tender\\nopeningcan do so.\\nAfter evaluation of pre-qualification bid/ technical bid, price bid of only those bidders\\nwould beopened online who are found to be successfully qualify.\\nThe tender fee will not be refunded under any circumstances.\\nBid proposal without tender fee and EMD also, which do not fulfill all or any of the\\ncondition orsubmitted incomplete in any respect will be rejected.\\nThis notice shall a part of tender document.\\n10\\n\\n\\x0cGUJARAT HOUSING BOARD - AHMEDBAD\\n3.21\\n3.22\\n3.23\\n\\nThe bidder shall advice to read carefully the “INFORMATION AND\\nINSTRUCTION TO APPLICANT FIRMS” and eligibility criteria contained in the\\ntender document.\\nThe GHB reserves the rights to reject any or all tender without assigning any reason thereof.\\nList of the Banks for EMD/SD/Performance Security.\\na) All Nationalized Banks\\nb) Guarantee issued by following Banks will be accepted as SD/EMD for period up to\\nMarch 31, 2024. The validity cutoff date is with respect to date of issue of Bank\\nGuarantee irrespective of date of termination of Bank Guarantee.\\n•\\n•\\n•\\n•\\n•\\n•\\n•\\n•\\n•\\n•\\n•\\n•\\n•\\n•\\n•\\n•\\n•\\n•\\n•\\n•\\n•\\n•\\n•\\n•\\n•\\n\\nAU Small Finance Bank\\nAhmedabad Mercantile Co-Operative Bank Limited\\nAxis Bank\\nCity Union Bank\\nDBS Bank India Limited\\nDCB Bank\\nEquitas Small Finance Bank\\nFederal Bank\\nHDFCBank\\nICICI Bank\\nIndusind Bank\\nKalupur Commercial Co-Operative Bank Limited\\nKotak Mahindra Bank\\nNutan Nagrik Sahakari Bank Limited\\nRajkot Nagarik Sahakari Bank Limited\\nRBL Bank\\nSaraswat Co-operative Bank\\nSaurashtra Gramin Bank\\nStandard Chartered Bank\\nTamilnadu Mercantile Bank\\nThe Gujarat State Co-Operative Bank\\nThe Mehsana Urban Co-operative bank Limited\\nThe Surat District Co-operative Bank\\nThe Surat Peoples Co-Operative Bank\\nUjjivan Small Finance Bank\\n\\n11\\n\\n\\x0cGUJARAT HOUSING BOARD - AHMEDBAD\\n\\n4 PROJECT BRIEF\\nAs a part of this Re-Development strategy for very dilapidated colonies of GHB, It is intended to\\nredevelop approx. 30,000 units in phases. To achieve the same in stringent time & quality\\nstandards, GHB intends to Empanel reputed firm for Project Management Consultancy services\\nincluding , pre-construction support, supervision of construction, handing over of completed units\\nto existing users, and post handing over, monitoring of defect liability process for Redevelopment\\nprojects.\\nREDEVLOPMENT OF EXISITNG COLONIES\\nGujarat Housing Board (GHB) strives to create a harmonious blend of tradition and progress.\\nKnowing the importance and understanding the need of well-designed living spaces for different\\ncategories. GHB is embarking on a forward-looking initiative aimed at establishing a roster of\\nhighly abled and visionary developers. The Developer should have expertise in reshaping urban\\nenvironments, creating spaces that seamlessly blend functionality, good living condition, and\\nresilience. This empanelment seeks to appoint consultant who will manage the entire process of\\ndevelopment by the developers.\\nGHB will empanel consultants having a team of experts as required as per the eligibility criteria\\nmentioned in the RFP Document.\\nDuring the tenure of the empanelment based on the requirement of the project/GHB. The\\nConsultants shall be empaneled for broad categories of works as mentioned below:\\n1.\\n\\nOverall Tendering Activities\\na.\\nb.\\nc.\\nd.\\ne.\\nf.\\ng.\\nh.\\ni.\\nj.\\n\\nAll pre tendering process including Indicative Planning, Preparation of RFP etc.\\nCoordination with Drone survey agencies, Total station survey agencies etc.\\nSelection of Developers as per prevailing policies & guidelines.\\nLiasioning between GHB, Developers & user groups for smooth & effective execution of\\nthe redevelopment process.\\nReviewing of the architectural, Structure designs and all other required details submitted\\nby the Developers.\\nSupervision of all construction activities\\nMonitoring of Construction progress & MIS reporting\\nHanding Over of the dwelling units\\nMonitoring of related approvals being processed by developer.\\nPost handing over issues during Defect Liability Period - monitoring for 10 years\\n\\nIn view of the above background, Gujarat Housing Board intends to empanel the project\\nmanagement consultant for project management services including review of developers proposals\\nincluding Architectural Concept design, Complete Project Management and Construction\\nSupervision, quality assurance for construction as decided by GHB including all civil and\\ninfrastructure works like internal roads, water supply, drainage and electrical works like street\\n12\\n\\n\\x0cGUJARAT HOUSING BOARD - AHMEDBAD\\nlight, landscaping, gardening, lifts, electric sub-stations, water pumps etc. and all other connected\\ninfrastructural development works etc. to complete the project & other facilities required in all\\naspects.\\nFor developing the redevelopment project at selected sites to manage the project and to review\\nfollowing activities by the selected developers:\\n\\n2\\n3\\n4\\n\\nA. Conceptual & Detailed Architectural plans for projects\\nB. Structural services\\nC. MEP services\\nD. Infrastructure details /drawings\\nE. Review & approve of engineering Services.\\nF. Construction supervision including, but not limited to, Water Supply and drainage\\nSystem, Infrastructural Development like Roads, Pathways, and Street Lights,\\nLandscape and Beautification Works etc.\\nG. Safety Operations like Fire Fighting Systems Development\\nH. Environmental Aspects\\nI. Overall Testing of the Materials\\nJ. BIM Software Management.\\nK. Review at the head office through various project management software i.e. Document\\nuploader for the project.\\nPlease refer Appendix 01 for project locations. (GHB Reserves the right to decide the\\nnumber of housings) Carpet areas & numbers of sites mentioned there are indicative and\\nsubject to change.\\nThe projects listed are at various stages of from pre-tender stage to construction stage.\\nThe selected Consultant shall commence his services based on the present stage of\\nproject. The Consultant shall be paid for services rendered by him from present stage.\\nLOA to Consultant for individual site shall be released by concerned division as and when\\nfinalized by competent authority. Consultant shall start the services including conceptual\\narchitectural planning immediately after issuance of the LOA.\\n\\n13\\n\\n\\x0cGUJARAT HOUSING BOARD - AHMEDBAD\\n\\n5 INFORMATION AND INSTRUCTION TO APPLICANT FIRMS\\n5.1\\n\\nGENERAL:\\n5.1.1\\n\\nLetter of submission and information for selection shall be submitted as per formats\\nattached.\\n5.1.2 All information called for shall be furnished against the respective columns in the\\nenclosed form. If information is furnished in a separate document, reference to the\\nsame should be given against the respective column(s). If information is ‘NIL’ it\\nshould also be mentioned as ‘NIL’ or ‘No such case’. If any particular query is not\\napplicable to the applicant firm it should be stated as ‘Not applicable’. However, the\\napplicant firms are cautioned that not giving complete information called for in the\\napplication in the form required or not giving it in clear terms or making any change\\nin the prescribed forms may result in summary disqualification of the applicant firm.\\nApplication made by telegram, fax, e-mail or telex and those received late may not be\\nconsidered.\\n5.1.3 All information shall be furnished in English.\\n5.1.4 The BID shall be filled up legibly. The Consultant firm’s name shall appear on each\\npage of the application authorized signature with stamp.\\n5.1.5 Reference information and Certificates from the respective clients certifying\\nsuitability, technical know-how or capability of the Consultant firm shall be signed by\\nthe authorized signatory of client.\\n5.1.6 The eligible Consultant firm is advised to furnish any additional information, which\\nthey think is necessary in regard to its capabilities. No further information will be\\nentered after submission of documents unless it is called for by the Client.\\n5.1.7 Consultant /s shall bear all costs associated with the preparation and submission of their\\nProposals. Costs might include site visit, collection of information, and if selected,\\nattendance at contract negotiations.\\n5.1.8 The Employer is not bound to accept any Proposal and reserves the right to annul the\\nselection process at any time prior to contract award, without thereby incurring any\\nliability to the bidder/s.\\n5.1.9 In preparing their Proposals, Consultant /s is/are expected to examine in detail the\\ndocuments comprising the RFP. Material deficiencies in providing the information\\nrequested may result in rejection of a Proposal.\\n5.1.10 The assignment mentioned herein is intended to be job and time oriented. The\\nconsultant shall not be entitled to claim any compensation in the event of the time\\nestimated for the completion of the work being extended for any reason whatsoever.\\n5.1.11 The Data Sheet indicates how long the Consultant/s’ Proposals must remain valid after\\nthe submission date. During this period, the Bidder/s shall maintain the availability of\\nexperts nominated in the Proposal. The Employer will make its best effort to complete\\nnegotiations within this period. In case of need, the Employer may request Bidder/s to\\nextend the validity period of their Proposals. Bidder/s has the right to refuse to extend\\nthe validity period of their Proposals with valid reasons for which employer’s decision\\nshall be final & binding to the agency.\\n5.1.12 The Employer named in the “Data Sheet” will select a firm from those firms who\\nsubmitted proposals, in accordance with the method of selection indicated in the Data\\nSheet.\\n\\n14\\n\\n\\x0cGUJARAT HOUSING BOARD - AHMEDBAD\\n5.1.13 The Employer requires that Consultants provide professional, objective and impartial\\nadvice and at all times hold the Employer’s interest paramount, without any\\nconsideration for future work, and strictly avoid conflicts with other assignments or\\ntheir own corporate interests.\\n5.1.14 A Consultant (including its Personnel and Sub-Consultants) or any of its affiliates shall\\nnot be hired for any assignment that, by its nature, may be in conflict with another\\nassignment of the Consultant to be executed for the same or for another Employer.\\n5.1.15 The EMD/EMD Security fee is liable to be forfeited if successful Bidder fails to\\nexecute the agreement within 10 Days from the date of Letter of Acceptance, if the\\nconsultant denies to execute any work as intimated by Executive Engineer.\\n5.1.16 Consultant cannot include current employees of Central & State Government as their\\nresource personnel/experts. If Consultant s nominate any Government employee\\nretired within last two years as experts in their Technical Proposal, such expert(s) must\\nhave written approval from their government.\\n5.1.17 A Consultant (including its Personnel and Sub-Consultants) that has a business or\\nfamily relationship with a member of the Employer’s staff who is directly or indirectly\\ninvolved in any part of (i) the preparation of the Terms of Reference of the assignment,\\n(ii) the selection process for such assignment, or (iii) supervision of the Contract, may\\nnot be awarded a Contract, unless the conflict stemming from this relationship has\\nbeen resolved in a manner acceptable to the Employer throughout the selection process\\nand the execution of the Contract.\\n5.1.18 The Fact Sheet indicates how long Consultants’ Proposals must remain valid after the\\nsubmission date. During this period, Consultants shall maintain the availability of\\nProfessional staff nominated in the Proposal. The Employer will make its best effort\\nto complete negotiations within this period. Should the need arise, however, the\\nEmployer may request Consultants to extend the validity period of their proposals.\\nConsultants who agree to such extension shall confirm that they maintain the\\navailability of the Professional staff nominated in the Proposal, or in their confirmation\\nof extension of validity of the Proposal, Consultants could submit new staff in\\nreplacement, who would be considered in the final evaluation for contract award.\\nConsultants who do not agree have the right to refuse to extend the validity of their\\nProposals, with valid reasons for which employer’s decision shall be final & binding\\nto the agency.\\n5.1.19 VALIDITY OF TENDER: The Tender will be valid for a period as specified in Data\\nsheet\\n5.1.20 DISQUALIFACTION: Any proposal shall be automatically disqualified if it does not\\ncontain the requisite EMD as per clause\\n5.1.21 FINAL DECISION-MAKING AUTHORITY: The Client reserves the right to accept\\nor reject any applications/tender(s) for prequalification without assigning any reasons,\\ntherefore. The Client reserves the right to increase or decrease the scope of work as\\ndeemed necessary. Decision of Client shall be final and binding.\\n5.1.22 LETTER OF AWARD (LOA): Letter of Award for selection of Consultant will be\\nissued to the BIDDER whose tender has been accepted by the GHB. Once the Letter\\nof Acceptance (LOA) of the tender is sent, then it is considered as acceptance of\\ncontract. The selected Consultant should arrange to submit Performance Bank\\nGuarantee as specified and sign the Agreement within SPECIFIED days from the date\\nof receipt of LOA.\\n\\n15\\n\\n\\x0cGUJARAT HOUSING BOARD - AHMEDBAD\\n5.2\\n\\nDEFINITIONS\\nWords and expressions not elsewhere defined in this contract, or its Schedules/Sections shall bear\\nthe following meanings, the singular including the plural and vice versa.\\n\\n1\\n\\n2\\n3\\n4\\n5\\n6\\n7\\n8\\n9\\n10\\n11\\n12\\n13\\n14\\n15\\n16\\n17\\n18\\n\\n19\\n\\n20\\n\\nThe firm Selected for the following activities:\\n1) Selection of Developer for Re-Development Project.\\n2) Review of the design, structural details & BOQ etc. by the Developer\\nConsultant\\n3) Liaisoning between existing users, developers & GHB for the smooth\\ncompletion of the project.\\n4) Project Management consultancy (PMC) services including\\nsupervision consultancy.\\nAny person or entity/ Experts with whom the Consultant\\nSub-consultant\\nsubcontracts any part of the Services.\\nGujarat Housing Board, Pragatinagar Naranpura, Ahmedabad.380 013\\nClient/Employer\\nGujarat, Represented by the Executive Engineer, Ahmedabad.\\nEngineer-inExecutive Engineer of concerned division.\\ncharge\\nGovernment\\nGovernment of Gujarat\\nMeans the work to be performed by the firm selected for consultancy,\\nService\\npursuant to the contract for the purpose of this Project.\\nR & B Dept.\\nRoads & Building Department, of Gujarat.\\nCurrency\\nMeans the Indian Rupees\\nGHB\\nGujarat Housing Board\\nRequest for Proposal prepared by the Employer for the selection of\\nRFP\\nconsultants.\\nGDCR\\nGeneral Development Control Regulations.\\nSSRB\\nStandard Specification for Roads and Bridges in India\\nGERI\\nGujarat Engineering Research Institute.\\nDeveloper\\nTo whom the Contract for Construction Works to be awarded.\\nBIS\\nBuilding Indian Standards\\nNBC\\nNational Building Code.\\nSuch part of the Instructions to Consultants used to reflect specific\\nFACT SHEET\\nassignment conditions.\\nDay\\nMeans calendar day.\\nProfessionals and support staff provided by the Consultant or by any SubConsultant and assigned to perform the Services or any part thereof;\\n“Foreign Personnel” means such professionals and supportstaff who at\\nthe time of being so provided had their domicile outside the\\nPersonnel\\nGovernment’s country; “Local Personnel” means such professionals\\nand support staff who at the time of being so providedhad their domicile\\ninside the Government’s country.\\nThe document included in the RFP which explains the objectives, of\\nTerms of\\nwork, activities, tasks to be performed, respective responsibilities of the\\nReference” (TOR)\\nEmployer and the Consultant, and expected results and deliverables of\\n16\\n\\n\\x0cGUJARAT HOUSING BOARD - AHMEDBAD\\n\\n21\\n22\\n23\\n24\\n\\nProposal\\nBIM Model\\nPHC\\nPMC\\n\\nthe assignment.\\nThe Technical Proposal and the Financial Proposal.\\nBuilding Information Models\\nPublic Housing Component\\nProject Management Consultancy\\n\\n17\\n\\n\\x0cGUJARAT HOUSING BOARD - AHMEDBAD\\n5.3\\n\\nCLARIFICATIONS AND AMENDMENTS TO RFP DOCUMENTS\\n5.3.1\\n\\n5.3.2\\n\\n5.3.3\\n5.3.4\\n\\n5.4\\n\\nPREPARATION OF THE PROPOSAL\\n5.4.1\\n5.4.2\\n5.4.3\\n\\n5.4.4\\n\\n5.5\\n\\nBidder/s may request a clarification of any of the RFP documents prior to pre-bid\\nmeeting indicated in the Data Sheet. Any request for clarification must be sent in\\nwriting to the address indicated in the Data Sheet so as to reach three days prior to the\\nmeeting to the specified address. These would be clarified at the pre-bid meeting\\nwithout identifying its source.\\nA prospective bidder requiring any clarification of the bidding documents may notify\\nthe Employer in writing or by fax (hereinafter, the term \"fax\" is deemed to include\\nelectronic transmission such as facsimile, cable and telex) at the Employer\\'s address\\nindicated in the Invitation for Bid. The Employer will respond to any request for\\nclarification. The purpose of the meeting shall be to clarify issues and to answer\\nquestions on any matter that may have been raised by the prospective bidders in\\nwriting and received by the Employer’s office.\\nThe purpose of the meeting shall be to clarify issues and to answer questions on any\\nmatter that may have been raised by the prospective bidders in writing and received\\nby the Employer’s office.\\nNon-attendance at the Pre-bid meeting will not be a cause for disqualification of the\\nbidder.\\n\\nA Bidder’s Proposal (the Proposal) will consist of only financial Proposal,\\nAll related correspondence exchanged by the Bidder/s would also form part of the\\nProposal.\\nThe Technical & Financial Proposals should include separate cover letters signed by\\nperson(s) with full authorization to make legally binding contractual (including\\nfinancial) commitments on behalf of the firm. The letter should specify all association\\narrangements and certify that each associated firm will perform its designated tasks\\nunder the assignment.\\nThe Technical Proposal should clearly demonstrate the Consultant’s understanding of\\nthe assignment requirements and capability and approach for carrying out the tasks set\\nforth in the TOR through the nominated experts.\\n\\nELIGIBILITY AND METHOD OF SUBMISSION OF RFP\\n5.5.1\\n\\n5.5.2\\n\\n5.5.3\\n\\nReputed and well-established Firms registered as legal entity in India who dealt with\\nProject Management consultancy Services having experience of minimum 10 (Ten)\\nYears in handling Building Construction Project and having permanent qualified\\nEngineers and Architects in related fields for Building Construction activities.\\nThe offers required to be uploaded through E-Tendering i.e. electronic form in TWO\\nBID system namely Technical Bid and Financial Bid which shall be submitted in\\nelectronic format through online only. Employer will not be responsible for nonsubmission/uploading of offer in time due to electronic/electrical or any reason.\\nBidder shall have to upload their offer, i.e., Technical Bid, Financial Bid and the\\ndocument completed in all respects should be submitted in Electronic formats only\\nafter having been digitally signed, along with all necessary documents as mentioned.\\n\\n18\\n\\n\\x0cGUJARAT HOUSING BOARD - AHMEDBAD\\n5.5.4\\n5.5.5\\n5.5.6\\n5.5.7\\n5.5.8\\n\\n5.5.9\\n\\n5.6\\n\\nBids of only those bidders who have submitted all information, statistical details as\\nrequired in the bid document through E Tendering will be considered.\\nProposals not bearing digitally signature will not be accepted.\\nIf the bidder desires any verification/ clarification on ambiguity found in the bid\\ndocument same shall be furnished within stipulated time limit.\\nPre-qualification bid of all proposals received within time limit as mentioned in (2)\\nabove will be opened at The Office of The Chief Engineer, Gujarat Housing Board,\\nPragatinagar, Naranpura, Ahmedabad.\\nPre-Bid will be held in the as per schedule provided in. Bidders may request a\\nclarification on any of the proposal document, but the same should be submitted in\\nwriting to the client\\'s address and should be submitted latest by three clear days prior\\nto the date of pre-proposal conference.\\nRequests received within the stipulated time will be answered at the time of Preproposal Conference. Copies of the client\\'s response will be circulated to all bidders\\nwho have submitted online proposal, including description of the query but without\\nidentifying the source. Please note that late submission of request for clarification by\\nany bidder shall not be responded to.\\n\\nSELECTION PROCESS\\n5.6.1\\n\\nThe selection process will be done in a transparent manner and carry out evaluation of\\nproposal on the basis of mandatory requirement for general and specific criteria and\\nscoring criteria specified in the section.\\n5.6.2 Based on the information supplied in the RFP, firms would be qualified & short-listed\\nby the committee with reference to the eligibility criteria.\\n5.6.3 The empanelment of the firms would be based on the procedure described in the RFP.\\nEmpanelment of technically qualified agencies shall be based on lowest per/sqm rate of carpet\\narea received in financial bid opening\\n.\\n\\n19\\n\\n\\x0cGUJARAT HOUSING BOARD - AHMEDBAD\\n5.7\\n\\nNEGOTIATION\\n5.7.1\\n\\n5.7.2\\n\\n5.7.3\\n\\n5.7.4\\n5.7.5\\n5.7.6\\n\\n5.8\\n\\nNegotiations/ Discussion, if any will be held in the office of the Housing\\nCommissioner, Gujarat Housing Board, Ahmedabad or Tender Purchase Committee.t\\nRepresentatives conducting negotiations on behalf of the Bidder must have written\\nauthority to negotiate technical, financial, and other terms and conclude a legally\\nbinding agreement.\\nThe technical negotiations cover the Consultant’s Technical Proposal, including the\\nproposed technical approach and methodology, work plan, staffing schedule,\\norganizational arrangements, and any suggestions made by the Consultant or the\\nemployer to improve the implementation of the assignment. Negotiations will not\\nresult in substantial modifications to either the Consultant’s Technical Proposal or the\\nTOR\\nThe financial negotiations will generally fine-tune duration of expert’s inputs and\\nquantities of out- of-pocket expenditure items may be increased or decreased from the\\nrelevant amounts shown or agreed otherwise, in the Financial Proposal. Unless\\nexceptional circumstances exist, the details of experts’ remuneration and specified unit\\nrates for out-of-pocket expenditures will not be subject to negotiations.\\nThe consultant shall confirm the modifications made in his proposals in writing within\\nthree days of conclusion of negotiations.\\nIf contract negotiations are unable to be concluded for any reason, the employer will,\\nat its discretion, commence negotiations with the second lowest bidder.\\nDuring negotiations the Bidder must be prepared to furnish the detailed cost breakup\\nand other clarifications to the proposals submitted by him, as may be required. If the\\nnegotiations with this consultant are successful, the award will be made to him, and\\nall other bidders shall be notified.\\n\\nTENDER FEE AND EARNEST MONEY DEPOSIT.\\n5.8.1\\n\\n5.8.2\\n\\n5.8.3\\n\\n5.8.4\\n5.8.5\\n\\nRFP documents are available at web site https://tender.nprocure.com Documents can\\nbe downloaded on paying of tender fee (Not refundable) as specified in FACT SEET\\nin form of Demand Draft in favor of The Executive Engineer, Gujarat Housing Board,\\nAhmedabad, payable at Ahmedabad, and same should be submitted in electronic\\nformat only (by scanning) while uploading the Bid.\\nThe tenderers are requested to furnish EMD as specified in FACT SHEET, through\\nD.D in favor of “The Executive Engineer, Gujarat Housing Board, Ahmedabad”\\npayable at Ahmedabad from any bank listed and shall be submitted in electronic\\nformat online (by scanning) while uploading the Bid.\\nOffers of only those bidders shall be opened whose Tender fee & EMD are received\\nelectronically, however for the purpose of realization of D.D bidder shall send the\\nsame in physical form (in original) so as to reach on the date shown in notice during\\nthe office hours at the “Executive Engineer, Ahmedabad”, by R.P.A.D./Speed post\\nonly.\\nGHB reserves the right to reject any or all the tenders without assigning any reasons\\ntherefore.\\nThe EMD submitted by technically qualified agencies under which are empaneled\\nunder this contract shall be converted as empanelment security fee against the\\nempanelment and will be released after successful completion of contract. The\\nempanelment security fee will be over and above security deposit and performance\\nsecurity as mentioned in this RFP\\n\\n20\\n\\n\\x0cGUJARAT HOUSING BOARD - AHMEDBAD\\n\\n5.9\\n\\nPRE-BID MEETING\\n5.9.1\\n\\n5.9.2\\n5.9.3\\n\\nPre-Proposal Conference will be held as specified in the FACT SHEET in the office\\nof The Housing Commissioner, Gujarat Housing Board, Pragati Nagar, Naranpura,\\nAhmedabad: 380 013. Consultant may request a clarification on any of the proposal\\ndocument, but the same should be submitted in writing by R.P.A.D Post only on the\\nclient\\'s address and should be submitted latest before three days of pre-proposal\\nconference. Request received within stipulated time will be answered at the time of\\nPre- proposal Conference.\\nNon-attendance at the Pre-bid meeting will not be a cause for disqualification of a\\nbidder.\\nCopies of the client\\'s response will be circulated to all the bidders to whom proposal\\ndocuments are issued, including description of the query but without identifying the\\nsource. The clarifications and amendments if any will be uploaded on the web site\\nhttps://tender.nprocure.com Please note that late submission of request for\\nclarification by any consultant shall not be responded.\\n\\n21\\n\\n\\x0cGUJARAT HOUSING BOARD - AHMEDBAD\\n\\n6 ELIGIBILITY CRITERIA FOR QUALIFICATION\\nTo qualify, the consultant must satisfy the following Mandatory (General & Specific) qualifying\\nrequirements.\\n6.1\\n\\nBASIC ELIGIBILITY CRITERIA\\n6.1.1\\n6.1.2\\n6.1.3\\n6.1.4\\n\\n6.2\\n\\nTECHNICAL CAPACITY\\n6.2.1\\n\\n6.2.2\\n6.2.3\\n6.2.4\\n6.2.5\\n6.3\\n\\nThe Firm must have an office in India, operating for minimum last 10 Years and should\\nbe registered under Indian companies Act. 1956. for last 10 years (certificate of\\nregistration and PAN Card must be furnished with technical proposal.\\nThe Firm must have an ISO:9001 certification from last 7 years. (A copy of the\\ncertificates must be furnished with Technical Proposal\\nThe Firm should not have been blacklisted by any Government / Non-Government\\n/Private Agencies/organizations/Institutions and Funding Agencies in the last 10 years.\\nFirms are not allowed to form Joint venture or Consortium.\\n\\nThe firm should have experience of working as Project Management Consultancy\\n(PMC) for at least three (03) ongoing (minimum 50% work completed) / completed\\nbuilding project for government/private client/ multilateral agencies (such as World\\nBank, Asian Development Bank, DFID, etc.) in last ten (10) financial years.\\nThe firm should have experience in setting-up Project Management Consultancy\\n(PMC) for at least one (01) high rise building/ infrastructure projects (Construction\\ncost of Rs. 100 cr. worth) in any state in last ten (10) financial years.\\nFurnish copy of performance certificate issued by the Owner/Employer not below the\\nrank of Executive engineer with mentioned year of work executed, carpet area or builtup area).\\nThe Firm should have experience in Architectural, Structural, MEP design review and\\nsupervision of at least one Project of the value not less than Rs. 100 Crores\\n(construction cost) in last ten (10) Years.\\nIn case consultant fails to satisfy the above requirements, the bid shall be considered\\nnonresponsive and shall not be considered for further evaluation and the consultant\\nshall be disqualified at the stage.\\n\\nFINANCIAL CAPACITY\\n6.3.1\\n\\n6.3.2\\n\\nMinimum Average Annual Turnover of 200 Cr. specifically from PMC Services\\nbusiness for Housing/Building/Infrastructure projects both domestic or international\\nin last 5 (five) financial years.\\nThe firm should have minimum Net worth of Rs. 100 Crores for last three years.\\n\\nCRITERIA FOR EVALUATION\\n6.4\\n\\nGENERAL\\nFrom the time the bids are opened to the time the contract is awarded any effort made by\\nthe Firm to influence the Client in the Client\\'s proposal evaluation, proposal comparison\\nor contract award decisions may result in the rejection of the consultant\\'s proposal.\\n\\n22\\n\\n\\x0cGUJARAT HOUSING BOARD - AHMEDBAD\\n6.5\\n\\nEVALUATION OF TECHNICAL PROPOSALS\\nIn the first stage, the Technical Proposal will be evaluated based on Applicant\\'s experience,\\nits understanding of TOR, proposed methodology and Work Plan, and the experience of\\nKey Personnel. Only those Applicants whose Technical Proposals get a score of 80 (Eighty)\\nmarks or more out of 100 (one hundred) shall qualify for further consideration.\\nThe scoring criteria to be used for evaluation shall be as follows:\\nGroup\\nParameter\\nNo\\nRelevant\\n1\\nExperience of the\\nConsultant’s Firm\\nin last ten years\\nThe Experience\\nshould include\\nArchitectural/Mas\\nter Planning and\\nConcept Design,\\n/Review\\nEngineering and\\nPMC.\\n\\nMax.\\nScore\\n15\\n\\nCriteria\\n\\n1. Experience in High rise Residential/\\nCommercial/Institutional/ Infrastructure projects\\n15\\nA Project Value > Rs. 200.00 Cr.\\n(5 marks per Project) 3 Projects\\nEach project:\\n- Architectural Master Planning and\\nConcept Design- OR\\n- Review Engineering and PMC\\nB Project Value between Rs. 150.00 Cr\\n15\\nto 200.00 Cr.\\n(3 marks per Project) 5 Projects\\nEach project:\\n- Architectural Master Planning and\\nConcept Design- OR\\n- Review Engineering and PMC\\nC Project Value between Rs. 100.00 Cr\\n15\\nto 150.00 Cr.\\n(1 marks per Project) per projects\\nEach project:\\n- Architectural Master Planning and\\nConcept Design OR\\n- Review Engineering and PMC\\nBidder shall quote projects against all three categories A,B,C. Marks shall be considered as\\nhighest of three.\\nA Conventional + material specified in SOR\\n03\\n2\\n5\\nExperience in\\nB\\nAlternative technology in addition to\\n02\\nstructural design\\nconventional (e.g. Pre-cast/alternative\\nusing alternative\\ntechnology design)\\nTechnology\\n02 Projects (02 marks per Project)\\n(other than\\nTraditional)\\n\\n3\\n\\n4\\n\\nProposed\\nmethodology and\\nwork plan\\nRelevant\\nexperience of the\\nkey personnel\\n\\n20\\n\\nUnderstanding TOR\\nQuality of methodology\\n\\n30\\nPersonal\\nTeam Leader (Core\\nTeam)\\n\\n10\\n10\\n\\nNo. of\\nperson\\n\\nMark per\\nperson\\n\\nTotal\\nmarks\\n\\n1\\n\\n5\\n\\n5\\n\\n23\\n\\n\\x0cGUJARAT HOUSING BOARD - AHMEDBAD\\nResident Construction\\nmanager (Site Team)\\nSr. Structure Engineer\\n(Core Team)\\nSr. Architect (Core\\nTeam)\\nMEP Engineer (Site\\nTeam)\\nLegal Expert (Core\\nTeam)\\nSr. Quality Engineer\\n(Core Team)\\nSr. Environment &\\nSafety Engineer (Core\\nTeam)\\n5\\n\\n6.6\\n\\nTechnical\\nPresentation\\nTotal\\n\\n30\\n\\n5\\n\\n2.5\\n\\n12.5\\n\\n1\\n\\n2\\n\\n2\\n\\n1\\n\\n2\\n\\n2\\n\\n1\\n\\n1.5\\n\\n1.5\\n\\n1\\n\\n3\\n\\n3\\n\\n1\\n\\n2\\n\\n2\\n\\n1\\n\\n2\\n\\n2\\n\\nTotal\\nDetailed technical presentation on capabilities,\\nmethodology and work plan\\n\\n30\\n30\\n\\n100\\n\\nEVALUATION OF FINANCIAL PROPOSALS\\n\\nAfter the completion of technical evaluation, all the bidders scoring more than 80% in technical\\nscore shall be eligible for Financial Bid opening.\\nFor financial evaluation, the per sqm rate of Carpet Area quoted by Bidder shall be considered.\\nGHB will determine whether the Financial Proposals are complete, qualified and unconditional.\\nThe cost indicated in the Financial Proposal shall be deemed as final and reflecting the total cost\\nof services. Omissions, if any, in costing any item shall not entitle Consultant to be compensated\\nand the liability to fulfil its obligations as per the RFP within the total quoted price shall be that of\\nthe Consultant’ Firm.\\nIn order to allow comparison of financial proposal on a common basis, each financial proposal\\nwill be carefully scrutinized.\\n\\n24\\n\\n\\x0cGUJARAT HOUSING BOARD - AHMEDBAD\\n\\n7 SUBMISSION, RECEIPT, AND OPENING OF PROPOSALS\\n7.1\\n7.2\\n\\nThe original Proposal (Technical Proposal and Financial Proposal); shall be submitted electronically.\\nAn authorized representative of the Firm to put initials on all pages of the Proposal submitted in hard\\ncopy. The representative\\'s authorization is confirmed by a written power of attorney accompanying\\nthe proposals.\\n7.3 Bid processing fees and earnest money deposit shall be submitted to the client as shown in Data\\nsheet.\\n7.4 The technical proposal and financial proposal must be uploaded online on or before the time and date\\nstated in the data sheet. All submission shall be in PDF portable document format or joint\\nphotographic experts group (JPG)\\n7.5 After the deadline for submission of proposals the technical proposal shall be opened immediately\\nby the Authorized representative of GHB The financial proposal shall remain encrypted with a\\nrespectable public auditor or independent authority until all submitted proposals are opened publicly,\\nas decided by the client.\\n7.6 A consultant should submit only one proposal if a consultant submits or participate in more than one\\nproposal for the same project such a consultant shall be disqualified.\\n7.7 The tenders shall be rejected outright if:\\n7.8 Tender is in the name of person or firm who is not a consulting firm.\\n7.9 Tender fees and Earnest Money Deposit not received in the time prescribed by GHB.\\n7.10 Offer submitted in physical form.\\n7.11 If the consultant has quoted rates with additional condition and counter conditions\\n7.12 In case of any deviation in the terms of reference, terms and conditions of the tender.\\n7.13 If the tender is not digitally signed by the consulting firm.\\n7.14 If the “Technical Bid” of any firm is decided as non-responsive the “Price Bid” of that firm shall not\\nbe opened\\n7.15 If the rates are not workable.\\n\\n25\\n\\n\\x0cGUJARAT HOUSING BOARD - AHMEDBAD\\n\\n8 PROPOSAL EVALUATION\\n8.1\\n\\nGENERAL:\\nFrom the time the bids are opened to the time the contract is awarded any effort made by the Firm\\nto influence the Client in the Client\\'s proposal evaluation, proposal comparison or contract award\\ndecisions may result in the rejection of the consultant\\'s proposal.\\n\\n8.2\\n\\nEVALUATION OF TECHNICAL PROPOSALS:\\nThe individual member of the evaluation committee appointed by the Client will carry out the\\nevaluation of proposals on the basis of mandatory requirement for general and specific criteria and\\nscoring criteria specified in the eligibility criteria for qualification. Each responsive proposal shall\\nbe preliminarily evaluated to assess their performance and their capability with respect to\\nmandatory requirement for general and specific criteria. Based on this evaluation of responsiveness\\nof bid shall be decided. The consultants do not satisfy this mandatory requirement, their bid will be\\nconsidered non responsive. No further evaluation shall be made for such bid and the consultant\\ndisqualifying for further evaluation.\\n\\n8.3\\n\\nSELECTION PROCESS\\nThe bidder qualifying in the “Eligibility Criterion” shall be eligible for the further evaluation of the\\nproposal.\\nLeast Cost Based Selection (LCBS):\\nBidder scoring minimum 80% in technical score shall be eligible for financial bid opening.\\nEmpanelment of technically qualified agencies shall be based on lowest per/sqm rate of carpet area\\nreceived in financial bid opening.\\n\\nPUBLIC OPENING AND EVALUATION OF FINANCIAL PROPOSALS\\n8.3.1\\n8.3.2\\n\\n8.3.3\\n\\n8.3.4\\n8.4\\n\\nAfter the completion of technical evaluation, The Client shall notify the successful\\nconsultants that they have secured the minimum qualifying mark, indicating the date\\nand time set for opening the Financial Proposals.\\nThe Financial Proposals shall be opened publicly in the presence of the consultants\\'\\nrepresentatives who choose to attend. The name of the consultant, the quality scores,\\nand the proposed prices shall be read aloud and recorded when the Financial Proposals\\nare opened.\\nFor financial evaluation, the total lump sum fee indicated in the Financial Proposal\\nshall be considered. GHB will determine whether the Financial Proposals are\\ncomplete, qualified, and unconditional. The cost indicated in the Financial Proposal\\nshall be deemed as final and reflecting the total cost of services. Omissions, if any, in\\ncosting any item shall not entitle the Firm to be compensated and the liability to fulfill\\nits obligations as per the RFP within the total quoted price shall be that of the\\nConsultant Firm\\nThis evaluation procedure reflects the high importance attached to quality and\\ncompetence.\\n\\nAWARD OF CONTRACT:\\nThe allocation of the consultancy work will be decided by the competent authority without any\\nprejudice to any consulting agency.\\n\\n26\\n\\n\\x0cGUJARAT HOUSING BOARD - AHMEDBAD\\nThe final selection of the firm for GHB redevelopment works would be based on the LCBS\\nprocedure described in the RFP. Empanelment of technically qualified agencies shall be based on\\nlowest per/sqm rate of carpet area received in financial bid opening.\\nThe additional scope of works other than GHB redevelopment works, for greenfield/brownfield on\\ncampus/on area can be assigned to the consultant on man-month rates quoted in this bid as part of\\nthe empanelment. The requirement of man-month number for proposed additional development\\nworks to be mutually agreed upon before award of work.\\n8.5\\n\\nCONFIDENTIALITY:\\nInformation relating to evaluation of proposals and recommendations concerning awards shall not\\nbe disclosed to the consultants who submitted the proposals or to other persons not officially\\nconcerned with the process, until the winning Firm has been notified that it has been awarded the\\ncontract.\\n\\n8.6\\n\\nMODE OF EXECUTION\\nThe works of High-rise building are spread over entire Gujarat state. A number of works are to be\\ntaken up simultaneously in the state. Therefore, the online tenders for consultancy work is invited\\nat the level of head office of GHB. The receipt of tenders, evaluation of the bid, selection of\\nconsultant and award of work shall be processed at head office of GHB. The successful empaneled\\nconsultants shall execute the agreement for consultancy work with the Executive Engineer, GHB,\\nAhmedabad. However, the actual work shall be performed with the concerned Executive\\nEngineer/Competent Authority of the project. GHB/Competent Authority shall issue the intimation\\nletter to the consultant stating the name of the project, location along with the name of concerned\\nExecutive Engineer in charge of the project on receipt of the intimation letter, consultant shall\\nsubmit Secuirty Deposit and Performance Security. On submission of the same, work order will be\\nreleased by concerned Executive Engineer. The consultant shall be responsible to the concerned\\nofficers of the Client in charge of the work for the implementation of consultancy work. The\\nperformance of the consultant shall be monitored, reviewed and approved based on the report of\\nproject in charge of officers.\\n\\n27\\n\\n\\x0cGUJARAT HOUSING BOARD - AHMEDBAD\\n\\n9 TERMS OF REFERENCE FOR PROJECT MANAGEMENT\\n9.1\\n\\nSCOPE OF WORK UNDER GHB REDEVELOPMENT PROJECTS:\\nThe Gujarat Housing Board is interested in hiring an Agency for selection & empanelment of\\nconsultant for various redevelopment projects to be undertaken by Gujarat housing board. The role\\nof the consultant would be to remain involved in all the stages of the redevelopment process, where\\nthe initial concept plan will be prepared, selection of developer process , pre-construction\\nmonitoring of the approvals and during the construction the project management and supervision\\nof all construction related activities will be managed by the consultant. The consultant will monitor\\nthe handing over process once the dwelling units are completed and post handing over the defect\\nliability resolution will also be reported by the consultant.\\nTHE VARIOUS ACTIVITIES BROADLY INVOLVED IN THE ABOVE SAID SERVICES ARE:\\n\\n1.\\n2.\\n3.\\n4.\\n\\n1.\\n2.\\n3.\\n4.\\n5.\\n6.\\n7.\\n8.\\n9.\\n10.\\n11.\\n12.\\n13.\\n14.\\n\\n9.1.1 PLANNING STAGE\\nCreate a tentative master plan for each of the sites as per prevailing GDCR that includes the number\\nof existing units to be accommodated with additional area as per prevailing policy of the state. The\\nremaining FSI area to be developed and sold by the developer while giving premium to GHB.\\nArchitectural Concept Design and Master Planning of EWS1, EWS2, LIG1, LIG2, MIG1, MIG2,\\nHIG and commercial as per GHB’s requirement.\\nAgency to onboard a Third-Party NGO approved by GHB or nominated by GHB for coordination\\nwith association and its members for achieving 75 % consent for redevelopment and smooth\\neviction of existing dilapidated structures.\\nReview of Total Station Survey done for Proposed Land as needed.\\n9.1.2 TENDER STAGE\\nPreparing Tender Documents for selection of Developer with the indicative master plan, detailed\\nspecifications, and other conditions as per CVC guidelines / R&B guidelines and prevailing policy\\nas per GHB’s suggestions from time to time.\\nPMC to support in complete Bid Process management from Tender stage to onboarding of\\nDeveloper including support in Pre-Bid queries.\\nThe agency to assist in obtaining 75% notarized consent from the association.\\nPreparation of documents for pre-qualification of Developers, invitation of RFQs, evaluation of the\\napplications and short-listing developers for the project.\\nThe Agency shall assist the Authority in holding pre-tender meetings in a pre-determined manner\\nand offer clarifications, if any, sought by the tenderers. The clarifications relating to the TOR shall\\nbe drawn up by the Agency and the same shall be issued to the intending tenderers.\\nThe clarifications issued shall form a part of the main Contract document for the work.\\nThe Agency shall assist the Authority in executing the Contract with the successful tenderers in the\\nformat prescribed in the tender document on a stamp paper of appropriate denomination.\\nReview of Total Station Survey done for Proposed Land as needed.\\nPrepare drawings and documents to enable the Client to get done the detailed survey and soil\\ninvestigation (if required) at the site of the project.\\nMonitor site survey including contours and soil testing as per the norms for each site, which can be\\nincluded in the RFP document.\\nAttending meetings and preparing minutes of meetings.\\nPreparation of Detailed estimate\\nPreparations of site wise tender for works selection of developers.\\nFinalization of contract for developers.\\n\\n28\\n\\n\\x0cGUJARAT HOUSING BOARD - AHMEDBAD\\nThe Consultant is required to give the Engineer-in-Charge/Employer of Work all service assistance with\\nregard to all tasks for managing the tender up to the selection level.\\n\\n1.\\n2.\\n3.\\n4.\\n5.\\n6.\\n7.\\n8.\\n9.\\n\\n10.\\n11.\\n12.\\n\\n9.1.3 DEVELOPMENT STAGE (PRE CONSTRUCTION STAGE)\\nFinalization of Architectural Concept Design and Master Planning of site plan as per policy\\nsubmitted by the developer.\\nAttending meetings and preparing minutes of meetings\\nMonitoring of Modification of Plans by the developer based on request of GHB.\\nAscertain Client\\'s requirements as per the policy, examine site constraints & potential; and prepare\\na design brief for Client\\'s approval.\\nPrepare report on site evaluation, state of existing buildings, if any; and analysis and impact of\\nexisting and/ or proposed development on its immediate environs.\\nReview of conceptual and details designs of the project including redevelopment units and site\\ninfrastructure prepared by the developer selected for the site.\\nReview of Concept 3D views with Walkthrough if required.\\nReview of BIM Model of whole project as prepared by the developer.\\nFurther develop design documentation and coordination for all building components to a Design\\nDevelopment level required for EPC tender prepared in BIM, including interior design to a\\nschematic level and major public spaces such as entries, lobbies, atria, front-of-house corridors, and\\npublic facilities\\nReview of Enlarged Plan and Section (EPS) sheets, façade and typical interior details developed to\\na level required for EPC tender prepare in BIM.\\nReview and coordination of all statutory approval process like RERA, plan passing by UDA etc.\\ninitiated by the developer.\\nAssist in Eviction Process of Habitants.\\n9.1.4\\n\\n1.\\n2.\\n3.\\n4.\\n\\n5.\\n6.\\n7.\\n\\n8.\\n9.\\n\\nCONSTRUCTION STAGE\\nShall physically verify all dimensions of site and ensure that they are as per approved drawings.\\nDiscrepancies shall be notified to the Employer/Engineer in charge/Architect/ relevant stakeholder\\nimmediately. Shall be responsible to maintain the dimension at site as per the approved drawings.\\nShall review all approved drawings, Contract Agreement, Specifications etc. and ensure\\nimplementation at site.\\nShall be responsible for overall monitoring of the construction by the Developer.\\nShall be responsible for to deploy requisite number of qualified and experienced Engineers (Civil,\\nWater Supply and Sanitary, Structural, Mechanical and Electrical, Material testing based on scope\\nof works) at site on full time basis to supervise the day to day works and also shall be responsible\\nfor monitoring of the progress of work as per approved drawings, construction procedures and\\npractices and to ensure quality in day to day work as per specifications and standards.\\nShall be responsible for checking all the construction activities involved in project.\\nChecking all the work completed by the developer at site with respect to approved drawings and to\\ncertify the accuracy. If in case, it is necessary to take measurements at site and record and finalize,\\nthe PMC shall also do so to make timely payment for the works done.\\nIf measurements are not submitted by the developer, the PMC shall take measurements jointly with\\ndeveloper’s representative, record them in measurement books (MBs) directed by Employer and\\nobtain developer’s signature in token of acceptance & prepare bills. Hidden measurements, which\\ncannot be recorded after completion shall be recorded before covering up the work.\\nOn completion of work, the PMC shall have the responsibility to finalize and certify all the works\\nas per actual execution.\\nThe PMC should settle the final bill measurement immediately as per bid after completion of\\nProject after complete rectification of notified defects by developer.\\n\\n29\\n\\n\\x0cGUJARAT HOUSING BOARD - AHMEDBAD\\n10.\\n11.\\n12.\\n\\n13.\\n14.\\n15.\\n16.\\n\\n17.\\n18.\\n19.\\n\\n20.\\n21.\\n22.\\n23.\\n\\n24.\\n25.\\n26.\\n27.\\n28.\\n29.\\n\\nShall be responsible to verify day to day consumption of cement in the work and shall see that the\\ncement used in work is as per the theoretical requirement.\\nShall preserve field books and measurement books by completion of project or as advised by\\nEmployer/Engineer-in-charge /Architect / Consultant.\\nShall ensure that Developer have taken requisite “All Risk Insurance Policies” to cover workman\\nunder Workman Compensation Act, loss / damage caused by natural calamities / accident /\\naccidental collapse of partially completed work, materials and plant at site and for third party claims\\nfor injury / damages. PMC shall ensure that all such policies remain in force throughout the\\nexecution of project as applicable and as stipulated in Bid.\\nShall ensure safety of structure by taking all necessary precautions and by not allowing excessive\\nconstruction loads on floors and shall avoid such other factors, which will endanger the safety of\\nstructure during construction.\\nShall take custody of objects of value and antiquity found on site during excavation or otherwise\\nand handover to Employer official.\\nShall keep a track of permissions required from local authorities and get revalidated whenever\\nnecessary.\\nShall ensure the safety of personnel working at site/inspecting the site by taking precautions by\\nputting barricades, night lamps near trenches, pits, open shafts, lift shafts, edge of floors, terraces\\nand such other places and to insist on compliance of safety code such as use of helmets, etc., on\\nwork site.\\nThe PMC shall make their own arrangements at no extra cost to the Employer for instruments/\\nequipment’s such as total station/theodolites, leveling instruments, prismatic compass, chain,\\nmeasuring tapes, plain tables and ranging rods, such other equipment’s.\\nSuggest modification, if any, due to site conditions and advise reasoned justification of cost\\nvariations on account of resultant extra items and excess supported by proper analysis.\\nCheck and review the test results/certificates of all construction material and or sources of material\\nand enforce the developer to undertake additional tests as necessary to assess the quality of works\\nand shall monitor test reports and frequency of testing as per tender stipulations and as approved\\nby Architect / Consultant.\\nMonitor the variations and deviations from the original designs, concept and work order and keep\\nthe Employer informed including obtaining prior approvals from the Employer whenever required.\\nREVIEW & APPROVE of drawings/ documents submitted by the Developer shall be done in a\\ntime bound manner within 3 days after submission by developer.\\nPMC has to prepare DCI, sequence of submission of DBR, drawings etc. & no. of DCI to complete\\nthe project as a whole aspect including services, external services, infrastructure development etc.\\ncomplete. Inform developer to submit DBR, drawings etc. as per PMC DCI.\\nThe approval of engineering documents such as Design Basis reports, Drawings, specifications etc.\\nshall be carried out as per Index of drawings finalized. Engineering documents shall be REVIEW\\n& APPROVED by PMC engineering specialists such as Architectural, General Civil, Structural,\\nElectrical etc. in line with technical requirements spelt out in the tender/ statutory requirements,\\nfinalized design basis reports, latest GDCR/NBC norms and best engineering practices being\\nfollowed in the industry and IS code provisions.\\nA dedicated team of Engineers consisting of Structural, Architectural, General Civil and Electrical\\nshall be deployed at Ahmedabad project office for the above purpose. Approval of engineering shall\\nbe carried out from there.\\nSupervision of construction activities, preparation & certification of bills.\\nMonitoring of progress of works, submission of periodical reports, monitoring of quality assurance\\nprograms, inspection of materials and equipment at site of work as well as factory site.\\nSatisfactory completion certificate of projects.\\nCommissioning of projects with respect to external services.\\nPeriodical monitoring of defect correction during execution and up to 12 months from the date of\\n\\n30\\n\\n\\x0cGUJARAT HOUSING BOARD - AHMEDBAD\\nissue of completion certificate.\\n\\n9.1.5\\n\\n1.\\n2.\\n\\n3.\\n4.\\n\\n5.\\n6.\\n7.\\n8.\\n9.\\n10.\\n11.\\n12.\\n13.\\n\\n14.\\n15.\\n\\nMONITORING, PLANNING, PROGRESS REVIEWING AND COORDINATION (General, Ongoing till the project completion)\\nReview of drawings/ documents submitted by the developer in a time bound manner.\\nThe review of engineering documents such as Design Basis reports, Drawings etc. shall be carried\\nout as per Index of drawings finalized. Engineering documents shall be reviewed by PMC\\nengineering specialists such as Architectural, General Civil, Structural, Electrical etc. in line with\\ntechnical requirements spelt out in the tender/ statutory requirements, finalized design basis reports\\nand best engineering practices being followed in the industry.\\nA dedicated team of Engineers consisting of Structural, Architectural, General Civil and Electrical\\nshall be deployed at Ahmedabad project office for the above purpose. Review of engineering shall\\nbe carried out from there.\\nTo review Planning, Scheduling and Implementing of detailed construction programs with\\nstipulated milestones framed developer to complete the project in time and indicate/scrutinize any\\nworks likely to be delayed or disrupted in written to Employer/Engineer-In charge/Architect/\\nConsultant after a careful study and ensuring timely completion of project.\\nTo monitor statutory approval related process initiated by the developer.\\nTo co-ordinate with the Engineer-in-charge / Employer / Architect / Consultant / Sub Contractor of\\nthe developer for all works related to Entire Project\\nTo Study & scrutinize approved drawings and point out discrepancies if any, as also to ensure\\nincorporation by the Developer.\\nDocumentation of all project related matters, including minutes of different meetings.\\nTo monitor complete implementation of detailed tender documents for each category of works, like\\nCivil works, Structural works, Electric works, Plumbing Services, Material Testing requirement\\nand other services completely within the Developer’s scope of work and as directed by Employer.\\nPreparation of periodical reports relating to time, cost and quality as directed by Employer.\\nEnsure that the Employer and the Developer abide by the Conditions of Contract.\\nCheck all the stipulated items of Work by Developer and estimation of BOQS.\\nScrutinizing, the construction methods proposed by the Developer for carrying out the works to\\nensure that these are satisfactory with reference to the technical requirements and deployment of\\nplant and machinery, project implementation schedule and environment aspects as well as safety of\\nworks, personnel and the general public\\nIn case the work is held up for more than 7 days, the representative of the PMC/Engineer will report\\nand work for liaisoning and coordination from the office of Gujarat Housing Board, for which no\\nadditional fee will be payable to the PMC.\\nThe consultant shall ensure Developer’s submission of all drawing prepared in BIM\\nenvironment/software of stipulated LOD\\n\\n9.1.6\\n\\n1.\\n2.\\n3.\\n4.\\n5.\\n\\nQUALITY CONTROL\\nMonitor the quality of the work, material testing – its reports & frequency and control the quality\\nas per specification, relevant codes and as per sound engineering practices.\\nMaintain the registers for mandatory tests to be conducted for all materials before incorporation in\\nwork. The guidelines may be taken from the Engineer in charge regarding the registers to be\\nmaintained.\\nInspect and approve the materials at site as per specifications before they are used in work.\\nShall be responsible for obtaining good workmanship with respect to lines, levels and plumb at all\\nstages of work with reference to working drawings and shall ensure correct dimensions of all\\nelements.\\nShall ensure that work proceeds as per tender conditions and specifications. All material brought to\\nsite shall be of approved quality and make, rejected material is removed from site and work executed\\n\\n31\\n\\n\\x0cGUJARAT HOUSING BOARD - AHMEDBAD\\n6.\\n\\n1.\\n\\n2.\\n3.\\n4.\\n\\n5.\\n\\n6.\\n\\n7.\\n8.\\n9.\\n\\n10.\\n\\nis of high standard, good workmanship, and desired quality.\\nEvolve and implement a system for the quality assurance of the works. The system of control of\\nquality of material and completed works shall also include sampling method and acceptance criteria.\\nThe sampling method and the acceptance criteria shall be based on statistical methods and the\\nrecommendations of the relevant IS codes and State R&B specifications. To co-ordinate and ensure\\ncompliance of action on the reports of Quality monitoring.\\n\\n9.1.7 SITE CO-ORDINATION (General till the project is completed)\\nShall attend periodic site meetings / meetings in Employer office and discuss site conditions\\nbottlenecks faced hindrances, time overruns, cost overruns and any other important matter along\\nwith proposed solutions. PMC will be required to submit periodic reports concerning quality\\nstandard and progress of the project.\\nTo co-ordinate between the Employer and Developer in all matters relating to obtaining approved\\nconstruction drawings from Architect / Consultant etc.\\nTo submit preliminary completion report, defect liability completion report, final job completion\\nreport to the Employer.\\nThe PMC shall in accordance with and as required by the terms of Agreement or agreements entered\\nor to be entered into between Employer on one part, and the developer or developers on the other\\npart certify after the verification that the work measured and stipulation in the specifications,\\ndrawings and Bill of Quantities prescribed in the contract agreement entered into with the\\nDeveloper (s) are in order. In the matter of approving such bills, the PMC shall confirm adherence\\nto the rules and instructions issued by Employer and intimate to the Employer, guarantee and\\ncorrectness of all such certificates and shall hold themselves responsible for the correctness of all\\nbills and certificates issued, scrutinized or checked by them, as to the quality of the work concerned\\nas well as the quantities of various items of works. Before certifying any bill, PMC shall ensure\\nthat the work being certified is, in general in accordance with the designs.\\nShall check periodically the quantities recorded for various items and keep watch on excess /\\nshortage. PMC shall account for all variations in tender quantities with respect to execution\\ndrawings and submit a report. Shall assess impact of excessive quantities on the cost of project and\\nwherever felt necessary by Employer, prepare a Running Summary of Cost for perusal. PMC shall\\nobtain approval from Employer/Engineer-In-charge/Architect / Consultant if the additional\\nquantities outside the scope put to tender are likely to arise prior to giving permission to Developer\\nto go ahead with the work.\\nThe PMC will, on submission of, measurement sheet submitted by the Developer verify the\\nmeasurements at site and recommend for the bill certification. Verification and Recommendation\\nof bill by PMC shall be forwarded to the Architect / Consultant appointed by Gujarat Housing\\nBoard who will further scrutinize the received bill documents on random basis and then payment\\ncertificate shall be recommended by Architect / Consultant. Entire Bill Certification works shall be\\ncarried out within stipulated time limit in EPC bid in accordance with quality of work executed and\\nin compliance with stipulated specifications.\\nShall co-ordinate with all agencies working at site, liaison with local authorities for proper\\npermissions / commencement certificate / completion certificate, etc.\\nShall submit detailed physical and financial progress reports once every month or as desired by\\nEmployer/Architect / Consultants in standard Performa approved by Employer/ Engineer- in charge\\n/Architect / Consultant\\nDetailed fortnightly reports will include physical progress, no. of test carried out along with their\\nresults as well as summary of observations made during the fortnight. It will list the audit points in\\nrespect to various activities & rectification required. It shall also highlight the weaknesses observed,\\nrecommended remedial measures and degree of compliance of the audit points raised in earlier\\nvisits. The consultant shall prepare a separate report on the progress of work.\\nShall advise Employer with regard to extra claims / disputes / Chief Technical Examiner’s\\n32\\n\\n\\x0cGUJARAT HOUSING BOARD - AHMEDBAD\\n\\n11.\\n12.\\n13.\\n14.\\n15.\\n16.\\n17.\\n18.\\n19.\\n20.\\n21.\\n22.\\n23.\\n24.\\n25.\\n26.\\n27.\\n28.\\n29.\\n30.\\n\\nobservations / Arbitration cases between Institute and the developers, in any and assist Employer\\nin case of any dispute till the cases are resolved either by mutual negotiation or through arbitration\\nor court, as the case may be.\\nShall suggest modifications, if any, due to site conditions and advise reasoned justification of cost\\nvariations on account of resultant extra items and excess supported by proper analysis.\\nShall provide construction supervision to the works assigned.\\nShall scrutinize bills of agencies after recording measurements in MB’s and recommend payment\\nto agencies by preparing final bills, as per direction of Engineer-in Charge/Employer/Architect /\\nConsultant.\\nKeep a check on the operating staff so as to ensure that all the systems are operated to the\\nsatisfactory level.\\nPrepare a checklist to monitor satisfactory performance of all the services as defined in Scope.\\nPrepare list of shortcomings in day-to-day operation of each system.\\nGet the shortcomings rectified through the operating staff.\\nShall get the system functional to the optimal level for maximum energy saving.\\nShall monitor the implementation of any alteration / addition based on the inputs from Architect /\\nConsultant to optimize utilization.\\nShall maintain a record of all the preventive and routine maintenance to avoid breakdown of the\\nsystem.\\nThe Engineer shall ensure strict compliance of the Agreement by developer concerned with their\\nrespective work.\\nPrepare and present monthly progress reports to the Employer/Engineer-in-charge/Architect /\\nConsultant, containing description of project activities.\\nShall assist the Employer/Engineer-in-charge in interpreting the Technical Specifications.\\nShall evolve a system of Quality Assurance of works.\\nShall assist the Employer in administering the Contract Maintenance System.\\nShall approve materials and ensure that the quality of the works is in accordance with the\\ncontractual specifications.\\nShall assist ‘Employer’ to order the removal of improper/substandard works.\\nShall advise and assist the ‘Employer’ with respect to the arbitration, the appeal of arbitration or\\nlitigation relating to the works, whenever required.\\nObtain integrated as built up drawings, incorporating the details of various works executed.\\nObtain guarantee certificate, maintenance manuals from specialist agencies and compile them in an\\neasily understandable for future reference.\\n\\n9.1.8\\n\\n1.\\n2.\\n\\nHanding over stage\\nEnsuring smooth handover and documentation of the units being transferred to the existing users\\npost handing over.\\nLiaison between GHB, developer and the users for smooth and timely execution of the process till\\nthe handing over\\n\\n9.1.9\\n\\n1.\\n\\nPost Handing Over/ Defect Liability Stage\\nSupporting during Defect Liability Period phase including time to time reporting to GHB biannually or as per GHB’s requirement from time to time.\\n\\nNote: In case, public housing component housing units and free sale housing units are constructed in single\\nbuilding/block, the PMC Consultant should undertake supervision, monitoring coordination and quality\\ncontrol activities in respect to structural, architect and common utilities point of view as mentioned in scope\\nof works for the building as a whole. Supervision and quality control for finishing works of FSC units will\\nnot be the responsibility of PMC consultant. The consultant will not be paid any additional compensation\\n\\n33\\n\\n\\x0cGUJARAT HOUSING BOARD - AHMEDBAD\\nfor any review/supervision/quality control activities undertaken for free sale units in situation mentioned as\\nabove.\\n9.2\\n\\nSCOPE OF WORKS FOR GREENFIELD/BROWNFIELD WORKS OTHER THAN\\nGHB REDEVELOPMENT PROJECTS\\n9.2.1\\n\\nProject Brief\\n\\nGovernment of Gujarat is undertaking various works related to infrastructure development such\\nas water supply network, underground drainage, planning & development of Overgrowth areas,\\netc.\\nThis Request for Proposal (RFP) is for empanelment of Project Management Consultant (PMC)\\nfor Infrastructure Planning & Development in urban areas of Gujarat. The works will be\\nundertaken on behalf of the Government of Gujarat and funds for the works will be obtained\\nfrom the Government of Gujarat under relevant schemes.\\nThe extent of services by the PMC will be from preparation of master plan, Review of DPR,\\nassistance in seeking grants/funds from donor agencies, managing bid process and finalizing\\nContractor and carry out services as PMC.\\nThe subsequent section details out various activities to be taken out by the Agency. For specific\\nprojects, the agency can be asked to either undertake whole or part of the scope mentioned\\nbelow. Specific RFP/ RFQ shall be issued to empaneled agencies with the scope of work and\\nmanpower requirement.\\n\\n9.2.2\\n\\nConceptual Plan Development\\n\\nThe concept plan including pre-feasibility study for development of a project shall provide\\nexpertise in urban planning, design, and development to create a comprehensive conceptual\\nplan that aligns with the project\\'s goals, stakeholders\\' interests, and regulatory requirements.\\na. Analyze the current state of the project area, including its physical, social,\\neconomic, and environmental aspects.\\nb. Identify potential challenges and opportunities for development, taking into\\naccount regulatory constraints and natural resource preservation.\\nc. The holistic conceptual plan should harmonize with the anticipated projects of the\\nUrban Development Authority (UDA)/Urban Local Body (ULB).\\nd. Engage with stakeholders, including local government officials, community\\nrepresentatives, environmental experts, and potential investors, to understand their\\nneeds and aspirations.\\ne. Develop a conceptual plan that outlines the spatial organization, land use,\\ninfrastructure, transportation, public spaces, and amenities of the project area.\\nf. Ensure that the conceptual plan integrates sustainable practices, environmental\\nconservation, and resilience considerations.\\ng. Provide recommendations for phasing, implementation strategies, and potential\\nfunding sources.\\n9.2.3 Master plan development\\n\\nMaster plan development shall encompass Strategic visioning and detailed layout design of\\n\\n34\\n\\n\\x0cGUJARAT HOUSING BOARD - AHMEDBAD\\nland use planning, transportation networks, infrastructure provisioning, environmental\\nsustainability, community facilities, and stakeholder engagement, culminating in a cohesive\\nblueprint that aligns with local regulations, addresses present and future needs, and fosters\\nholistic and balanced development.\\na. Project Initiation and Stakeholder Engagement\\n• Conduct an initial meeting with key stakeholders to understand their vision,\\nobjectives, and priorities for the project area.\\n• Identify relevant stakeholders and establish a communication strategy to\\ninvolve them throughout the process.\\n• Organize workshops, focus groups, and public consultations to gather input and\\nincorporate diverse perspectives.\\nb. Site Analysis and Assessment\\n• Conduct a detailed site analysis, including topography, soil quality, drainage\\npatterns, and existing infrastructure.\\n• Evaluate the economic, social, and demographic characteristics of the area to\\ninform land use and development decisions.\\n• Identify potential challenges and opportunities, taking into account regulatory\\nrequirements and environmental considerations.\\nc. Master Plan Development\\n• Develop a master plan that delineates land use zones, building densities, road\\nnetworks, pedestrian pathways, green spaces, and recreational areas.\\n• Provide design guidelines for architectural aesthetics, landscape design, and\\nurban aesthetics to ensure cohesive development.\\n• Incorporate considerations for mixed-use development, affordable housing, and\\ncommercial zones as appropriate.\\nd. Infrastructure and Utilities Planning\\n• Design a comprehensive infrastructure layout that includes water supply,\\nsewage systems, electricity distribution, and telecommunications.\\n• Propose sustainable solutions for energy efficiency, waste management, and\\nwater conservation.\\n• Ensure compatibility of infrastructure plans with the overall master plan.\\ne. Phased Implementation Strategy\\n• Develop a clear phased development strategy with timelines, priorities, and key\\nmilestones.\\n• Propose financing options, including public-private partnerships, grants, and\\npotential investors, to support each development phase.\\n• Provide a cost estimate for infrastructure and amenity implementation.\\nf. Documentation and Presentation\\n• Prepare a comprehensive master plan document that includes analysis findings,\\ndesign rationale, guidelines, and implementation strategies.\\n• Create visual aids, walk through, renderings, maps, and diagrams to illustrate\\nkey elements of the master plan.\\n• Prepare high quality animation videos (3-minutes length) of the proposed\\ndesign to be used for approval of Client.\\n• Obtain the approval of the Client and submit 6 copies of approved master plan\\n(layout plan)\\n\\n35\\n\\n\\x0cGUJARAT HOUSING BOARD - AHMEDBAD\\n• Deliver a compelling presentation of the master plan to stakeholders, local\\nauthorities, etc.\\n\\n9.2.4\\n\\nDetailed Project Report (DPR) preparation\\na. Develop engineering designs for roads, utilities, drainage systems, sewage, water\\nsupply, and other essential infrastructure.\\nb. Ensure that the engineering plans adhere to relevant standards, regulations, and best\\npractices.\\nc. Prepare a comprehensive Detailed Project Report document that includes all\\nfindings, analyses, designs, financial data, and implementation plans.\\nd. Create visual aids, diagrams, and illustrations to support the content of the DPR.\\ne. Prepare estimate as per R&B norms. The estimate shall also include the items\\nwhich are not present in Schedule of Rate (SOR) to be made on prevailing market\\nrate/ Company price list for company specific items along with justification and\\nsupporting specification.\\nf. The Consultant shall have to prepare quantity estimates and specifications of all\\nservices, general engineering works and landscaping specifying environment\\nfriendly options with proven technology proposed to be incorporated for the works\\nto be carried out at site.\\ng. Ensure that the DPR complies with all relevant local, regional, and national\\nregulations and permits.\\nh. Facilitate the process of obtaining necessary approvals from regulatory authorities.\\n\\n9.2.5\\n\\nAssistance in seeking financial grant/ loan from MDBs\\nTo provide expertise in project financing, proposal development, and relationship building\\nwith MDBs to secure financial support for the development project.\\na. Evaluate the project\\'s alignment with the eligibility criteria of different MDBs that\\noffer grants or loans.\\nb. Provide information about each MDB\\'s funding criteria, application process, and\\nfocus areas.\\nc. Identify suitable Multilateral Development Banks (MDBs) that offer grants or loans\\nfor development projects.\\nd. Assist in preparing a compelling project proposal/ Preliminary Project Report\\n(PPR) that aligns with the goals and priorities of the selected MDBs.\\ne. Provide support with the application and approval processes of MDBs for securing\\nfinancial support.\\nf. Establish and maintain communication with representatives from the selected\\nMDBs.\\ng. Facilitate meetings, discussions, and presentations to showcase the project\\'s merits\\nand align it with the MDB\\'s priorities\\nh. Maximize the chances of successfully obtaining a financial grant or loan from\\nMDBs for implementation of the project\\ni. Support in ensuring compliance to selected MDB’s regulations and guidelines\\n\\n9.2.6\\n\\nBid Process Management\\na. Develop a comprehensive bid management strategy that outlines the timeline,\\nstages, and key milestones for the procurement process.\\n\\n36\\n\\n\\x0cGUJARAT HOUSING BOARD - AHMEDBAD\\nb. Develop comprehensive bid documents that include project specifications, terms\\nand conditions, evaluation criteria, and contract templates.\\nc. Advertise the bidding opportunity through appropriate channels, ensuring wide\\nreach and maximum participation\\nd. Oversee the entire bid process, from prequalification to contract award, ensuring\\ntransparency, fairness, and efficiency.\\ne. Facilitate effective communication with bidders, evaluation committees, and\\nproject stakeholders.\\nf. Maintain accurate records of the entire bid process, including correspondence, bid\\nsubmissions, and evaluation outcomes.\\ng. Ensure that the selected contractors or vendors have the technical capacity,\\nfinancial stability, and commitment to meet project requirements.\\n\\n9.2.7 Contract Management\\nTo provide expertise in contract administration, monitoring, and compliance to ensure that\\nthe project\\'s contracts are executed efficiently, within budget, and in accordance with the\\nagreed terms.\\na. Establish a robust contract management system to monitor the execution of\\ncontracts and ensure timely project delivery.\\nb. Develop a comprehensive contract management plan that outlines the procedures,\\ntools, and responsibilities for contract administration.\\nc. Collaborate with project stakeholders to define key performance indicators (KPIs)\\nand benchmarks for contract performance.\\nd. Implement a system to track and monitor the progress of each contract against\\npredefined milestones and deliverables.\\ne. Generate regular progress reports that provide updates on contract status,\\nchallenges, and achievements.\\nf. Conduct regular site visits and inspections to ensure that contractors adhere to\\nquality standards and project specifications.\\ng. Verify that all work is carried out in accordance with the contract terms, applicable\\nregulations, and industry best practices.\\nh. Facilitate effective communication among project stakeholders, contractors, and\\nvendors.\\ni. Monitor and verify progress for payment milestones and ensure that invoices are\\nsubmitted accurately and in a timely manner.\\nj. Mitigate risks associated with contract non-compliance and deviations.\\n9.2.8 Project Management Consultancy (PMC)\\nA. Project supervision and monitoring\\na. Deploy required manpower mentioned in this RFP for each project and requirement\\nof the implementing agencies.\\nb. Project shall be monitored using Integrated Digital Platform\\nc. Supervision/ monitor works for conformity with quality, good workmanship, line,\\nlevels etc. and provide total supervision of works.\\nd. Co-ordinate with agencies to ensure all the works progress in a systematic,\\nsynchronized and time bound manner.\\ne. Conduct daily site meeting to sort-out the bottlenecks holding the progress.\\nf. Interact daily with respective UDA/ULBs/ implementing agencies/ contractors on\\n\\n37\\n\\n\\x0cGUJARAT HOUSING BOARD - AHMEDBAD\\nall matters related to execution (i.e., site condition, progress of various components\\nwith respect to timeline, highlight the issues, planning of the execution, status of\\npending approvals NoCs, requirement of fund, extra/ excess/ savings of the\\ncomponents, etc.) including submission of monthly/ quarterly progress report, cost\\nstatus etc.\\ng. Provide monthly/ quarterly progress reports (component wise) to the office of\\nGUDA, UDA, Municipal Corporation & other relevant offices\\nh. Provide the guidance in purchase/ procurement of site materials, new technology\\nadoption, alternative methodology, etc.\\ni. Verify contractor’s site measurements, bills and issue appropriate payment\\ncertificate and recording MB (Measurement Book), if required and maintenance of\\nall records/ documents.\\nj. Verification & Certification of Measurement Sheet, Certification of Invoices raised\\nby Contractor\\nk. Organize and witness the testing along with various test reports of contractor and\\ncommissioning of services and systems.\\nl. Arrange and coordinate multistage Consultation proposed under the project and\\naccordingly ensure modification of the project components.\\nm. Contract administration and Management of the Subprojects\\nn. Prepare construction supervision manual and maintenance manual\\no. Interpretation of the technical specifications for each subproject\\np. Supervise and monitor construction work of each contract package\\nq. Verification of surveyed maps and design vis-a-vis ground situation and make\\nnecessary corrections, if required, with approval\\nr. Checking the line level, layout of the construction to ensure conformity with the\\ncontract, proposed and presentation for approval any changes in the plans that may\\nbe deemed necessary indicating effect due to the change on contract and\\npreparation of variation orders accordingly\\ns. Scrutinize the contractor’s detailed work program and guide Contractor in\\npreparation of supervision schedule/ work plan for each package\\nt. Scrutinize construction methods proposed by contractor including environmental,\\nsafety, personnel and public issues\\nu. Assess the adequacy of the contractors’ inputs in material, labor and construction\\nmethodology and provide advisories when required\\nv. Monitor the construction method by assessing the adequacy of the contractor’s\\ninput materials, labour, equipment and construction methods\\nw. Monitor implementation of environmental standards and safeguards and if any\\nResettlement Plans\\nx. Supervising the construction of the various contract packages for the related\\noutputs of the Program\\ny. Monitor and inspect the contractor’s methods of construction for permanent and\\ntemporary works, including false work, checking of centering & scaffolding,\\nreinforcement and supervision of concrete & other civil work, as well as materials\\nand equipment installation, workmanship and other site operations in regard of\\ncompliance with the requirements of the specification, the applicable standards and\\nthe manufacturer’s recommendations, with all due attention being given to\\nadherence to safety codes, labor laws, either laws, bye-laws and regulations and\\navoidance of public nuisance.\\n\\n38\\n\\n\\x0cGUJARAT HOUSING BOARD - AHMEDBAD\\nz. Record the work measurement and certify the contractor’s bill. The Field Engineer\\nshall record all the measurement of work. However, 100% measurement of hidden\\nitems shall be verified by the Site/ Municipal Engineer. In addition, Consultant\\nshall also assist the employer in verification of measurement by the engineer of the\\nULB/ State.\\naa. Assist the employer in interim and final certification of the bills of payment.\\nbb. Furnish the detailed construction drawings as necessary during continuance of the\\ncontract or checking and approving shop drawings of contractor for\\nimplementation, as required\\ncc. Assistance for resolution of all contractual issues including examining the\\ncontractor’s claims for variations/ extensions or additional compensations etc. and\\nprepare recommendations for approval by the employer\\ndd. Periodic review of the project shall be undertaken to review necessary aspects,\\naddressing different issues relating to engineering, construction & procurement. In\\ncase of delay in any of activities, the delay analysis shall be made, and remedial\\nmeasures shall be suggested by the Consultant.\\nee. The Contractor shall be responsible for safety of man, material and public property.\\nHowever, the Consultant shall ensure that all safety measures are taken by the\\nContractor w.r.t. public safety and safety of man, material, machinery and property\\nof the ULB/ employer or any property of 3rd Party associated/ adjoining the project\\nff. Assist third party inspections, if necessary, as decided by employer\\ngg. Assist State/ Urban Local Bodies in obtaining all necessary permissions and\\ncomplying with statutory requirements as required prior to construction, such as\\npermissions from Railway, National Highway, Department of Archaeology,\\nDepartment of Forests and National Parks, and tree-cutting etc.\\nhh. Proof checking and issuance for execution of contractors’ design and drawings for\\nall allotted works\\nii. Review and finalize the “as built” drawings submitted by Contractor\\njj. Assist the employer in issue of completion certificates\\nkk. Inspect the works at appropriate intervals during defect liability period and\\ncertification issue\\nll. Recommendation for closer of work.\\nmm. The PMC will be responsible for deployment, withdrawal of staff/ additional staff\\nfor efficient and complete supervision of works. PMC cannot withdraw the\\nmanpower deployed at sites without prior approval from the respective ULBs/\\nProject In-Charge. In any case, progress of the project has been compromised due\\nto such efforts, sole responsibility will be of PMC and penalties shall be imposed\\nto the agency as per the provisions of this RFP/ Contract Agreement.\\nnn. The execution of terms and conditions mentioned in the project bid document must\\nbe maintained.\\noo. Coordination with DPR Consultant for any corrections/ modification/ changes in\\ndesign are to be made as per site condition.\\n\\nB. Quality Control & Assurance\\na. Establish Quality assurance system including verification of source of material and\\ncertification. The contractor shall establish quality control laboratory for carrying\\n\\n39\\n\\n\\x0cGUJARAT HOUSING BOARD - AHMEDBAD\\nout mandatory field tests as prescribed in the specifications of work. The\\nconsultant, through suitable manpower shall ensure that the required tests (as per\\ntender conditions of the project/ IS Code of the respective materials/ desired by\\nthe ULB-Implementing Agencies-Client/ As per Govt. of Gujarat norms/ As per\\nGovt. of India norms) shall be carried out by the contractor in presence of the Site\\nEngineer of the consultant and Project In-Charge, ULB.\\nb. Carry out necessary quality control activities and certify that the quality of works\\nconfirms to the specifications and drawings.\\nc. Maintain proper registers to keep the records of the quality control reports (on site,\\noff-site).\\nd. The agency has to ensure the proper and suitable methodology of the workmanship\\naccording to the prevailing conditions of the contract document & government’s\\nrules & regulations.\\n\\nC. Financial management\\na. Develop and implement a comprehensive financial management plan to oversee\\nthe project\\'s financial resources and expenditures.\\nb. Ensure that financial activities are aligned with project goals, funding sources, cash\\nflow projections and regulatory requirements.\\nc. Monitor and control project finances to mitigate risks and ensure cost-effective\\nimplementation.\\nd. Implement cost control measures to identify and address cost overruns or\\nunexpected expenses.\\ne. Analyze financial risks and propose strategies to mitigate potential financial\\nchallenges.\\nf. Provide accurate and timely financial reports to project stakeholders and funding\\nentities.\\ng. Coordinate with funding entities, including government agencies, donors, and\\nMDBs to ensure accurate reporting and adherence to their funding requirements.\\nh. Review RA bills provided by the contractor and other associated vendor for\\naccuracy.\\ni. The Consultant shall co-ordinate to take joint measurements of all work\\ncomponents as per BOQ in presence of Client’s representative.\\nj. The Consultant shall verify all bills raised by Executants for payment against the\\nwork executed and shall recommend the same for payment to Client’s EIC of\\nrespective sites\\nk. The Consultant shall evaluate additional time, if any required, during execution of\\nproject or at the completion stage of project and shall recommend the same for\\napproval of client\\nl. The Consultant shall evaluate quantity of each item of work, if it deviates the BOQ\\nquantity, during execution of project or at the completion stage of project and shall\\nrecommend the deviation statement for approval of client within the purview of\\nWorks Contract executed with the executants.\\nm. Issue of Part Completion/ Full Completion Certificate before finalization of\\naccount\\n\\n40\\n\\n\\x0cGUJARAT HOUSING BOARD - AHMEDBAD\\nn. Final measurements, Review of old measurements and Checking of final bills\\nsubmitted by the executants with respect to measurements of BOQ items, statutory\\ndeductions and others as applicable. The Consultant shall recommend the final\\nbills of each site to respective EIC of Client for settlement.\\n\\nD.\\n\\nStatutory Compliance, Audit Compliance, Safety Matters and others:\\n\\na. The Consultant shall ensure that all safety requirements are adhered to by the\\nExecutants during execution of project at different sites.\\nb. The Consultant shall ensure that all statutory requirements are adhered to by the\\nExecutants during execution of project at different sites.\\nc. The Consultant shall assist the Client to provide all statutory and safety\\ncompliances as and when it is required.\\nd. The Consultant shall assist the Client to provide the compliance to different audit\\nobservations like Internal Audit observations, Statutory Audit observations and AG\\nAudit observations.\\ne. The Consultant shall own the responsibility for sound & safe construction of the\\nproject.\\nf. The Consultant shall own the responsibility of proper execution of work as per\\ndesign\\n\\n9.2.9\\n\\nPost Execution Stage\\na. Obtain and submit the followings to the respective ULBs/ Implementing agencies:\\ni. Integrated as built-up drawing from Construction agency, incorporation the\\ndetails of various works actually executed; Geo-referenced as built drawings\\nshall be collected and submit it to the respective Municipal Corporation/UDA/\\nImplementing Agencies.\\nii. Prepare the maintenance manuals, Standard Operating Procedures (SoPs) for\\nthe better understanding of the system, machineries and various components of\\nthe projects\\nb. Assist client in finalization of the final dues of the contractors, along with proposals\\nof Extra/ Excess/ Savings/ Variations, if any.\\nc. Recommendation for payment of final bill.\\nd. Handing over all documents, papers, drawings, other details related to the projects\\nto client.\\ne. Assist client/contractor for any other works so as to complete the project for\\ninauguration.\\nf. Any handhold support during defect liability period as well as during operation and\\nmaintenance period.\\ni. Make periodic site visits to ensure that any outstanding work agreed upon with\\nthe contractor before the issue of the certificate of substantial completion is\\nproperly carried out.\\nii. In the event of any defect and whenever required, visit the site, ensure that\\nrepairs are properly carried out.\\niii. On the occasion of site visits as above and/ or request of the Client, supervise\\nperformance of the operators and report to the Client in case of shortcomings,\\nincluding recommending on corrective actions.\\n\\n41\\n\\n\\x0cGUJARAT HOUSING BOARD - AHMEDBAD\\niv. At the end of the defect’s correction period and when all outstanding work is\\ncompleted and all repairs are carried out satisfactorily, issue the defects\\ncorrections certificate in accordance with the provisions of the construction\\ncontract.\\ng. All other work as mentioned in Bid document.\\n\\n9.2.10 General activities\\na. Consultant is required to maintain proper records (i.e. Conceptual Plan, Master\\nPlan, DPR copy, Drawings related to the project, Tender Copy, Material testing\\nregister, Inventory for Materials, Schedule of work execution, etc.) through\\ncontractor at site of work in addition to normal routine requirement of own office.\\nThe records to be maintained shall include but not limited to\\ni. Daily Progress Record\\nii. Work Site Order Book\\niii. Instruction by Officers of the Municipal Corporation, UDA, PMU and other\\nGovernment authorities\\niv. Test Registers of other materials/ fittings, fixtures, equipment as stipulated in\\nthe tender.\\nv. Register for Working Details.\\nvi. Logbook of Defects.\\nvii. Hindrance Register giving details of commencement and removal of each\\nhindrance.\\nviii. Supply and consumption registers of all materials shall be maintained.\\nix. Day to day Record of used/ received materials shall be entered in the register\\nand signed by the Site Engineer of the Municipal Corporation/UDA/\\nImplementing Agencies as well as contractors’ representative at site.\\nx. Copy of Measurement Book\\nxi. Stage-wise photographs of various components\\nb. If any work not mentioned in the scope of work in contract and if it is essential to\\nexecute the work by Project Management Consultant than PMC must inform in\\nwriting to Respective Municipal Corporation/UDA/ Implementing Agencies\\nimmediately.\\nc. PMC has to see that all running bills of contractor to be submitted within Seven\\ndays with clear opinion on each item of the bill. If excess, extra or additional\\nexpenditure have to be incurred for extra, additional or excess items, a self contained proposal signed by Site In-Charge, PMC to be submitted immediately\\nwith technical and financial justifications prior to execution. Provide their view &\\nrecommendations for the time extension for the projects, if required.\\nd. PMC will be required to attend personally all meeting called either by Government\\nor the Client.\\ne. The PMC shall be responsible for the implementation of the detailed design day to\\nday inspection and evaluation of the work entrusted to Contractor.\\nf. This project is to be completed within stipulated timeline as per the issued LOI/\\nWork Order to successful contractor.\\ng. Required manpower shall be available at site for normal working hours of the\\nimplementing agencies and as per prior approved schedule for critical work like\\n\\n42\\n\\n\\x0cGUJARAT HOUSING BOARD - AHMEDBAD\\nconcreting, lay outing, steel work etc.\\nh. If works are stopped more than a month (30 days) than a notice will be issued by\\nthe Implementing Agencies for demobilization of manpower and deployment of\\ntechnical persons within 15 days’ notice on either side and suitable penalties will\\nbe enforced towards the agency.\\ni. If works are stopped from the side of contractor/ construction agency more than 15\\ndays (fifteen days) than a notice along with proper reasons and probable penalties\\nshall be issued to the contractor/ construction agency from the PMC side and the\\nissue must be informed to the respective Municipal corporation/UDA/\\nImplementing Agencies.\\nj. Train scheme operators, selected by the Client or others, to give them the\\nappropriate skills for proper operation and maintenance of the works.\\nk. Consultant has to share best practices and new technology of various sectors across\\nthe country, to the Implementing Agencies for the adoption of the same.\\n9.3\\n\\nPROJECT TIMELINES\\n\\n1.\\n\\nThe work order to consultant for individual site shall be released as and when finalized by\\ncompetent authority. After work order Consultant must start all services as specified in\\nscope of work in RFP.\\nIn case of new projects time limit for Project conceptualization phase shall be as specified\\nin RFP and for execution phase it shall be same as that of the Developer appointed for\\nexecution of Project.\\nIn case, ongoing Project is awarded to the Consultant then Project timeline shall begin from\\ndate of LOI and Project completion shall be same as that of Developer’s project completion\\ndate. In such projects payment shall be released as per the project milestones define in RFP.\\nNo compensation for delay if project gets delayed for whatsoever reasons.\\nIf PMC do not meet the specified requirement, the Employer will not pay the Consultancy\\nfees for the affected portion.\\n\\n2.\\n3.\\n4.\\n5.\\n6.\\n\\nPMC shall immediately replace the team member on request of Gujarat Housing Board.\\nPMC fails to deploy the requisite personnel or replace any member as instructed, the PMC\\nshall be liable for action for termination of Contract and or blacklisting.\\n\\n7.\\n\\nIn case of non-deployment of NGO, penalty of 50,000 Rs or actual cost of hiring agency\\nwhichever higher shall be levied.\\n\\n9.4\\n\\nTEAM COMPOSITION\\n\\n1.\\n\\nThe Consulting firm will be expected to provide the staff as specified in Appendix 17.\\nScheduled provided is indicative only and actual requirement of the staff to be employed\\nby the Consultant would depend upon the extent of the work.\\nAfter award of the contract the Employer expects all the proposed key personnel to be\\navailable during implementation of the contract as per the agreed staffing schedule. The\\nEmployer will not consider substitutions during contract implementation except under\\nexceptional circumstances (such as death and/or extreme nature of ailment for which\\nMedical Certificate shall be produced from Hospital/Nursing Home).\\nRemoval and/or Replacement of Personnel\\n\\n2.\\n\\n3.\\n\\n43\\n\\n\\x0cGUJARAT HOUSING BOARD - AHMEDBAD\\n1.\\n\\n9.5\\n\\nNo changes shall be made in the Key Personnel. If, for any reason beyond the\\nreasonable control of the Consultant, such as retirement, death, medical incapacity,\\namong others, it becomes necessary to replace any of the Key Personnel, the\\nConsultant shall provide as a replacement a person of equivalent or better\\nqualifications.\\n2. If the GHB finds that any of the Personnel have (i) committed serious misconduct or\\nhave been charged with having committed a criminal action, or (ii) have reasonable\\ncause to be dissatisfied with the performance of any of the Personnel, then the\\nConsultant shall, at the GHB’s written request specifying the grounds thereof, provide\\nas a replacement a person with qualifications and experience acceptable to the GHB.\\nFACILITIES:\\nThe Consultant will have to make his own arrangements for office, utilities,\\naccommodation and transport and should include cost of all these elements in his Financial\\nOffer. It is necessary to set up site office in the vicinity of each project site.\\n\\n9.6\\n\\nREPORTS\\nThe consultant will prepare and submit the following reports (as given below) to the\\nEmployer on the format prepared by the Consultants and as approved by the Employer\\n/Engineer-in charge/Architect / Consultant\\nSr.\\nNo.\\n\\nReport\\n\\nFrequency\\n\\nDue Date/Time\\n\\nNo. of\\nCopies\\n\\nPHASE I – PROJECT CONCEPTUALIZATION PHASE\\n\\n1\\n\\n2\\n\\nDevelopment\\nof\\nConceptual Architectural\\nMaster Plan as per\\nCGDCR and minimum\\nprovision of one fourwheeler parking per DU\\n\\nOne Time (may\\nrequire to be\\nrevised as per\\nGHB\\ndirections)\\n\\nWithin 3 days of issue\\nof LOI\\n\\n3\\n\\nFinal Tender Document\\nfor\\nselection\\nof\\nDeveloper along with all\\nsupporting Annexures\\n\\nThere may be\\nmultiple\\nrevision\\nand\\nupload of\\nTender\\nDocuments\\n\\nWithin 15 days of\\napproval\\nfor\\nConceptual\\nArchitectural Master\\nPlan\\n\\n3\\n\\nPHASE II – PROJECT EXECUTION PHASE\\n\\n1.\\n\\nInception Report\\n\\nOne time\\n\\n2.\\n\\nDetailed Progress Report\\n(Monthly)\\nindicating\\ndetails as mentioned and\\n\\nEvery month\\n/Every\\n15 days once\\n\\n15 days after\\ncommencement\\nof\\nservices at\\nconstruction stage\\nMonthly-By 7th of the\\nfollowing\\nmonth.\\nFortnightly- by 21st\\n\\n3\\n\\n3\\n\\n44\\n\\n\\x0cGUJARAT HOUSING BOARD - AHMEDBAD\\n\\n3.\\n\\n4.\\n\\n1.\\n\\n2.\\n\\n3.\\n\\n9.7\\n\\nFortnight\\nReport\\nindicating details as\\nmentioned.\\n\\nin a month\\n\\nof every month.\\n\\nQuarterly Report\\n\\nEvery Quarter\\n\\nBy 10th of the Quarter\\nMonth\\n\\n3\\n\\nOne time\\n\\nWithin 15 days of\\ncompletion\\nof\\nservices/ contract.\\n\\n3\\n\\nFinal Report\\n\\nThe Commencement Report at construction stage shall contain the details of all meetings\\nheld with the Employer/Engineer –in- charge/Architect / Consultant and the developer and\\ndecisions taken therein, the resources mobilized by the Consultants as well as the developer\\nand the Consultants’ perception in the management and supervision of the maintenance\\nworks. The Report shall also include the Work Program me and Resource Mobilization for\\nthe Project.\\nThe monthly Progress Report shall contain details of all meetings, decisions taken therein,\\nmobilization of resources (Consultants’ and the developer), Detailed compliance report of\\neach activity, progress and the projected progress for the forthcoming periods. The Report\\nshall clearly bring out the delays, if any reasons for such delay(s) and the recommendations\\nfor corrective measures.\\nFinal Report: The Consultant shall prepare a comprehensive final completion report with\\nprogressive photograph after completion of the work. The report shall incorporate summary\\nof the method of maintenance supervision performed, problems encountered, and solutions\\nundertaken thereon and recommendations for future projects of similar nature to be\\nundertaken by the Employer.\\nADDITIONAL SERVICES:\\nThe empaneled consultant shall, if so, required by the Gujarat Housing Board, to provide\\nany additional services other than detail scope pf work mentioned herein, the same will be\\nrendered at the man-month rate specified in Contract agreement. Gujarat Housing Board’s\\ndecision in this regard shall be final and binding. The same will be executed under the\\nrevised TOR.\\n\\n9.8\\n\\nPENALTIES:\\n\\n1.\\n\\nThe Gujarat Housing Board may conduct independent quality monitoring and checking of\\nworks executed by the Consultant. If such checks disclose that works carried out by the\\nConsultant do not meet the specified requirement, the Employer will not pay the\\nConsultancy fees for the affected portion.\\nIf the service of a team member provided by the Consultant is not acceptable to the Gujarat\\nHousing Board, the Consultant shall immediately replace the team member on request of\\nGujarat Housing Board. If the Consultant fails to quickly deploy/replace a team member\\nas instructed by the Employer, the Employer may make temporary arrangement. The\\ntemporary deployment/replacement shall be paid by the Gujarat Housing Board and same\\n\\n2.\\n\\n45\\n\\n\\x0cGUJARAT HOUSING BOARD - AHMEDBAD\\n\\n3.\\n\\nshall be recovered from Consultant’s periodical bills after adjusting reduction in the person\\nmonth scope of the Consultant Contract.\\nThis will however be a temporary arrangement and if the Consultant fails to deploy the\\nrequisite personnel or replace any member as instructed, the Consultant shall be liable for\\naction for termination of Contract and or blacklisting.\\n\\n9.9\\n\\nTERMS & PAYMENT SCHEDULE:\\n\\n1.\\n\\nFor each of service in the scope of work, the Consultant shall be paid at the following stages\\nconsistent with work. Payments made to the Consultant are ‘On account’ and shall be\\nadjusted against the final amount payable. The schedule of payment shall be as per details\\ngiven below.\\n\\n2.\\n\\nMODE AND STAGE OF PAYMENT for GHB Redevelopment works:\\nSr. No.\\n\\nDescription\\nof Services\\nA. Tendering process\\n1\\nIndicative\\nPlanning\\n2\\n\\nBreakup in % of\\noffered rate\\n\\nRemarks\\n\\n1%\\n\\nOn submission of Conceptual Architectural\\nMaster Plan & Unit Plan at project concept level\\n\\n1%\\n\\nOn uploading of Final Tender document\\n\\n1%\\n\\nOn issuing LOA to Developer\\n\\n12%\\n\\nThis shall be payable in pro-rata base in\\naccordance with the actual progress of Design &\\nDrawing submission & approval. For\\nArchitectural and Engineering Design\\nReview/Approval works prorated progress\\npayments submission up to achieving Code 2\\napprovals of the drawings.\\nat the stage of Rajachitthi receipt\\nThis shall be payable in pro-rata base in\\naccordance with the actual physical progress of\\nwork as per milestone payment to the developer\\nof the work.\\n\\nTender\\nPreparation\\n3\\nSelection and\\nfinalization of\\nbidder\\nB. Project management services\\n4\\n\\n5\\n\\n6\\n7\\n8\\n\\nArchitectural\\nand\\nEngineering\\nDrawings\\nReview\\n& Approval\\nServices\\nPMC\\nSupervision\\n&\\nconsultancy\\netc.\\nAt Project\\ncompletion\\nAt the end of\\nDLP\\nAt the end of\\nall the bill\\nclearances\\n\\n5%\\n70%\\n\\n5%\\n\\nThis shall be payable on issue of completion\\ncertificate of the work.\\n\\n2.50%\\n\\nOn completion of the defect liability period i.e.,\\nas per TOR.\\nOn completion of all the formalities including\\nfinal bill of agency handing over, etc. -\\n\\n2.50%\\n\\n46\\n\\n\\x0cGUJARAT HOUSING BOARD - AHMEDBAD\\nTotal\\n\\n3.\\n\\n100%\\n\\nMODE AND STAGE OF PAYMENT for Greenfield/Brownfield Works other than\\nGHB Redevelopment Projects:\\n\\nSr Description of\\nNo. Services\\n\\nBreakup\\nin % of\\noffered\\nrate\\n\\nRemarks\\n\\nA. Tendering process\\n1\\n\\nConceptual Plan\\nDevelopment\\n\\n2%\\n\\nOn submission of Conceptual Master Plan\\n\\n2\\n\\nMaster Plan\\nDevelopment\\n\\n3%\\n\\n3\\n\\nDPR preparation\\n\\n1%\\n\\nOn submission of Final DPR document\\n\\n3\\n\\nTender Preparation\\n\\n1%\\n\\nOn uploading of Final Tender document\\n\\n4\\n\\nSelection and\\nfinalization of bidder\\n\\n1%\\n\\nOn approval of Master Plan\\n\\nOn issuing LOA to Developer\\n\\nB. Project management services\\n\\n12%\\n\\nThis shall be payable in pro-rata base in accordance\\nwith the actual progress of Design & Drawing\\nsubmission & approval. For Architectural and\\nEngineering Design Review/Approval works prorated\\nprogress payments submission up to achieving Code 2\\napprovals of the drawings.\\n\\n6\\n\\nPMC Supervision &\\nconsultancy etc.\\n\\n70%\\n\\nThis shall be payable in pro-rata base in accordance\\nwith the actual physical progress of work as per\\nmilestone payment to the contractor of the work.\\n\\n7\\n\\nAt Project completion\\n\\n5%\\n\\nThis shall be payable on issue of completion certificate\\nof the work.\\n\\n8\\n\\nAt the end of DLP\\n\\n2.50%\\n\\nOn completion of the defect liability period i.e., as per\\nTOR.\\n\\n9\\n\\nAt the end of all the\\nbill clearances\\n\\n2.50%\\n\\nOn completion of all the formalities including final bill\\nof agency handing over, etc.\\n\\n5\\n\\nArchitectural and\\nEngineering\\nDrawings Review\\n& Approval Services\\n\\n47\\n\\n\\x0cGUJARAT HOUSING BOARD - AHMEDBAD\\nAll payments shall be made by the Employer to the Consultant on monthly basis within 30 days\\nafter submission and its subsequent approval by the competent authority/client.\\n9.9.4 For the Projects which are already under construction stage, payment shall be given based\\non above milestone schedule for the balance work of Project on pro-rata basis. For the balance\\nwork of Project date of LOI issues shall be considered\\n9.9.5 Deduction of Income tax or any such tax admissible at the time of payment shall be made\\nfrom Consultant’s bill as per the applicable law.\\nFORM -1 : INFORMATION ON CONSULTANCY FIRMS ORGANISATION\\nSN\\n\\nInformation\\n\\nDetails\\n\\nRemarks\\n\\n1\\n\\nName of the Firm\\n\\n2\\n\\nYear of incorporation\\n\\n3\\n\\nPlace of incorporation\\n\\n4\\n\\nType of organization\\n(Partnership/Privately\\nheld/Publicly held)\\n\\n5\\n\\nNo. of years of operation in\\nIndia\\n\\n6\\n\\nAreas of business\\n\\n7\\n\\nNumber of technical Employee\\n\\n8\\n\\nPF Registration number\\n\\n9\\n\\nPAN Detail\\n\\nCertified copy to\\nbe attached\\n\\n10\\n\\nVAT Number\\n\\nCertified copy to\\nbe attached\\n\\n11\\n\\nBrief profile of the firm\\n\\nSeparate\\ndocument may\\nbe attached\\n\\nCertified copy of\\nincorporation to\\nbe attached\\n\\nAuthorized Signature:\\nName and Title of Signatory:\\n48\\n\\n\\x0cGUJARAT HOUSING BOARD - AHMEDBAD\\nName of Firm:\\n\\nFORM -2 ISO 9001 CERTIFICATION\\nS.N. Information\\n1\\nName of the Firm\\n2\\nYear of receipt of ISO Certification for the\\nfirst time\\n3\\n\\nName of ISO Auditor\\n\\n4\\n\\nLatest re-certification audit held in the year\\n\\n5\\n\\nCertified copy ofthe latest Certificate\\n\\nDetails\\n\\nRemarks\\n\\nTo be attached\\n\\nAuthorized Signature:\\nName and Title of Signatory:\\nName of Firm:\\n\\n49\\n\\n\\x0cGUJARAT HOUSING BOARD - AHMEDBAD\\nFORM -3 : INFORMATION ON BLACKLISTING\\n\\nSl.\\nNo.\\n\\nInformation\\n\\n1\\n\\nWas the consultant firm ever\\nblacklisted by any government / nongovernment /private agency/\\norganization/ institution / funding\\nagency in last 10 years?\\n\\nDetails\\n\\nRemarks\\nAttached affidavit, in case\\nno\\nhistory of\\nblacklisting\\n\\nAuthorized Signature:\\nName and Title of Signatory:\\nName of Firm:\\n\\n50\\n\\n\\x0cGUJARAT HOUSING BOARD - AHMEDBAD\\nFORM -4 KEY PERSONNELS’ EMPLOYMENT DETAILS\\nS.N.\\n\\nName of Date\\nof No.\\nof Number of\\nthe\\nyears\\nof years Service\\nJoining of\\nexperience\\nPerson\\nConsultant’s\\nwith\\nFirm\\nConsultant’s\\nOrganization\\n\\nPermanent/\\nof Contract\\nthe Employee\\n\\n1\\n2\\n3\\n4\\n5\\n..\\n..\\n..\\n..\\nNote:1. Attach Copy of the TDS and PF statement for each of the proposed key staff as per the\\ntable above.\\n2. Above information shall be given for project monitoring cell at Ahmedabad and for each\\nsite separately.\\n\\nAuthorized Signature:\\nName and Title of Signatory: Name of Firm:\\n\\n51\\n\\n\\x0cGUJARAT HOUSING BOARD - AHMEDBAD\\nFORM -5 : FINANCIAL INFORMATION OF CONSULTANT’S FIRM\\nFY: 2022‐\\n23\\n\\nFY: 202122\\n\\nFY: 202021\\n\\nAnnual turnover from professional fees of\\nthe consultant ‘s firm (Rs. Crore)\\n\\nNote: Attach Copy of the audited Balance Sheet certified by Chartered Accountant\\n\\nAuthorized Signature:\\nName and Title of\\nSignatory Name of Firm:\\n\\n52\\n\\n\\x0cGUJARAT HOUSING BOARD - AHMEDBAD\\nFORM -6 : FIRM’S EXPERIENCE IN High rise Residential/ Commercial/Institutional/\\nInfrastructure projects IN LAST TEN YEARS\\nSr Name Project\\nClient Project No of Total\\nCommissioning\\nType\\nof\\nNo of\\nLocation\\nCost\\nstorey Carpet /Commencement\\nConsultancy\\nProject With\\nin Rs.\\nArea\\nof Operation\\nServices\\naddress\\nCr\\nDate\\nFY\\n1\\n2\\n3\\n4\\nTotal\\nNotes:\\n1. Only the works in which the consultant had offered their services for the consultancy\\nwork for project management services construction supervision and inspection services,\\nare to be listed.\\n2. Attached notarized true Copy of Client certificate shall be enclosed for each work\\nincorporating all required details as above table, without client’s certificate, the\\nperformance shall not be considered for evaluation.\\n3. Projects successfully implemented and commissioned between FY 2012-13 to FY\\n2022-23 are to be mentioned, chronologically.\\n4. Details of each project to be provided in form 8 attached.\\n\\nAuthorized\\nSignature:\\nName and Title of\\nSignatory Name of Firm:\\n\\n53\\n\\n\\x0cGUJARAT HOUSING BOARD - AHMEDBAD\\nFORM -7: FIRM’S DETAILS OF WORKS ON HAND\\nSr.No Name Project Client Project No.of Total\\nLocation\\ncostin Rs. storey Carpet\\nof\\nWith\\nCr.\\narea\\nProject address\\n\\nCommissioning\\nCommencement\\nOperation\\nDate\\n\\n/ Type\\nof\\nof Consultancy\\nServices\\n\\nFY\\n\\n1\\n2\\n3\\n4\\n5\\n..\\n..\\n..\\nTotal\\n\\nNotes:\\n1. Only the works in which the consultant had offered their services for the consultancy work\\nfor project management services construction supervision and inspection services, are to\\nbe listed.\\n2. Client certificate shall be enclosed for each work, without client’s certificate, the\\nperformance shall not be considered for evaluation.\\n\\nAuthorized Signature:\\nName and Title of Signatory:\\nName of Firm:\\n\\n54\\n\\n\\x0cGUJARAT HOUSING BOARD - AHMEDBAD\\nFORM -8 : FIRM REFERENCE IN HIGH RISE RESIDENTIAL/\\nCOMMERCIAL/INSTITUTIONAL/ INFRASTRUCTURE PROJECTS IN LAST\\nTEN YEARS\\n\\nAssignment Name :\\n\\nCountry:\\n\\nLocation within country :\\n\\nProfessional Staff\\nProvided\\nFirm/ Entity (profiles) :\\n\\nName of Client :\\n\\nNo. of staff :\\n\\nAddress :\\n\\nNo. of Staff\\nassignment :\\n\\nStart Date (Month/Year) :\\n\\nCompletion\\n(Month/Year) :\\n\\nName of Associated Consultants, if any :\\n\\nDate\\n\\n-Months;\\n\\nValue\\nof\\nservices:\\n\\nby Your\\n\\nduration\\n\\nof\\n\\nconsultancy\\n\\nNo. of Months of professional Staff,provided\\nby Associated Consultants\\n:\\n\\nName of Senior Staff (Project Director/Coordinator, Team Leader) involved and functions\\nperformed :\\n\\nNarrative Description of Project :\\n\\nDescription of Actual Services* Provided by Your Staff :\\n\\nNote. : Attached separate sheet for each work.\\nAuthorized Signature:\\nName and Title of Signatory:\\nName of Firm:\\n\\n55\\n\\n\\x0cGUJARAT HOUSING BOARD - AHMEDBAD\\n\\nFORM-9 : FIRM’S EXPERIENCE IN STRUCTURAL DESIGN:\\nSN Name\\nProject\\n\\nof Project Project No. of Client\\nStory\\nLocation Cost\\nName Client’s\\nwith\\naddress\\nPersons\\n\\nCommissioning Project Type\\nDuration\\n/\\n(Months) Of\\nCommencement\\nstructure\\nof operation\\n\\nContact\\nInformation\\n\\n(Address,\\nTelephone,\\nFax etc.)\\n\\nNotes:\\n1. Projects successfully implemented and commissioned between FY 2012-13 to FY 2022-23\\nare to be mentioned, chronologically.\\n2. Attach notarized true Copy of Client certification\\n3. Building constructed with load bearing walls, R.C.C. frame structure, R.C.C. cast in situ\\nwalls and slab monolithic construction will be considered as conventional.\\nAuthorized Signature:\\nName and Title of Signatory:\\nName of Firm:\\n\\n56\\n\\n\\x0cGUJARAT HOUSING BOARD - AHMEDBAD\\nFORM – 10: FIRM’S EXPERIENCE IN STRUCTURAL DESIGN OF BUILDING\\nCONSTRUCTED WITH ALTERNATIVE TECHNOLOGY\\n\\nProject\\nName Location Project\\nwith\\nof\\ncost\\nProject address\\n\\nClient’s\\nCommissioning\\nDescription Of\\nPersons\\n/\\nClient Contact\\nProject ALTERNATIVE\\nDuratio\\nName Information\\nDuration TECHNOLOGY\\nn\\n(Months)\\n(Months) USED\\n(Address,\\nTelephone,\\nFax etc.)\\n\\nDate\\n\\nFY\\n\\nNotes:1. Projects successfully implemented and commissioned between FY 2015-16 to FY 202223 are to be mentioned, chronologically.\\n2. Attach Client certification\\nAuthorized Signature:\\nName and Title of Signatory:\\nName of Firm:\\n\\n57\\n\\n\\x0cGUJARAT HOUSING BOARD - AHMEDBAD\\nFORM -11: CONSULTANT’S PROPOSED METHODOLOGY AND WORK PLAN\\nConsultant’s Technical approach, methodology and work plan for this assignment are to be\\nelaborated in these sections, broadly under following sections:\\na) Understanding of the TOR\\nb) Technical Approach and Methodology,\\nc) Work Program\\nd) Organization and Staffing\\n\\n1. The write up should explain Consultant insight with respect to the objectives of the\\nassignment, approach to the services, methodology for carrying out the activities and\\nobtaining the expected output, and the degree of detail of such output. The Consultant\\nshould also explain the methodologies propose to adopt and highlight the compatibility of\\nthose methodologies for the project envisaged.\\n2. Consultants should propose the main activities of the assignment, their content and\\nduration, phasing and interrelations, milestones (including interim approvals by the Client),\\nand deliverables. The proposed work plan should be consistent with the technical approach\\nand methodology, showing understanding of the TOR and ability to translate them into a\\nfeasible working plan. The work plan should be consistent with the suggested Work\\nprogram of the consultant\\n3. Consultants should also propose the structure and composition of the proposed team,\\nindicating main disciplines of the assignment, the key expert responsible, and proposed\\ntechnical and support staff.\\n\\n58\\n\\n\\x0cGUJARAT HOUSING BOARD - AHMEDBAD\\nFORM -12: Team Composition and Task Assigned.\\nCategory\\n\\nNo. of\\nStaff\\n\\nName\\n\\nEdu\\nqual\\n\\nNo of\\nyears of\\nexperience\\n\\nNo of\\nyears\\nemployed\\nwith firm\\n\\nTask\\nAssigned\\n\\nMan\\nmonth\\nproposed\\n\\nNote:- (i) Information for project management cell at Ahmedabad and for each project\\nsite shall be given in separate sheet.\\n\\nAuthorized Signature:\\nName\\nand\\nTitle\\nof\\nSignatory: Name of Firm:\\n\\n59\\n\\n\\x0cGUJARAT HOUSING BOARD - AHMEDBAD\\nFORM -13 : Comments and suggestions on the Request for Proposal and on data,\\n\\nservices, and facilities to be provided by the Client.\\nOn Request for\\nProposal : 1.2\\n3.\\n4.\\n5.\\n\\nOn the data, services, and facilities to be providedby the Client 1.2.\\n3.\\n\\n4.\\n5.\\n\\nConsulting Firm’s Name\\n\\nAuthorized Signature:\\nName and Title of Signatory:\\nName of Firm:\\n\\n60\\n\\n\\x0cGUJARAT HOUSING BOARD - AHMEDBAD\\n9.10 PREPARATION OF PROPOSALS\\n\\n9.10.1 In preparing the Financial Proposal, consultants are expected to take in to account the\\nrequirements and conditions of the RFP documents. The Financial Proposal should\\nfollow Standard Forms (Volume 1 Section - 4).\\n9.10.2 It lists all costs associated with the Assignment are deemed to be included in the\\nfinancial offer, such costs could be (a) remuneration for staff (foreign and local, in the\\nfield and at headquarters), and (b) reimbursable such as subsistence (per diem,\\nhousing), transportation (international and local, for mobilization and demobilization),\\nservices and equipment (vehicles, office equipment, furniture, and supplies), office\\nrent, insurance, printing of documents, surveys; and training, if it is a major component\\nof the assignment.\\n9.10.3 The Financial Proposal shall be inclusive of all the taxes, social security, duties, fees,\\nlevies, and other impositions imposed under the applicable law, on the consultants, the\\nsub-consultants, and their personnel.\\n9.10.4 Consultants may express the price of their services in the currency of Indian Rupee\\nonly.\\n9.10.5 Commissions and gratuities, if any, paid or to be paid by consultants and related to the\\nAssignment will be borne by the consultant.\\n9.10.6 The Data Sheet indicates how long the proposals must remain valid after the\\nsubmission date. During this period, the consultant is expected to keep available the\\nprofessional staff proposed for the assignment. The Client will make its best effort to\\ncomplete negotiations within this period. If the Client wishes to extend the validity\\nperiod of the proposals, the consultants who do not agree have the right not to extend\\nthe validity of their proposal.\\n9.10.7 The financial proposal shall be quoted on per sqm. Basis of carpet area for Project\\nManagement and construction supervision Consultancy Services as given in the price\\nbid. Payment shall be paid as per payment schedule.\\n\\n9.10.7.1\\n9.10.7.2\\n9.10.7.3\\n9.10.7.4\\n9.10.7.5\\n\\nThe costs shall be given inclusive for phases of work:\\nLiasoning between Existing Users, Developers & GHB through NGO’s.\\nReview of construction design, Structural drawings etc.\\nProject Management & supervision\\nHanding over of Units.\\n\\n61\\n\\n\\x0cGUJARAT HOUSING BOARD - AHMEDBAD\\n\\n10 CONTRACT AGREEMENT AND GENERAL CONDITIONS\\nOF CONTRACT\\nAGREEMENT\\nAgreement between Gujarat\\nHousing Board And ………………… ………\\n…………\\n…………\\n……………………………………………………\\n………\\n………………\\n……………\\n……………………………… for selection of consultant for (a) architecture & allied services (b)\\nproject management consultancy (PMC) services including construction supervision of\\nimplementation process for development of EWS housing at selected sites for Gujarat Housing\\nboard.\\nThis agreement entered\\ninto\\nat …………………………………………………….\\nOn …………… ……………… ………… …………….\\nbetween Gujarat Housing Board., a Government of Gujarat Organization registered under the\\nSocieties Act 1956 having its registered Office at Gujarat Housing Board, Pragatinagar,\\nNaranpura, Ahmedabad. Hereinafter called the “Gujarat Housing Board” (which expression shall,\\nunless repugnant to the context, include its legal representative, successors and assigns), of the one\\npart.\\nAND ………………………………………………………………., a firm (which term shall\\ninclude its executors, administrators, administrator, successors, legal representatives and assigns)\\nhaving its office:\\n…………………………………………………………………………………………………..\\n………………………………………………………………………………………………………\\n………………………………………………………………………………………………………\\n…………………………………………………………………………\\nWHEREAS ---------------------------intends to develop the project Selection & Empanelment of\\nConsultant for various projects to be undertaken by Gujarat Housing for Re-development of\\nhousing at selected sites for Gujarat housing board, in the stateof Gujarat and hire professional\\nServices of for the said project.\\nAND WHEREAS ....................................................................................... has offered and\\nwilling to\\nrender its professional services as Consultancy hereinafter referred to as “Consultant” for the said\\nproject.\\n\\n62\\n\\n\\x0cGUJARAT HOUSING BOARD - AHMEDBAD\\nNOW THIS PRESENTS WITNESS, it is hereby agreed by and between the parties here\\nto as follows:\\nThe Employer hereby appoint and engage the services of as Consultant in connection with\\nproject monitoring and project management consultancy services for execution of the said\\nproject, the cost of which is approximately Rs. lac for stipulated scope of services as\\nmentioned etc. The Consultant having represented to the Employer that they have the\\nrequired professional skills, personnel, and technical resources, have agreed to provide the\\nservices on the terms and conditions set forth in the Contract. The Consultant hereby\\naccepts the said appointment as Consultant -on the terms and conditions set out in this\\nagreement as well as Letter of intent No. as part and parcel of this agreement.\\n. NOW IT IS AGREED BETWEEN THE PARTIES AS UNDER:\\n1.\\n\\n2.\\n3.\\n\\nThe Consultant is required to provide services in respect of Preparation of Architectural\\nConceptual master plan as per GDCR norms by considering parking norms, preparation of\\ntender documents and estimate, selection of bidder for construction works, Review\\narchitectural, structural and MEP services drawings and Supervision of all construction\\nactivities, Certification of bills produced by developer/developer if required.\\nAny work/s related to completion of the project as assigned by Gujarat Housing Board or\\nby its Authorized representation as and when required.\\nThe works mentioned in terms of reference are part of scope of work. All reports to be\\nfurnished accordingly. The PMC shall carry out the services with the provisions of the\\ncontract.\\n\\n63\\n\\n\\x0cGUJARAT HOUSING BOARD - AHMEDBAD\\nOVERALL GENERAL TERMS\\nThe Consultant shall work and represent Gujarat Housing Board and get necessary permission,\\ninteract all concerned authorities on behalf of Gujarat Housing Board.\\nConsultant will declare the name of the team which will be on site with their address , telephone\\nno., qualification, experience, etc. The site in charge should be conversant with English in writing\\nand speaking.\\nConsultant will prepare documentation in form of Video, Photographs, survey etc. before\\nexecution/during the execution/ post execution and submit a copy to Gujarat Housing Board from\\ntime to time.\\nConsultant will be required to attend personally all meetings called either by Government or\\nGujarat Housing Board.\\nThe Consultant shall be responsible for the direction and integration-of the Architect / Consultant\\n& developer work. The Consultant shall be fully responsible for the implementation of the detailed\\ndesign, day to day inspection and evaluation of the work entrusted work. The PMC shall not make\\nany deviations, alterations or omissions from the approved drawings, involving financial\\nimplications without prior consent of the Gujarat Housing Board. The PMC shall supervise and\\nget the work implemented for structural soundness of the works by the developer.\\nConsultant shall, regularly, check the’ progress of the work and shall submit the progress report to\\nthe Gujarat Housing Board, mentioning there in the progress of the work, quality of the work, etc.\\nConsultant may also point out in the report as to whether the developer has carried out the work,\\nas per design and specification and materials of approved quality and quantity or not.\\nConsultant shall not assign, sub-let or transfer their interest in this agreement.\\nDrawing, plans and specification are the property and ownership of the Gujarat Housing Board,\\nirrespective of whether the work has been executed or not.\\nCOMMISSION AND OMMISSION OF THE PROJECT\\nThe Gujarat Housing Board reserves the right to make changes in the project including revision in\\nthe total value of the project.\\nIn case of the discontinuation of the project, the payment would be made to Consultant according\\nto the services rendered.\\nDISPUTES AND ARBITRATION\\nWhere any difference or dispute arises out of these conditions of agreement or as to interpretation\\nof any terms of this agreement including scale of professional fees and charges, the parties shall\\nfirst Endeavour to co- operate to resolve the dispute or controversy by mutually determined\\notherwise such difference or dispute shall be referred to the sole arbitrator as provided in\\nArbitration and Conciliation Act, 1996 as mentioned in contract.\\n\\n64\\n\\n\\x0cGUJARAT HOUSING BOARD - AHMEDBAD\\nSERVICEABILITY\\nIf any terms, clause or provision of this agreement shall be judged, to be invalid for any reason\\nwhatsoever, such invalidity shall not affect the validity or operation of any other term, clauses or\\nprovisions of this agreement and such invalid terms, clause or provision shall be deemed to have\\nbeen deleted from this agreement and a valid term, clause or provision be substituted with\\nretrospective effect, if necessary.\\nENTIRE AGREEMENT\\nThis agreement together with the details of schedules, annexure/appendix, exhibits, and conditions\\nexecuted by the parties hereto constitute the entire agreement between the parties with respect to\\nthe subject matter.\\nNo forbearance, indulgence or relaxations by any party at any time to require performance of any\\nprovision of this agreement shall\\' in any way affect, diminish or prejudice the right of such party\\nto require performance of the provision and any waiver by any party shall not be construed as a\\nwaiver or an amendment of the provisions itself, or a waiver of any right under or arising out of\\nthis agreement.\\nNON-EXCLUSIVE:\\nThe business or services Consultant shall not affect the services agreed to be offered to the Gujarat\\nHousing Board and Consultant shall not offer the same services of the project to any other party.\\nNON-SOLICITATION:\\nNeither party shall directly or indirectly, offer employment or take on employment to the\\nemployees of the other party, who were involved in the works under this agreement, either during\\nthe subsistence of this agreement or after the termination of the agreement for a period of one year\\nthereafter.\\nCOMMUNICATIONS:\\nAll notices, requests, demands and other communications under this agreement or in connection\\nthere with shall be given to or made upon the respective parties as follows:\\nTo, Consultant\\n\\nTo,\\n\\nGujarat Housing Board, Pragatinagar,\\n\\nExecutive Engineer,\\n\\nNaranpura,Ahmedabad:380 013\\n\\nDivision\\n\\nPh. No. (079) 27474726\\nFax No. (079) 27470477\\n\\n65\\n\\n\\x0cGUJARAT HOUSING BOARD - AHMEDBAD\\nOr to such other person or address as any of the parties shall have notified to the others. All notices,\\nrequest, demands and other communications given or made in accordance with the provisions of\\nthis agreement shall be in writing.\\nSUSPENSION OF CONTRACT\\nOwner may at any time, should Owner deem it necessary to do so for any valid reason, suspend\\nall or part of the Services giving not less than fourteen days written notice to Consultant. Such\\nnotice of suspension shall specify the part of Services to be suspended and the effective date of\\nsuspension. Consultant shall suspend Services on the date or dates specified by Owner in any\\nnotice under this clause and shall use every reasonable effort to recommence Services with the\\nleast possible delay upon receipt of Owner\\'s notice to resume.\\nConsultant may, by giving not less than fourteen days written notice to Owner, suspend the\\nServices, if Owner fails to fulfill its obligations under this Contract, and such non-fulfillment\\npersists even after giving the written notice of 30 days by Consultant.\\nIf all or part of the Services is suspended, then the amounts due and payable to Consultant shall be\\nincreased as mutually agreed to compensate Consultant for the period of suspension.\\nTERMINITATION OF CONTRACT\\nOwner may, at any time, should Owner deem it necessary to do so, terminate this Contract\\nforthwith by giving one month written notice to PMC.\\nIn the event of termination pursuant to as mentioned in this RFP hereof, PMC shall carry out any\\nreasonable instructions of Owner in connection with such termination.\\nTermination of this CONTRACT shall not relieve either PARTY of their obligations imposed by\\nthis CONTRACT with respect to the SERVICES performed by either PARTY prior to such\\ntermination.\\nIn the event of termination pursuant to as mentioned in this RFP hereof, OWNER shall pay to\\nPMC for all the SERVICES performed by PMC under this CONTRACT up to the date of\\ntermination such compensation as may be mutually agreed upon and proportionate to the\\npercentage progress of Services as indicated in the latest progress report submitted.\\nOWNER shall also reimburse such additional expenses which PMC may incur for orderly winding\\nup of the SERVICES.\\n\\n66\\n\\n\\x0cGUJARAT HOUSING BOARD - AHMEDBAD\\nSPECIAL CONDITIONS OF THE CONTRACT\\nGENERAL PROVISIONS\\nDefinitions\\nUnless the context otherwise requires, the following terms wherever used in this Contract\\nhave following meanings:\\na) \"Applicable Law\" means the laws and any other instruments having the force of law\\nin India as they may be issued and in force from time to time.\\nb) \"Employer\" means the Gujarat Housing Board.\\nc) \"Consultants\" means____________________________ (Name of the consultant)\\nd) \"Contract\" means the Contract signed by the Parties, together with all\\ndocuments/Appendices attached hereto and includes all modifications made in terms of the\\nprovisions of Clause 2.2 hereof,\\ne) \"Operator\" means any person or entity who are employed by the Employer for\\nSELECTION & EMPANELMENT OF CONSULTANT FOR VARIOUS PROJECTS TO\\nBE UNDERTAKEN BY GUJARAT HOUSING BOARD.\\nf) \"Effective Date\" means the date on which the Contract comes into force and effect;\\ng) \"Government\" means the Government of India /Gujarat\\nh) \"Local Currency\" means the Indian Rupees\\ni) \"Personnel\" means persons hired by the Consultants as employees and assigned to the\\nperformance of the Services or any part thereof.\\nj) \"Party\" means the Employer or the Consultants, as the case may be, and \"Parties\" means\\nboth of them\\nk) \"Services\" means the work to be performed by the Consultants pursuant to this Contract\\nfor the purpose of operations & maintenance work and stipulated scope of works.\\nl) “Architect / Consultant” shall mean the agency appointed by the Gujarat Housing Board\\nor its body to assist in preparing conceptual layout, tender site preparation, evaluation of\\nthe agency, approval of all drawings and design. Inspection and assist in contractual matters\\nrelated to appointing the developer for said project and assist in any other contractual\\nmatters arising during ongoing works as directed by the Employer.\\nm) “Engineer-in-Charge” shall mean person / official employed by Employer.\\nLaw Governing Contract\\nThis Contract, its meaning and interpretation, and the relation between the Parties shall be\\ngoverned by the Applicable Laws of the Government of India and State Government.\\n\\n67\\n\\n\\x0cGUJARAT HOUSING BOARD - AHMEDBAD\\nLanguage\\nThis Contract has been executed in English Language, which shall be the binding and\\ncontrolling language for all matters relating to the meaning of interpretation of this\\nContract.\\nHeadings\\nThe headings shall not limit, alter or affect the meaning of this Contract.\\nDeployment of staff for site supervision\\nIt shall be done as per the requirement of site and mutual understanding between and\\nConsultant.\\nNotices\\nAny notice, request or consent required or permitted to be given or made pursuant to this\\nContract shall be in writing. Any such notice, request or consent shall be deemed to have\\nbeen given or made when delivered in person to an authorized representative of the Party\\nto whom the communication is addressed, or when sent by registered mail, telex, to such\\nParty at the addresses specified as under:\\nFor the Employer :\\nAttention:\\nTHE EXECUTIVE ENGINEER\\nGUJARAT HOUSING BOARD AHMEDABAD\\nFor the Consultants:\\nAttention: _____________________(Name of Authorized Representative)\\nAddress: _______________________\\nName and address of the consulting firm.\\nFax:\\nTelephone:\\nNotice will be deemed to be effective as follows:\\na) In the case of personal delivery or registered mail, on delivery;\\nb) In the case of telexes, (24) hours following confirmed transmission;\\nLocation The services shall be performed at such locations as are/to be specified in TOR\\nhereto and as the Employer may approve & inform.\\nAuthorized Representatives\\n\\n68\\n\\n\\x0cGUJARAT HOUSING BOARD - AHMEDBAD\\nAny action required or permitted to be taken and any document required or permitted to be\\nexecuted under the Contract by the Employer or the Consultants be taken or executed by\\nthe officials as under\\nFor the Employer: Executive Engineer or his designated representative\\nFor the Consultants: Authorized Representative or his designated representative\\nTaxes and Duties\\nThe consultant and the personnel shall pay the taxes and other impositions levied under the\\nexisting amendment or enacted laws during life of this contract and the Employer shall\\nperform such duties in regard to the deduction of such taxes as may be lawfully imposed.\\n\\nCOMMENCEMENT, COMPLETION, MODIFICATION AND TERMINATION\\nOF CONTRACT\\nEffectiveness of Contract\\nThis Contract shall come into force and effect on the date (The \"Effective Date\") of the\\nEmployer\\'s notice to this effect to the Consultants.\\nTermination of Contract for Failure to Become Effective\\nIf this Contract has not become effective within Two (2) months of the date hereof, either\\nParty may, by not less than two (2) weeks written notice to other Party, declare this Contract\\nto be null and void, and in the event of such a declaration by GHB, no payment of PMC\\nbut in case of PMC, EMD/SD shall be forfeited or Housing commissioner decision is final.\\nCommencement of Services\\nThe Consultants shall commence the Services not later than on a date (Starting Date) three\\n(3) days after the signing of the Agreement.\\nExpiration of Contract\\nUnless terminated earlier pursuant to Clause hereof, the Contract shall expire when\\npursuant to the provisions hereof, the services have been completed and payments of\\nremuneration and reimbursable expenditure have been made.\\nEntire Agreement\\nThis Contract contains all covenants, stipulations and provisions agreed by the Parties. No\\nagent or representative of either Party has authority to make, and the Parties shall not be\\nbound by or be liable for, any statement, representation, promise or agreement not set forth\\nherein.\\nModifications\\n\\n69\\n\\n\\x0cGUJARAT HOUSING BOARD - AHMEDBAD\\nModifications of the terms and conditions of this Contract, including any modification of\\nthe scope of the services, may only be made by written agreement between the Parties.\\nPursuant to 2.5 (iii) & forms & SC 6.2,7.2 hereof, however, each Party shall give due\\nconsideration to any proposals for modifications made by the other Party.\\nForce Majeure\\nForce Majeure shall mean in respect of any Party an event beyond the reasonable control\\nof such Party which prevents or delays such Party from performing its obligations under\\nthis Agreement (except for the obligation to pay money) or which materially increases its\\ncosts of performing those obligations. Examples include, to the extent they otherwise meet\\nthe foregoing definition, the following: war, hostilities, civil disturbances, any kind of local\\nor national emergency, riot, fire, flood, hurricane, storm, earthquake, concealed or\\nsubterranean conditions at the Site that could not be discovered by a reasonable inspection\\nof the Site, power failure or power surge, epidemic, explosion, sabotage, act of God, acts\\nor failures to act by Governmental Authorities (including failure to issue, delays in issuing\\nbeyond the period provided by law (or if no such period is provided, beyond the customary\\nperiod), or revocation of Governmental Authorizations, except to the extent any such\\nfailure, delay or revocation is due to the negligence or willful misconduct of Consultant or\\nits Affiliates), failure of the Expert consultants or Key personnel to perform or deliver on\\na timely basis, to the extent such failure is due to a force majeure condition affecting the\\nConsultant, strike, slowdown or other lab our unrest (other than a localized strike against\\nan individual employer), delay of carriers, failure of the usual modes of transportation,\\nembargo, change in any applicable Law from that in effect on the date hereof, any condition\\nat the Site that requires remediation under any applicable Law related to the environment,\\nor expropriation or confiscation of facilities. Force Majeure shall not include breach of\\ncontract by Expert Consultants. The rights and obligations of the Affected Party shall be\\nsuspended to the extent they are affected by the Force Majeure. EMPLOYER shall not be\\nliable to make any payments to the Agency for it being affected on account of Force\\nMajeure. EMPLOYER reserves the right to terminate the contract if the Force Majeure\\ncontinues for more than 15 (Fifteen) days at a stretch.\\nSuspension\\nThe Employer may, by written notice of suspension to the Consultants, suspend all\\npayments to the Consultants hereunder if the Consultants fail to perform any of their\\nobligations under this Contract, including the carrying out of the Services, provided that\\nsuch notice of suspension (i) shall specify the nature of the failure, and (ii) shall request\\nthe Consultants to remedy such failure within a period not exceeding fifteen (15) days after\\nreceipt by the Consultants of such notice of suspension.\\nTermination\\nBy the Employer\\nThe Employer may, by not less than fifteen (15) days written notice of termination to the\\nConsultants (except in the event listed in paragraph (f) below, for which there shall be\\n70\\n\\n\\x0cGUJARAT HOUSING BOARD - AHMEDBAD\\nwritten notice of not less than thirty (30) days), such notice to be given after the occurrence\\nof any of the event specified in paragraphs (a) through (g) of this Clause, terminate this\\nContract.\\na) If the Consultants fail to remedy a failure in the performance of their obligations\\nhereunder, as specified in a notice of suspension pursuant to Clause, hereinabove, within\\nfifteen (15) days of receipt of such notice of suspension or within such further period as\\nthe Employer may have subsequently REVIEW & APPROVED in writing;\\nb) If the Consultants or if any of their members become insolvent or bankrupt or enter into\\nany agreement with their creditors for relief or debt or take advantage of any law for the\\nbenefit of debtors or go into liquidation or receivership whether compulsory or voluntary;\\nc) If the Consultants fail to comply with any final decision reached as a result of arbitration\\nproceedings pursuant to Clause hereof;\\nd) If the Consultants submit to the Employer, a statement which has a material effect on\\nthe rights, obligations or interests of the Employer and representation or statement,\\nmade/submitted by the Consultants of any part thereof is found to be false;\\ne) If, as a result of Force Majeure, the Consultants are unable to perform a material portion\\nof the services for a period of not less than thirty (30) days;\\nf) If the Employer, in its sole discretion and for any reason whatsoever, decides to terminate\\nthis Contract; g) If the Consultants, in the judgment of the Employer has engaged in corrupt\\nor fraudulent practices in competing for or in executing the Contract.\\nFor the purpose of this Clause : Corrupt practice means the offering, giving, receiving or\\nsoliciting of anything of value to influence the action of a public official in the selection\\nprocess or in contract execution. \"Fraudulent practice\" means a misrepresentation of facts\\nin order to influence a selection process or the execution of a contract to the detriment of\\nthe Employer, and includes collusive practice among Consultants (prior to or after\\nsubmission of proposals) designed to establish prices at artificial noncompetitive levels\\nand to deprive the Borrower of the benefits of free and open completion.\\nBy the Consultants\\nConsultants may, by not less than thirty (30) days of written notice of termination to the\\nEmployer (except in the event listed in the paragraph (e) below for which there shall be\\nwritten notice of not less than thirty (30) days), such notice to be given after the occurrence\\nof any of the events specified in paragraphs (a) through (e) of this Clause terminate this\\nContract:\\na) If the Employer fails to pay any money due to Consultants pursuant to this Contract and\\nnot subject to dispute pursuant to Clause of Govt of contract hereof within thirty (30) days\\nafter receiving written notice from the Consultants that such payment is overdue;\\nb) If the Employer is in material breach of its obligations pursuant to this Contract and has\\nnot remedied the same within forty five (45) days (or such longer period as the Consultants\\n71\\n\\n\\x0cGUJARAT HOUSING BOARD - AHMEDBAD\\nmay have subsequently APPROVED in writing) following the receipt by the Employer of\\nthe Consultants notice specifying such breach;\\nc) If as a result of Force Majeure, the Consultants are unable to perform a material portion\\nof the services for a period of not less than thirty (30) days; or\\nd) If the Employer fails to comply with any final decision reached as a result of arbitration\\npursuant to Clause hereof\\ne) If the Consultants, in its sole discretion and for any reason whatsoever decides to\\nterminate the Contract.\\nCessation of Rights and Obligations\\nUpon termination of this Contract, pursuant to Clauses hereof, or upon expiration of this\\nContract pursuant to Clause hereof, all rights and obligations of the Parties hereunder shall\\ncease, except (i) such rights and obligations as may have accrued on the date of termination\\nor expiration (ii) the obligation of confidentiality set forth in Clause hereof, (iii) the\\nConsultants\\' obligations to permit inspection, copying and auditing of their accounts and\\nrecords set forth in Clause hereof, (iv) the Consultants\\' obligations regarding default in\\nperformance of the service in accordance with the provisions of the Contract and for any\\nloss suffered by the Employer, whereof, as a result of such default, and (v) any right which\\na Party may have under the Applicable Law.\\nCessation of Services\\nUpon termination of this Contract, by notice of either Party to the other, pursuant to Clauses\\nhereof, the Consultants shall, immediately upon dispatch or receipt of such notice, take all\\nnecessary steps to bring the services to a close in a prompt and orderly manner and shall\\nmake every reasonable effort to keep expenditures for this purpose to a minimum. With\\nrespect to documents prepared by the Consultants and equipment and materials furnished\\nby the Employer, the Consultants shall proceed as provided, respectively by Clauses\\nhereof.\\nPayment under Termination\\nUpon termination of this Contract pursuant to Clauses hereof, the Employer shall make the\\nfollowing payments to the Consultants (after offsetting against these payments any amount\\nthat may be due from the Consultants to the Employer).\\nI.\\n\\nRemuneration pursuant to Clause hereof for Services satisfactorily performed prior to the\\neffective date of termination:\\n\\nII.\\n\\nReimbursable expenditures pursuant to Clause hereof for expenditure actually incurred\\nprior to the effective date of termination; and\\n\\nIII.\\n\\nExcept in the case of termination pursuant to paragraphs (a) through (d) of Clause hereof,\\nreimbursement of any reasonable cost incidental to the prompt and orderly termination of\\n\\n72\\n\\n\\x0cGUJARAT HOUSING BOARD - AHMEDBAD\\nthe Contract including the cost of the return travel of the Consultants personnel and their\\neligible dependents.\\nDisputes about Events of Termination\\nIf either Party whether an event specified in Clause hereof has occurred, such Party may,\\nwithin forty-five (45) days after receipt of notice of termination from the other Party, refer\\nthe matter to arbitration, pursuant to Clause hereof, and this Contract, shall not be\\nterminated on account of such event except in accordance with the terms of any resulting\\narbitral award.\\nOBLIGATIONS OF THE CONSULTANT\\nGeneral\\nStandard of Performance\\nThe Consultants shall perform the Services and carry out their obligations hereunder with\\nall due diligence, efficiency and economy, in accordance with generally accepted\\nprofessional techniques and practices, and shall observe sound management practices, and\\nemploy appropriate advanced technology and safe and effective equipment, machinery,\\nmaterials and methods. The Consultants shall always act, in respect of any matter relating\\nto this Contract, or to the Services, as faithful advisers to the Employer, and shall at all\\ntimes support and safeguard the Employer\\'s legitimate interests in any dealing with\\nEngineer-in-charge and Architect / Consultant.\\nLaw Governing Services\\nThe Consultants shall perform the Services in accordance with the Applicable Law and\\nshall take all practicable steps to ensure that any of the Personnel and agents of the\\nConsultants, comply with the Applicable Law.\\nConflict of Interests\\nJurisdiction :\\nJurisdiction of the court should be Ahmedabad only.\\nConsultants not to benefit from Commissions, Discounts, etc.\\nThe remuneration of the Consultants pursuant to Clause hereof shall constitute the\\nConsultants\\' sole remuneration in connection with the contract or the services, and subject\\nto Clause hereof, the Consultants shall not accept for their own benefit any trade\\ncommission, discount or similar payment in connection with activities pursuant to this\\nContract or to the Services or in the Discharge of their obligations hereunder, and the\\nConsultants shall use their best efforts to ensure that any of the Personnel and agents of\\neither of them, similarly shall not receive any such additional remuneration.\\nProcurement\\n\\n73\\n\\n\\x0cGUJARAT HOUSING BOARD - AHMEDBAD\\nIf the Consultants, as part of the Services, have the responsibility of advising the Employer,\\non the procurement of goods, works or services, the Consultants shall comply with any\\napplicable procurement guidelines of the Employer and shall at all times exercise such\\nresponsibility in the best interest of the Employer.\\nConsultants and Affiliates not to engage in certain activities.\\nThe Consultants agree that during the term of this Contract and after its termination, the\\nConsultants and any entity affiliated with the Consultants, shall be disqualified from\\nproviding goods, works or services (other than the Services and any continuation thereof)\\nfor the project to the Services.\\nProhibition of Conflicting Activities\\nNeither the Consultants nor their Sub-Consultants/Experts nor the personnel of either of\\nthem shall engage, either directly or indirectly, during the term of this Contract, in any\\nbusiness or professional activities in India which would conflict with the activities assigned\\nto them under this Contract.\\nConfidentiality\\nThe Consultants, their Sub-Consultants/Experts and the Personnel of either of them shall\\nnot, either during the term or within two (2) years after the expiration of this Contract,\\ndisclose any proprietary or confidential information relating to the Project, the Services,\\nthis Contract or the Employer\\'s business or operations without the prior written consent of\\nthe Employer.\\nLiability of the Consultants\\nSubject to additional provisions, as under, the Consultants liability under this Contract shall\\nbe as provided by the Applicable law. a) Except in case of gross negligence or willful\\nmisconduct on the part of the Consultants or on the part of any person or Consultant acting\\non behalf of the Consultants in carrying out the services, the Consultants, with respect to\\ndamage caused by the Consultants to the Employer\\'s property, shall not be liable to the\\nEmployer:\\nI.\\n\\nFor any indirect or consequential loss or damage; and\\n\\nII.\\n\\nFor any direct loss or damage that exceeds (A) total payments for Professional Fees and\\nReimbursable Expenditures made or expected to be made to the Consultants hereunder or\\n(B) the proceeds, the Consultants may be entitled to receive from any insurance maintained\\nby the Consultants to cover such a liability, whichever of (A) or (B) is higher.\\n\\na)\\n\\nThis limitation of liability shall not affect the Consultants liability, if any for damage to\\nEngineer –in-charge and Architect / Consultant caused by the Consultants or any person or\\nConsultant acting on behalf of the Consultants in carrying out the Services.\\n\\n74\\n\\n\\x0cGUJARAT HOUSING BOARD - AHMEDBAD\\nAccounting, Inspection and Auditing\\nThe Consultants (i) shall keep accurate and systematic accounts and records of the Services\\nhereunder, in accordance with internationally accepted accounting principles and in such form\\nand detail as will clearly identify all relevant time charges and cost, and the basis thereof (ii) shall\\npermit the Employer or its designated representative periodically and up to one year from the\\nexpiration or termination of this Contract, to inspect the same and make copies thereof as well as\\nto have them audited by auditors appointed by the Employer.\\nConsultants\\' Actions requiring Employer\\'s prior Approval\\nThe Consultants shall obtain the Employer\\'s prior approval in writing before taking any of the\\nfollowing actions:\\na) Deployment of personnel as listed .\\nb) Appointing such number of Personnel as are not listed herewith. (\"Consultants, SubConsultants\"/Experts and \"Consultants Key Personnel\");\\nc) Substitution of any personnel if required on grounds beyond reasonable Control of the\\nConsultants;\\nd) Purchase of equipment required for performing the services.\\n\\nReporting Obligations\\nThe Consultants shall submit to the Employer reports and documents specified herewith hereto\\nin the form and the numbers and within the time period set forth in the stipulated details.\\nDocuments prepared by the Consultants to be the Property of the Employer\\nAll data /details related to plans, drawings, specifications, designs, reports and other documents\\nprepared, reviewed & APPROVED by the Consultants in performing the Services shall become\\nand remain the property of the Employer, and the Consultants shall, not later than upon\\ntermination or expiration of this Contract, deliver all such documents to the Employer, together\\nwith a detailed inventory thereof. The Consultants may retain a copy of such documents but shall\\nnot use these documents for purposes unrelated to this Contract without the prior written approval\\nof the Employer.\\nEquipment’s and Materials to be retained by Consultant\\nI.\\n\\nTelephone for official use with STD facility.\\n\\nII.\\n\\nOffice with tables, chairs, storage cabinets etc.\\n\\nIII.\\n\\nComputer, Printer, Fax, Photocopier.\\n\\n.\\n\\nCONSULTANTS\\' PERSONNEL\\nGeneral\\n75\\n\\n\\x0cGUJARAT HOUSING BOARD - AHMEDBAD\\nThe Consultants shall employ and provide such qualified and experienced Personnel as are\\nrequired to carry out the Services.\\nDescription of Personnel\\na) The list of consultants key personnel and their estimated periods of engagement have\\nbeen described herewith.\\nb) If additional work is required beyond the scope of the Services specified in TOR the\\nestimated periods of engagement of Key Personnel set forth in may be increased by\\nagreement in writing between the Employer and the Consultants.\\nApproval of Personnel\\nThe Key Personnel listed by title as by name in Datasheets are hereby APPROVED by the\\nEmployer. In respect of other personnel whom the Consultants propose to use in carrying out of\\nthe Services, the Consultants shall submit to the Employer for REVIEW and approval of a copy\\nof their biographical data. If the Employer does not object in writing (stating the reasons for the\\nobjection) within thirty (30) calendar days from the date of receipt of such biographical data and\\n(if applicable) such Personnel shall be deemed to have been APPROVED by the Employer. The\\nremoval and/or replacement of personnel is covered under Clause hereof.\\nWorking Hours, Overtime, Leave etc.\\na) Working hours and holidays for the Consultants\\' Personnel shall match with that of the\\nEmployer/ Developer /Architect / Consultant/Engineer-in-charge. In case of any\\nemergency, the Consultants\\' Personnel will have to work on Saturdays, Sundays or any\\nother holidays and these leaves shall not be compensated by Employer by any means.\\nb) The Personnel shall not be entitled to be paid for overtime nor to take paid sick leave or\\nvacation leave. The Consultant\\'s remuneration shall be deemed to cover these items. Any\\ntaking of leave by personnel shall be subject to the prior approval by the Employer and\\nthe Consultant shall ensure that absence for leave purposes will not delay the progress\\nand adequate supervision of the Services.\\nc) The man months shown against each personnel shall be exclusive of leave period. The\\nperiod for which the Consultant’s personnel will be on annual leave or on sick leave shall\\nnot be charged on the bill. The work of the personnel of the Consultants will have to be\\nadjusted within the regulatory working hours, without any overtime according to the\\nrequirement at site\\nd) The PMC consultant shall have to match the duly working hours of their personal to\\ndeveloper working on site for which no extra payment shall be eligible.\\n\\nRemoval and/or Replacement of Personnel\\na) No changes shall be made in the Key Personnel. If, for any reason beyond the reasonable\\ncontrol of the Consultants, it becomes necessary to replace any of the Personnel, the\\n76\\n\\n\\x0cGUJARAT HOUSING BOARD - AHMEDBAD\\nConsultants shall forthwith provide as a replacement a person of equivalent or better\\nqualifications and experience acceptable to the Employer. Such replaced person shall be\\ninducted only after approval by the Employer.\\nb) If the Employer (i) finds that any of the Personnel has committed serious misconduct or\\nhas been charged with having committed a criminal action, or (ii) has reasonable cause\\nto be dissatisfied with the performance of any of the Personnel, then the Consultants shall,\\nat the Employer\\'s written request specifying the grounds therefore, forthwith provide as\\na replacement a person with qualifications and experience acceptable to the Employer.\\nSuch person shall be inducted only after approval by the Employer.\\nc) Any of the Personnel provided as a replacement under Clauses (a) and (b) above, the rate\\nof remuneration applicable to such person as well as any reimbursable expenditures\\n(including expenditures due to the number of eligible dependents) the Consultants may\\nwish to claim as a result of such replacement, shall be subject to the prior written approval\\nby the Employer. Except as the Employer may otherwise agree, (i) the Consultants shall\\nbear all additional travel and other costs arising out of or incidental to any removal and/or\\nreplacement, and (ii) the remuneration to be paid for any of the Personnel provided as a\\nreplacement shall not exceed the remuneration which would have been payable to the\\nPersonnel replaced.\\nOBLIGATIONS OF THE EMPLOYER\\nAssistance and Exemptions\\nUnless otherwise specified, the Employer shall use its best efforts to ensure that the Government\\nshall:\\na) Provide the Consultants, and Personnel with work permits and such other documents as shall\\nbe necessary to enable the Consultants, or Personnel to perform the Services;\\nb) assist for the Personnel and, if appropriate, their eligible dependents to be provided promptly\\nwith all necessary entry and exit visas, residence permits, exchange permits and any other\\ndocuments required for their stay in Government’s country;\\nc) Advise on clearance through customs of any property required for the Services and of the\\npersonal effects of the Personnel and their eligible dependents;\\nd) Issue to officials, agents and representatives of the Government all such instructions as may\\nbe necessary or appropriate for the prompt and effective implementation of the Services;\\ne) Assist the Consultants and the Personnel employed by the Consultants for the Services from\\nany requirement to register or obtain any permit to practice their profession or to establish\\nthemselves either individually or as a corporate entity according to the Applicable Law;\\nf) Grant to the Consultants, and the Personnel of either of them the privilege, pursuant to the\\nApplicable Law, of bringing into Government’s country reasonable amounts of foreign currency\\nfor the purposes of the Services or for the personal use of the Personnel and their dependents and\\n\\n77\\n\\n\\x0cGUJARAT HOUSING BOARD - AHMEDBAD\\nof withdrawing any such amounts as may be earned therein by the Personnel in the execution of\\nthe Services; and\\ng) Provide to the Consultants and Personnel any such other assistance as may be specified in the\\ncontract.\\nAccess to Land and buildibuildingng\\nThe Employer warrants that the Consultants shall have free and unimpeded access to all portions\\nof the land and building in respect of which access is required for the performance of the Services\\nand shall indemnify the Consultants and each their personnel in respect of liability for such\\ndamage which is caused by the default or negligence of the Consultants or the Personnel of either\\nof them.\\nChange in the Applicable Law\\nIf after the date of signing of agreement there is any change in the Applicable Law with respect\\nto taxes and duties which increases or decreases the cost of reimbursable expenses incurred by\\nthe Consultants in performing the Services, then the remuneration and reimbursable expenses\\notherwise payable to the Consultants under this Contract shall not be increased or decreased\\naccordingly for stipulated duration of the Project.\\nFacilities to be provided by the Employer.\\nThe Employer shall nominate an authorized representative to liaise with the Consultants on all\\nmatters connected with this agreement. In turn, the Resident/Project engineer of the Consultants\\nfor the work shall function as the Liaison Officer for the Consultants to liaise with the\\nrepresentative of the Employer.\\nPayment\\nIn consideration of the Services performed by the Consultants under this Contract the Employer\\nshall make to the Consultants such payments and in such manner as is provided in Clause of the\\nContract.\\nPAYMENTS TO THE CONSULTANTS\\nAll payments shall be made by the Employer to the Consultants in Indian Rupees as per data\\nsheet and TOR ON MONTHLY BASIS within 30 days after submission and its subsequent\\napproval by the competent authority of Gujarat Housing Board for of project fees. For\\nEngineering review & approve and Project management services at site remaining 10% fees shall\\nbe paid on issue of completion certificate.\\nCurrency of Payment:\\nAll payments shall be made in Indian Rupees.\\nDuties and Taxes:\\nThe consultants, Sub-consultants /Experts and the Personnel shall pay the taxes, duties, fees,\\nlevies, and other impositions levied under the existing, amended or in acted laws during life of\\n78\\n\\n\\x0cGUJARAT HOUSING BOARD - AHMEDBAD\\nthis contract and the Employer shall perform such duties in regard to the deduction of such taxes\\nas may be lawfully imposed.\\nFAIRNESS AND GOOD FAITH\\nGood Faith\\nThe Parties undertake to act in good faith in respect to each other\\'s rights under this Contract and\\nto adopt all reasonable measures to ensure the realization of the objectives of this Contract.\\nOperation of the Contract:\\nThe Parties recognize that it is impractical in this Contract to provide for every contingency which\\nmay arise during the life of the Contract and the Parties hereby agree that it is their intention that\\nthis contract shall operate fairly as between them and without detriment to the interest of either\\nof them and that if during the term of this Contract either Party believes that this Contract is\\noperating unfairly, the Parties will use their best efforts to agree on such action as may be\\nnecessary to remove the cause or causes of such unfairness but on failure to agree on any action\\npursuant to this Clause shall have the right of dispute subject to arbitration in accordance with\\nClause thereof.\\nSETTLEMENT OF DISPUTES\\nAmicable Settlement\\nThe Parties shall use their best efforts to settle amicably all disputes arising out of or in connection\\nwith this Contract or the interpretation thereof.\\nRight to Arbitration and Rules of Procedure\\nMutual Discussions\\nIf any dispute or difference of any kind whatsoever (a \"Dispute\") arises between the Parties in\\nconnection with, or arising out of, this Agreement, the Parties within 30 days shall attempt to\\nsettle such Dispute in the first instance by mutual discussions between Employer and developer.\\nFurther Procedures\\nIf the Dispute cannot be settled within 7 days by mutual discussions, then the Dispute shall be\\nfinally settled under the provisions of the Section. If the Parties fail to resolve any dispute through\\ndiscussions within 15 Business Days, either Party shall have the right to provide written notice\\nof the Dispute to the President or Chairman of the Committee of the other Party. Upon a timely\\nreferral, the Senior Management of the Parties shall consider the Dispute, REVIEW such relevant\\ninformation as they may determine and issue their decision (which decision shall be confirmed\\nin writing) within 5 Business Days after receiving the referral. If the Senior Management of the\\nParties cannot resolve the issue within the five Business Day period, then the Parties shall have\\nthe rights set forth below in Contract Clauses\\n\\n79\\n\\n\\x0cGUJARAT HOUSING BOARD - AHMEDBAD\\nArbitration\\nSubject as hereinafter provided, any Dispute arising out of or in connection with, this Contract\\nand not settled by above may (regardless of the nature of the Dispute) be submitted by either\\nParty to arbitration and finally settled in accordance with Indian Arbitration and Conciliation Act,\\n1996 or any statutory amendment thereof.\\nArbitration proceedings shall be held at Ahmedabad and the language of the arbitration\\nproceedings and that of all documents and communications between the parties shall be English.\\nThe decision of the majority of arbitrators shall be final and binding upon both parties. The\\nexpenses of the arbitrators as determined by the arbitrators shall be shared equally by the\\nEmployer and the Developer. However, the expenses incurred by each party in connection with\\nthe preparation, presentation, etc., of its case prior to, during and after the arbitration proceedings\\nshall be borne by each party itself\\nDuring the conduct of dispute resolution procedures pursuant to the Clause the Parties shall\\ncontinue to perform their respective obligations under this Agreement, and no Party shall exercise\\nany other remedies hereunder arising by virtue of the matters in dispute.\\n\\n80\\n\\n\\x0cGUJARAT HOUSING BOARD - AHMEDBAD\\n\\n11\\n\\nANNEXURE: I: FORM OF BANK GUARANTEE FOR\\nPERFORMANCE SECURITY\\nForm of Bank Guarantee for Performance Security\\nSELECTION OF CONSULTANT FOR PROJECT MANAGEMENT CONSULTANCY\\n(PMC) SERVICES INCLUDING CONSTRUCTION SUPERVISION FOR HIGHRISE\\nHOUSING PROJECT AT VARIOUS PLACES FOR GUJARAT HOUSING BOARD.\\nRef: Bank Guarantee:\\nDate:\\n\\nTo,\\n\\nThe Chief Engineer,\\nGujarat Housing Board, Pragatinagar, Naranpura,\\nAhmedabad:380 013\\nPh. No. (079) 27474726\\nFax No. (079) 27470477\\nDear Sir,\\nIn consideration of “…………………………………………………..” (herein after\\nreferred as the “Employer”, which expression shall, unless repugnant to the context or\\nmeaning thereof include it successors, administrators and assigns) having awarded to M/s.\\n…………………………………………… (herein after referred to as the “Consultant”\\nwhich expression shall unless repugnant to the context or meaning thereof, include its\\nsuccessors, administrators, executors and assigns), a contract by issue of Employer’s\\nContract Agreement No. ………………………………………………dated……………..\\nand the same having been unequivocally accepted by the Consultant, resulting in a Contract\\nvalued\\nat\\n…………………………….\\nfor\\n(name\\nof\\nthe\\nproject)……………………………………….. (herein after called the “Contract”) and the\\nConsultant having agreed to furnish a Bank Guarantee to the Employer as Performance\\nSecurity as stipulated by the Employer in the said contract for performance of the above\\nContract amounting…………………………………………………………….. to (in\\nwords and figures).\\nWe……………………………………………………………. (Name of the Bank) having\\nits Head Office at ………………………………………………………………(hereinafter\\nreferred toas the Bank), which expression shall, unless repugnant to the context or meaning\\nthereof, include its successors, administrators’ executors and assigns) do hereby guarantee\\nand undertake to pay the Employer immediately on demand any reservation, contest,\\n\\n81\\n\\n\\x0cGUJARAT HOUSING BOARD - AHMEDBAD\\nrecourse or protest and/or without any reference to the Consultant. Any such demand made\\nby the Employer on the Bank shall be conclusive and binding notwithstanding any\\ndifference between the Employer and the PMC or any dispute pending before any Court,\\nTribunal, Arbitrator or any other authority. We agree that the Guarantee herein contained\\nshall be irrevocable and shall continue to be enforceable till the Employer discharges this\\nguarantee.\\nThe Employer shall have the fullest liberty without affecting in any way the liability of the\\nBank under this Guarantee, from time to time to vary the advance or to extend the time for\\nperformance of the contract by the Consultant. The Employer shall have the fullest liberty\\nwithout affecting this guarantee, to postpone from time to time the exercise of any powers\\nvested in them or of any right which they might have against the Employer and to exercise\\nthe same at any time in any manner, and either to enforce or to forebear to enforce any\\ncovenants, contained or implied, in the Contract between the Employer and the Consultant\\nany other course or remedy or security available to the Employer. The bank shall not be\\nrelieved of its obligations under this presents by any exercise by the Employer of its liberty\\nwith reference to the matters aforesaid or any of them or by reason of any other act or\\nforbearance or other acts of omission or commission on the part of the Employer or any\\nother indulgence shown by the Employer or by any other matter or thing whatsoever which\\nunder law would but for this provision have the effect of relieving the Bank. The Bank also\\nagrees that the Employer at its option shall be entitled to enforce this Guarantee against the\\nBank as a principal debtor, in the first instance without proceeding against the Consultant\\nand notwithstanding any security or other guarantee that the Employer may have in relation\\nto the Consultant s liabilities.\\nNotwithstanding anything contained herein above our liability under this guarantee is\\nlimited to _______ and it shall remain in force up to shall be extended from time to time\\nfor such period (not exceeding one year), as may be desired by M/s. ________________\\non whose behalf this guarantee has been given.\\n\\nDated this………………………………day of……………………….. 20…………….\\nAt\\nWITNESS\\n……………………………………………………..\\n(signature) (signature)\\n……………………………………………………..\\n\\n82\\n\\n\\x0cGUJARAT HOUSING BOARD - AHMEDBAD\\n(Name) (Name)\\n(Official Address) Designation (with Bank stamp) 61\\nAttorney as per Power of\\nAttorney No……………………………….\\nDated …………………\\nStrike out, whichever is not applicable. @ The date will be eighteen months after the date\\nof commencement of services.\\nNote 1 : The stamp papers of appropriate value shall be purchased in the name of bank who\\nissues the “Bank Guarantee”.\\nNote 2 : The Bank Guarantee will be accepted which is issued by State Bank of India or its\\nsubsidiaries or any Indian Nationalized Bank. If the Bank Guarantee is drawn on a foreign\\nbank it will be accepted by MNIT only if such Guarantee is also accepted either by State\\nBank of India or any of its subsidiaries or any Indian Nationalized Bank.\\n\\n83\\n\\n\\x0cGUJARAT HOUSING BOARD - AHMEDBAD\\n\\n12 ANNEXURE II: BANK GUARANTEE FOR EARNEST MONEY\\nDEPOSIT\\nBANK GUARANTEE FOR EARNEST MONEY DEPOSIT\\nIn accordance with the provisions and conditions of Bid Notice for the work of\\n“……………………………….”, Sri……………………………………………. (name &\\nAddress of the PMC) shall deposit with the Employer / Gujarat Housing Board (a bank\\nguarantee to guarantee his proper and faithful Performance under the said contract an\\namount\\nof\\n(Amount\\nof\\nGuarantee)\\n(in\\nwords)\\n*\\n……………………………………………………………….\\n………………………………………………\\nWe, the…………………………………………….(Bank or Financial Institution) as\\nrequested by the PMC, agree unconditionally and irrevocably to guarantee as primary\\nobligatory and as surety merely, the payment to the Employer / Gujarat Housing Board on\\nhis demand without what so ever right of objection on our part and without his first claim\\nto the Employer / Gujarat Housing Board for recovery of the whole or part of the E.M.D\\nfrom the PMC under the contract.\\nWe further agree to change add to or other modifications of the forms of the contract or of\\nworks to be performed there under or of any of the contract document which may be made\\nbetween the Employer / Gujarat Housing Board, and the PMC shall in any way release us\\nfrom any liability under this guarantee and we here by waive notice of any such change,\\naddition, or modification.\\nTHE CONDITIONS of this obligation are:\\nIf after Bid opening the Bidder withdraws or modifies his Bid during the period of bid\\nvalidity specified in the Form of Bid.\\nIf the Bidder having been notified of the acceptance of his bid by the Department during\\nthe period of validity.\\nFails or refuses to execute the Form of Contract in accordance with the Instructions to\\nBidders, if required; or fails or refuses to furnish the balance EMD and additional\\nperformance Security in accordance with the instructions of consultant.\\nWe undertake to pay to the Department up to the above amount upon receipt of his first\\nwritten demand, without the Department having to substantiate his demand, provided that\\nin his demand the Department will note the amount claimed by him is due to him owning\\n84\\n\\n\\x0cGUJARAT HOUSING BOARD - AHMEDBAD\\nto SELECTION & EMPANELMENT OF CONSULTANT FOR VARIOUS PROJECTS\\nTO BE UNDERTAKEN BY GUJARAT HOUSING BOARD.\\nThis Guarantee will remain in force up to and including the\\ndate**…………………………………… after the dead line for submission of Tenders as\\nsuch deadline is stated in the Instructions to Tenders or as it may be extended by the\\nDepartment, notice of which extension(s) to the Bank is hereby waived. Any demand in\\nrespect of this Guarantee should reach the Bank not later than the above date.\\nYours truly,\\n\\nSignature & Seal\\n(Name of the Bank)\\n\\n85\\n\\n\\x0cGUJARAT HOUSING BOARD - AHMEDBAD\\n\\nWITNESS……………….. SEAL………………………………………………..\\n(Signature, Name and Address)\\n\\n* The Tenderer should insert the amount of the EMD in words and figures denominated in\\nIndian Rupee.\\nThis figure should be the same as shown in the Contract Document. ** 6 months from the\\ndeadline date for submission of Tender [As specified in Contract Document].\\nVALIDITY OF TENDER:\\nThe Tender will be valid for a period of 180 days from the date of submission of tender as\\nmentioned in clause.\\nINELIGIBILITY / DISQUALIFACTION\\nAny proposal shall be automatically disqualified if it does not contain the requisite EMD\\nas per clause.\\nFINAL DECISION-MAKING AUTHORITY:\\nThe Client reserves the right to accept or reject any applications/tender(s) for\\nprequalification without assigning any reasons, therefore. The Client reserves the right to\\nincrease or decrease the scope of work as deemed necessary. Decision of Client shall be\\nfinal and binding.\\nLETTER OF ACCEPTANCE (LOA):\\nLetter of Acceptance for selection of Project Management Consultant will be issued to the\\nBIDDER whose tender has been accepted by the GHB.\\nOnce the Letter of Acceptance (LOA) of the tender is sent, then it is considered as\\nacceptance of contract.\\nThe selected BIDDER should arrange to submit Security Deposit as specified and sign the\\nAgreement within SPECIFIED days from the date of receipt of LOA\\n\\n86\\n\\n\\x0cGUJARAT HOUSING BOARD - AHMEDBAD\\nPROFORMA FOR ARTICLES OF AGREEMENT\\nGUJARAT HOUSING BOARD\\nAgreement\\nthe……………………………………………………………………………….\\n\\nfor\\n\\nBetween\\nGujarat Housing Board\\nRepresented by…………………………………………\\nand\\n\\n.\\n\\n…………………………………………………………..\\nThis CONTRACT is made this------------------------ day of----------------------- Two\\nThousand\\nand\\nTwenty-Three\\nbetween……………………………………………………………………………\\n………………...\\n……………………………………………………….\\n(herein\\nafter\\ncalled\\n“the\\nConsultant”). Which expression shall unless excluded by or repugnant to the subject or\\ncontext shall include his successors in office of the one part AND the Gujarat Housing\\nBoard (hereinafter called “the Client” which expression shall unless excluded by or\\nrepugnant to the subject or context shall include his successors in office and assigns of the\\nother part).\\nWHEREAS the Client intends to proceed with the work SELECTION &\\nEMPANELMENT OF CONSULTANT FOR VARIOUS PROJECTS TO BE\\nUNDERTAKEN BY GUJARAT HOUSING BOARD.\\nDescribed in the first Schedule Hereto (hereinafter called “the project”) and has requested\\nthe Consultant to undertake and perform the service described in the second Schedule\\nhereto (hereinafter called “the Services”) which the Consultant has agreed to do upon and\\nsubject to the terms and conditions set out in this Contract.\\n\\n87\\n\\n\\x0cGUJARAT HOUSING BOARD - AHMEDBAD\\nNOW this contract witnessed as follows:\\n1. In this Contract, words and expressions shall have the same meanings, as are respectively\\nassigned to them, in the conditions of Contract hereinafter referred to.\\n2. The following documents attached hereto shall be deemed to form and be read and\\nconstrued asan integral part of this Contract:\\na) Notice Inviting Proposal\\nb) Scope of work\\nc) General Conditions of Contract.\\nd) Project Schedule, Fees and Payment.\\ne) The Site Topography & Weather conditions\\nf) Project Brief.\\ng) Minimum Requirements\\nh) Instructions to the Consultant.\\ni) Stage wise submission of Drawings/Documents\\nj) Form of Declaration and Undertaking.\\nk) The letter of Acceptance given by the GHB\\n3. The mutual rights and obligations of the Client and the Consultant shall be as set forth in\\nthe Contract, in particulars:\\na) The Consultant shall carry out the services in accordance with the provisions of the\\nContract; and\\nb) The Client shall make payments to the Consultant in accordance with the provisions of the\\nContract.\\n\\nIN WITNESS WHEREOF…………………………………………………. acting for and\\nbehalf of and by\\norder and direction of the Gujarat Housing Board have signed this contract as of the day\\nfirst above written, in accordance with the Laws.\\nIn the presence of: Acting for and behalf of and by order and direction of the Gujarat\\nHousing Board.\\n\\nExecutive Engineer.\\n…………………………………………………………………………\\n\\n88\\n\\n\\x0cGUJARAT HOUSING BOARD - AHMEDBAD\\n\\nFor and on behalf of ……………………………………………………\\n…………………………………………………………………………\\n[Authorized Representative]\\nBy …………………………………………………………………….\\n(Authorized Representative)\\n\\n89\\n\\n\\x0cGUJARAT HOUSING BOARD - AHMEDBAD\\n\\nAnnexure II: PROFORMA FOR ARTICLES OF AGREEMENT GUJARAT\\nHOUSING BOARD\\nAgreement for the…………………………………………………………… Between\\nGujarat Housing Board Represented by_________ , and ___________. This CONTRACT is made\\nthis day of Two Thousand and twelve between\\n……………………………………………………….(herein after called “the Consultant”).\\nWhich expression shall unless excluded by or repugnant to the subject or context shall include\\nhis successors in office of the one part AND the Gujarat Housing Board (hereinafter called “the\\nClient” which expression shall unless excluded by or repugnant to the subject or context shall\\ninclude his successors in office and assigns of the other part).\\nWHEREAS the Client intends to proceed with the work SELECTION & EMPANELMENT OF\\nPROJECT MANAGEMENT CONSULTANT FOR VARIOUS REDEVELOPMENT\\nPROJECTS TO BE UNDERTAKEN BY GUJARAT HOUSING BOARD\\nDescribed in the first Schedule Hereto (hereinafter called “the project”) and has requested the\\nConsultant to undertake and perform the service described in the second Schedule hereto\\n(hereinafter called “the Services”) which the Consultant has agreed to do upon and subject to the\\nterms and conditions set out in this Contract. NOW this contract witnessed as follows:\\n(1) In this Contract, words and expressions shall have the same meanings, as are\\nrespectively assigned to them, in the conditions of Contract hereinafter referred to. The\\nfollowing documents attached hereto shall be deemed to form and be read and construed\\nas an integral part of this Contract:\\n(a) Notice Inviting Proposal\\n(b) Scope of work\\n(c) General Conditions of Contract.\\n(d) Project Schedule, Fees and Payment. (e)\\nThe Site Topography & Weather conditions (f)\\nProject Brief.\\n(g) Minimum Requirements\\n(h) Instructions to the Consultant.\\n(i) Stage wise submission of Drawings/Documents (j)\\nForm of Declaration and Undertaking.\\n(k)\\nThe letter of Acceptance given by the GHB\\nThe mutual rights and obligations of the Client and the Consultant shall be as set forth in the\\nContract, in particulars:\\n(a)\\n(b)\\n\\nThe Consultant shall carry out the services in accordance with the provisions of the Contract; and\\nThe Client shall make payments to the Consultant in accordance with the provisions of the\\nContract.\\n\\n90\\n\\n\\x0cGUJARAT HOUSING BOARD - AHMEDBAD\\n\\n13\\n\\nANNEXURE III: FINANCIAL BID / PRICE BID\\nName of Project: - Request For Proposal (RFP) For Selection & Empanelment Of\\nConsultant For Various Projects To Be Undertaken By Gujarat Housing Board\\n\\nSr.\\nNo.\\n\\nDescription of services\\n\\nConsultancy fee per sqm. of carpet\\narea\\nIn figure\\n\\n1\\n\\nIn words\\n\\nSelection & Empanelment\\nOf Consultant For Various\\nProjects To Be Undertaken\\nBy Gujarat Housing Board\\n\\nI/We am/are willing to carry out the work at above mentioned rates.\\n\\nName of the company\\n\\nSignature:\\n\\nName of authorized person:\\n\\nCompany seal:\\n\\nDesignation\\n\\n(NOTE: - This amount is inclusive of applicable GST, Income Tax and other taxes)\\n\\n91\\n\\n\\x0cGUJARAT HOUSING BOARD - AHMEDBAD\\nFINANCIAL PROPOSAL STANDARD FORMS CONTENTS\\nTITLE\\nAnnexure III\\n\\n:\\n\\nFormat of Covering Letter\\n\\nForm FIN-1\\n\\n:\\n\\nRemuneration: Proposed billing rates for\\nexperts\\n\\nForm FIN-2\\n\\n:\\n\\nOut-of-Pocket expenditure proposed\\n\\nForm FIN-3\\n\\n:\\n\\nSummary of Cost Estimates\\n\\n92\\n\\n\\x0cGUJARAT HOUSING BOARD - AHMEDBAD\\nANNEXURE-III\\nFORMAT OF COVER LETTER TO FINANCIAL PROPOSAL\\nFROM:\\n[Name & Address of the Consulting Firm]\\nClient]\\n\\nTO:\\n[Name & Address of the\\n\\nSir,\\nSELECTION & EMPANELMENT OF CONSULTANT FOR VARIOUS PROJECTS TO\\nBE UNDERTAKEN BY GUJARAT HOUSING BOARD\\nRegarding Financial Proposal\\n1) I/We …………………… the undersigned, offer to provide the consulting services of the\\nabove Project in accordance with your request for proposal dated [________] and my/our\\nproposal. My/Our attached financial proposal is for Rs………………. Per sqm. of carpet\\narea [Amount in words and figures]. This amount is excluding of all taxes.\\n2) My/Our financial proposal shall be binding upon me/us subject to the modifications\\nresulting from Contract negotiations, up to expiration of the validity period of the proposal\\nor the date extended by me/us i.e. [Date].\\n3) I/We certify that I/we have not engaged any Agents, nor I/we have paid any fee to any\\nAgent for procuring this consulting service.\\n4) I/We understand that you are not bound to accept any proposal you receive.\\n\\nYours Faithfully,\\nSignature\\nFull Name:\\nDesignation:\\nAddress:\\n(Authorized Representative\\n\\n93\\n\\n\\x0cGUJARAT HOUSING BOARD - AHMEDBAD\\nForm FIN-1\\nREMUNERATION: PROPOSED BILLING RATES FOR EXPERTS\\nPART-I\\nMinimum Required Core Team at Ahmedabad\\n(A) Core Team\\nSr.\\nNo.\\n\\nPosition\\n\\n1\\n\\nProject Manager\\n(Team leader)\\n\\n2\\n\\nSr.\\nStructure\\nEngineer\\n\\n3\\n\\nSr. Architect\\n\\n4\\n\\nLegal Expert\\n\\n5\\n\\nSr. Environment\\n&\\nSafety\\nEngineer\\n\\n6\\n\\nSr.\\nQuality\\nEngineer\\n\\n7\\n\\nFinance Expert\\n\\n8\\n\\nPublic Housing\\nExpert\\n\\n9\\n\\nBIM Expert\\n\\n10\\n\\nUrban\\nInfrastructure\\nExpert\\n\\nExpert’s\\nName\\n\\nNos.\\n\\nRate\\nPer\\nMonth\\n\\nMonths\\n\\nTotal\\nRs.\\n\\nTotal Cost (Rs)\\n\\n94\\n\\n\\x0cGUJARAT HOUSING BOARD - AHMEDBAD\\nPART-II\\nMinimum Required Site Team at Ahmedabad\\n(B) Site Team\\nSr.\\nNo.\\n\\nPosition\\n\\n1\\n\\nResident\\nconstruction\\nmanger\\n\\n22\\n\\n2\\n\\nSite Engineer\\n\\n216\\n\\n3\\n\\nMEP Engineer\\n\\n4\\n\\nEnvironment &\\nSafety\\nEngineer\\n\\n108\\n\\nQuality\\nEngineer\\n\\n108\\n\\n5\\n\\nNos.\\n\\nRate\\nPer\\nman-month\\n\\nMonths\\n\\nTotal Rs.\\n\\n108\\n\\nTotal Cost (Rs)\\n\\n95\\n\\n\\x0cGUJARAT HOUSING BOARD - AHMEDBAD\\nForm FIN-2\\nOUT OF POCKET EXPENSES FOR (ALL STAFF INCLUDING KEY PERSONAL\\n& SUPPORTING STAFF) THIS SCHEDULE IS NOT FOR PAYMENT\\nPART-I\\nFor Core Team at Ahmedabad\\nSr.\\nNo.\\n\\nDescription\\n\\nUnit\\n\\n1\\n\\nTravel\\nfor\\nMobilization\\nDemobilization\\n\\n2\\n\\nMiscellaneous Travel Expenses\\n\\n3\\n\\nOverheads\\n\\n4\\n\\nReport preparation, production\\n\\n5\\n\\nProvisional Sums\\n\\n6\\n\\nEquipment\\n\\n7\\n\\nPurchase books of specifications/codes\\n\\n8\\n\\nHolding of Training and workshops\\n\\n9\\n\\nOther Costs\\n\\nUnit Cost\\nRs\\n\\nCost\\nRs.\\n\\nand\\n\\nTotal Cost Rs.\\n\\n96\\n\\n\\x0cGUJARAT HOUSING BOARD - AHMEDBAD\\nPART-II\\nFor Site Team\\nSr.\\nNo.\\n\\nDescription\\n\\nUnit\\n\\n1\\n\\nTravel\\nfor\\nMobilization\\nDemobilization\\n\\n2\\n\\nMiscellaneous Travel Expenses\\n\\n3\\n\\nOverheads\\n\\n4\\n\\nReport preparation, production\\n\\n5\\n\\nProvisional Sums\\n\\n6\\n\\nEquipment\\n\\n7\\n\\nPurchase books of specifications/codes\\n\\n8\\n\\nHolding of Training and workshops\\n\\n9\\n\\nOther Costs\\n\\nUnit\\nCost Rs\\n\\nCost\\nRs.\\n\\nand\\n\\nTotal Cost Rs.\\n\\n97\\n\\n\\x0cGUJARAT HOUSING BOARD - AHMEDBAD\\nForm FIN-3\\nSUMMARY OF PROPOSED COST ONLY FOR JUSTIFICATION OF QUOTED RATES\\nPART-I\\nFor Core Team at Ahmedabad\\nSr.\\nNo.\\n\\nDescription\\n\\nA1\\n\\nFIN-1. Remuneration to Professional\\n(Key) Personnel & Support Staff\\n\\nA2\\n\\nFIN-2. Out of Pocket Expense of all staff\\n\\nA3\\n\\nTotal of A1 & A2\\n\\nA4\\n\\nAdd GST plus any other charges/taxes\\nas applicable\\n\\nA5\\n\\nFee or Profit\\n\\nA\\n\\nTotal (A3+A4+A5) Cost in Figure\\n\\nCost Rs.\\n\\n%age derived of\\nthe Project Cost\\n\\nTotal Cost in Words\\nB1\\n\\nTotal Carpet area (in sq m)\\n\\nB2\\n\\nQuoted Rate of per sq m of carpet area\\n(A / B1)\\n\\nB\\n\\nTotal (B1 X B2) Cost\\n\\n14,81,617.77 sq m\\n\\nThe value of A = B\\n\\n98\\n\\n\\x0cGUJARAT HOUSING BOARD - AHMEDBAD\\nPART-II\\nFor Site Team\\nSr.\\nNo.\\n\\nDescription\\n\\n1\\n\\nFIN-1. Remuneration to Professional\\n(Key) Personnel & Support Staff\\n\\n2\\n\\nFIN-2. Out of Pocket Expense of all staff\\n\\n3\\n\\nTotal of 1 & 2\\n\\n4\\n\\nAdd GST plus any other charges/taxes\\nas applicable\\n\\n5\\n\\nFee or Profit\\n\\nCost Rs.\\n\\n%age derived of\\nthe Project Cost\\n\\nTotal (3+4+5) Cost in Figure\\nTotal Cost in Words\\nNote : - 1. Details in FIN-1, FIN-2 & FIN-3 is supporting data for justification of rate\\nquoted per sqm. It should not be linked with quoted rate in any circumstances. These\\ncosts are not payable by the client.\\n2.0 – In case of any work allotted on man-month basis, the man-month rates quoted in\\nfinancial form Fin – 1 shall be applicable.\\n\\n99\\n\\n\\x0cGUJARAT HOUSING BOARD - AHMEDBAD\\n\\n14\\n\\nANNEXURE IV: FORMAT FOR PRE-BID QUERIES\\nSr.\\nNo.\\n\\nReference Clause\\nNo and Document\\nPage No.\\n\\nReference\\nClause\\n\\nQuery\\n\\n1\\n2\\n\\n100\\n\\n\\x0cAPPENDIX 1: LIST OF PROJECTS\\nLIST OF DILAPIDATED PROJECTS FOR REDEVELOPMENT (GHB)\\nPlot Area\\n(sq m.)\\n\\nNo. of\\nDUs\\n\\nProject\\nDuration\\n\\nProposed PHC\\nCarpet Area (sq\\nm.)\\n\\n5\\n\\n6\\n\\n7\\n\\n8\\n\\n912 LIG. Hariom Apartment\\n\\n31,671.85\\n\\n912\\n\\n34\\n\\n27,360.00\\n\\n528 MIG Ambika Apartment\\n\\n24,878.28\\n\\n528\\n\\n34\\n\\n26,928.00\\n\\nBapunagar\\n\\n192 LIG. Rajivnagar\\n\\n6,265.00\\n\\n192\\n\\n22\\n\\n6,151.43\\n\\nAhmedabad\\nAhmedabad\\nAhmedabad\\nAhmedabad\\nAhmedabad\\n\\nGandhinagar\\nKrushnanagar\\nKrushnanagar\\nKrushnanagar\\nKrushnanagar\\n\\n2,985.81\\n\\n180\\n64\\n48\\n216\\n84\\n\\n22\\n\\n5,400.00\\n2,045.57\\n1,501.92\\n9,973.15\\n3,110.52\\n\\n6\\n\\nAhmedabad\\n\\nKrushnanagar\\n\\n7,139.00\\n\\n204\\n\\n22\\n\\n6,780.14\\n\\n7\\n\\nAhmedabad\\n\\nKrushnanagar\\n\\n3,020.00\\n\\n84\\n\\n19\\n\\n2,791.82\\n\\n8\\n\\nAhmedabad\\n\\nKrushnanagar\\n\\n180 LIG. Pushpak Apartment\\n64 MIG Gopal Apartment\\n48 MIG. Vishal apartment\\n216 LIG. Balakrishnagar (216DU out of 360 LIG)\\n84 LIG Abhinav Vibhag 3 (84 out of 204 DU)\\n204 LIG. Parishram (Vibhag 1 - 204 DU out of\\n288 DU)\\n84 LIG. Parishram (Vibhag 2 - 84 DU out of 288\\nDU)\\n96 MIG. Asopalav\\n\\n2,480.00\\n\\n96\\n\\n19\\n\\n3,083.14\\n\\n9\\n\\nAhmedabad\\n\\nGandhinagar\\n\\n24 LIG. Shivnagar\\n\\n919\\n\\n24\\n\\n16\\n\\n1,379.28\\n\\n10\\n\\nAhmedabad\\n\\nKhokhara\\n\\n120 LIG. Vrindavan\\n\\n3,077.00\\n\\n120\\n\\n22\\n\\n4,053.84\\n\\nAhmedabad\\nAhmedabad\\nAhmedabad\\nAhmedabad\\nAhmedabad\\n\\nAmraiwadi\\nAmraiwadi\\nAmraiwadi\\nAmraiwadi\\nAmraiwadi\\n\\n228 MIG. Jawaharnagar\\n120 LIG. Indira Nagar\\n248 EWS. Vikasnagar\\n216 EWS. Gayatrinagar\\nGitanagar\\n\\nSr.\\nNo.\\n\\nDivision\\n\\nCity\\n\\nName of Colony\\n\\n1\\n\\n2\\n\\n3\\n\\n4\\n\\n1\\n\\nAhmedabad\\n\\nVadaj\\n\\n2\\n\\nAhmedabad\\n\\nSola\\n\\n3\\n\\nAhmedabad\\n\\n4\\n\\n5\\n\\n11\\n\\n12\\n\\n22,828.00\\n\\n21,444.00\\n\\n35,658.00\\n\\n228\\n120\\n248\\n216\\n144\\n\\n28\\n\\n34\\n\\n34\\n\\n10,807.60\\n7,166.76\\n7,440\\n9,365.27\\n5,568.19\\n\\n\\x0cGUJARAT HOUSING BOARD - AHMEDBAD\\n\\nSr.\\nNo.\\n\\nDivision\\n\\nCity\\n\\nName of Colony\\n\\nPlot Area\\n(sq m.)\\n\\nNo. of\\nDUs\\n48\\n20\\n\\n13\\n\\nAhmedabad\\n\\nAmraiwadi\\n\\n20 LIG + 4 Shops + 4 Stalls Shivnagar\\n\\n1,564.00\\n\\n14\\n\\nVastrapur\\nAmraiwadi\\nAmraiwadi\\nAmraiwadi\\nAmraiwadi\\nAmraiwadi\\n\\n72 LIG. Sanghamitra + 48 Anand Vihar\\n84 LIG Omnagar\\n96 EWS. Ambika\\n96 EWS. Hanuman\\n96 EWS Lakshminagar\\n84 LIG. Shivshaktinagar\\n\\n5,532.00\\n\\n18,465.52\\n\\n16\\n\\nAhmedabad\\nAhmedabad\\nAhmedabad\\nAhmedabad\\nAhmedabad\\nAhmedabad\\n\\n17\\n\\nAhmedabad\\n\\nNehrunagar\\n\\n18\\n\\nAhmedabad\\n\\n19\\n\\nProject\\nDuration\\n\\n16\\n\\nProposed PHC\\nCarpet Area (sq\\nm.)\\n2,683.09\\n843.00\\n\\n22\\n\\n4,525.61\\n\\n120\\n84\\n96\\n96\\n96\\n84\\n\\n19\\n\\n5,947.20\\n2,615.42\\n2,880.00\\n2,880.00\\n3,495.74\\n2,615.42\\n\\n24 MIG. Shastri Park\\n\\n2,070.16\\n\\n24\\n\\n19\\n\\n2,002.56\\n\\nNehrunagar\\n\\n42 LIG. Subhash Park\\n\\n2,654.79\\n\\n42\\n\\n22\\n\\n4,918.03\\n\\nAhmedabad\\nAhmedabad\\nAhmedabad\\nAhmedabad\\nAhmedabad\\nAhmedabad\\nAhmedabad\\nAhmedabad\\n\\nSola\\nKhokhara\\nKhokhara\\nKhokhara\\nKhokhara\\nVadaj\\nVadaj\\nVastrapur\\n\\n768 LIG. Sola. (Ganesh, Shivalay, Shrinagar)\\n900 EWS. Rishikesh Khokhra\\n588 EWS. Dhiraj Khokhra\\n312 EWS. Dhiraj Khokhra\\n192 EWS. Dhiraj Khokhra\\n6 MIG. Ratnadeep Apartment\\n120 Urban Gaganvihar\\n36 EWS. Vidhyanagar Flats\\n\\n33,535.00\\n\\n768\\n900\\n588\\n312\\n192\\n6\\n120\\n36\\n\\n34\\n\\n24,503.81\\n27,000.00\\n17,640.00\\n9,360.00\\n5,760.00\\n377.83\\n3,600.00\\n1,080.00\\n\\nAhmedabad\\nAhmedabad\\n\\nBapunagar\\nKrushnanagar\\n\\n18,677.00\\n\\n360\\n144\\n\\n34\\n\\nAhmedabad\\n\\nKrushnanagar\\n\\n25\\n\\nAhmedabad\\n\\nVadaj\\n\\n360 LIG. Vaishali\\n144 LIG. Balakrishnagar (144 DU out of 360)\\n120 LIG Abhinav Vibhag 1 & 2 (120 out of 204\\nDU)\\n36 EWS. Kiran Park\\n\\n2,204.80\\n\\n36\\n\\n16\\n\\n1,264.24\\n\\n26\\n\\nAhmedabad\\n\\nAmraiwadi\\n\\n456 LIG. Ekta\\n\\n10,797.00\\n\\n456\\n\\n28\\n\\n13,680.00\\n\\n27\\n\\nAhmedabad\\n\\nNaroda\\n\\n312 Dr. Baba Saheb Ambedkar Apartment\\n\\n7,761.00\\n\\n312\\n\\n28\\n\\n9,360.00\\n\\n15\\n\\n20\\n\\n21\\n22\\n23\\n24\\n\\n99,402.00\\n\\n5,517.31\\n5,100.00\\n\\n16,002.00\\n\\n120\\n\\n28\\n\\n40\\n\\n22\\n16\\n\\n28\\n\\n17,599.68\\n6,648.77\\n4,443.60\\n\\n102\\n\\n\\x0cGUJARAT HOUSING BOARD - AHMEDBAD\\n\\nPlot Area\\n(sq m.)\\n\\nNo. of\\nDUs\\n\\nProject\\nDuration\\n\\nProposed PHC\\nCarpet Area (sq\\nm.)\\n\\n1,58,021.40\\n\\n2004\\n1836\\n\\n40\\n\\n61,069.39\\n55,080.00\\n\\nSr.\\nNo.\\n\\nDivision\\n\\nCity\\n\\n28\\n\\nAhmedabad\\nAhmedabad\\n\\nGota\\nGota\\n\\n2004 EWS. Mahatma Gandhi Colony\\n1836 LIG. Gota\\n\\nAhmedabad\\n\\nKathavada\\n\\n484 EWS - 1 Indira Gandhi Colony\\n\\nAhmedabad\\n\\nKathavada\\n\\n242 EWS2 Indira Gandhi Colony\\n\\nAhmedabad\\n\\nKathavada\\n\\n242 LIG Indira Gandhi Colony\\n\\n30\\n\\nVadodara\\n\\nVadodara\\n\\n31\\n\\nVadodara\\n\\nNADIAD\\n\\nVadodara\\n\\nVadodara\\n\\n80 MIG +16Shops + 15 Offices Geetanjali\\n300+600 Lig Puneshwarnagar/Pragatinagar\\nNadiad\\n36 LIG AKOTA\\n\\nVadodara\\n\\nVadodara\\n\\n424 SIHS, Padara, Akota, Vadodara\\n\\nVadodara\\n\\nVadodara\\n\\n480 LIG BAPOD-SAVAD\\n\\nVadodara\\n\\nBHARUCH\\n\\n240 MIG BHARUCH\\n\\nVadodara\\n\\nBHARUCH\\n\\n180 Urban Bharuch\\n\\nVadodara\\n\\nBHARUCH\\n\\n192 Urban Ektanagar Bharuch\\n\\nVadodara\\n\\nBHARUCH\\n\\n48 LIG SC/ST, Bharuch\\n\\n48\\n\\n1,440\\n\\nVadodara\\n\\nBHARUCH\\n\\n48 EWS Bharuch\\n\\n48\\n\\n1,440\\n\\nVadodara\\n\\nBHARUCH\\n\\n24 EWS Vishwanth Bharuch\\n\\nVadodara\\n\\nBHARUCH\\n\\n72 EWS Bharuch\\n\\nVadodara\\n\\nANAND\\n\\n80 Urban Petlad\\n\\nVadodara\\n\\nVadodara\\n\\n408 LIG Ajwa-Sayajipuri BARODA\\n\\nVadodara\\n\\nVadodara\\n\\n408 EWS Ajwa-Sayajipuri BARODA\\n\\nVadodara\\n\\nVadodara\\n\\n312 Diwalipura, Tarsali, Vadodara\\n\\n29\\n\\n32\\n33\\n\\n34\\n\\n35\\n36\\n37\\n\\n38\\n\\nName of Colony\\n\\n484\\n74,908.00\\n\\n242\\n\\n14,520.00\\n34\\n\\n242\\n\\n7,260.00\\n7,260.00\\n\\n5,030.00\\n\\n80\\n\\n28\\n\\n6,709\\n\\n28,685.00\\n\\n900\\n\\n34\\n\\n27,000\\n\\n44,641.78\\n54,662.37\\n\\n36\\n424\\n552\\n\\n34\\n34\\n\\n240\\n31,989.56\\n\\n4,579.00\\n3,050.00\\n59,489.00\\n\\n29,121.00\\n\\n180\\n192\\n\\n24\\n72\\n80\\n408\\n408\\n312\\n\\n1,806\\n17,060\\n27,357\\n10,268\\n\\n40\\n\\n28\\n19\\n34\\n\\n28\\n\\n5,400\\n5,760\\n\\n720\\n2,477\\n2,400\\n12,240\\n12,240\\n4,680\\n2,340\\n2,340\\n\\n103\\n\\n\\x0cGUJARAT HOUSING BOARD - AHMEDBAD\\n\\nSr.\\nNo.\\n\\nName of Colony\\n\\nPlot Area\\n(sq m.)\\n\\nNo. of\\nDUs\\n\\nProject\\nDuration\\n\\nProposed PHC\\nCarpet Area (sq\\nm.)\\n\\nDivision\\n\\nCity\\n\\nVadodara\\n\\nVadodara\\n\\n64 EWS GORWA GROUP A\\n\\nVadodara\\n\\nVadodara\\n\\n64 EWS Gorwa, Group-B\\n\\nVadodara\\n\\nVadodara\\n\\n64 EWS Gorwa, Group-C\\n\\nVadodara\\n\\nVadodara\\n\\n32 EWS Gorwa,\\n\\nVadodara\\n\\nVadodara\\n\\n48 EWS Nandesari Group-A\\n\\nVadodara\\n\\nVadodara\\n\\n48 EWS Nandesari Group-B\\n\\n41\\n\\nVadodara\\n\\nBHARUCH\\n\\n180 LIG Ankleshwer\\n\\n5,315.00\\n\\n180\\n\\n22\\n\\n5,400\\n\\n42\\n\\nVadodara\\n\\nVadodara\\n\\n528 SIHS GORWA BARODA\\n\\n30,508.00\\n\\n528\\n\\n28\\n\\n15,840\\n\\n43\\n\\nVadodara\\n\\nVadodara\\n\\n276 URBAN `A\\' GOTRI, BARODA\\n\\n17,470.00\\n\\n276\\n\\n22\\n\\n8,280\\n\\n44\\n\\nVadodara\\n\\nVadodara\\n\\n400 comp. gotri\\n\\n20,000.00\\n\\n400\\n\\n28\\n\\n12,000\\n\\nVadodara\\nVadodara\\nVadodara\\nVadodara\\nSurat\\nSurat\\nSurat\\nSurat\\nSurat\\nSurat\\nSurat\\nSurat\\nSurat\\nSurat\\n\\nNADIAD\\nNADIAD\\nNADIAD\\nNADIAD\\nSurat\\nSurat\\nSurat\\nSurat\\nSurat\\nSurat\\nSurat\\nSurat\\nSurat\\nSurat\\n\\n24 F.H.S. GROUP \\'A\\' NADIAD\\n72 SIHS NADIAD\\n48 FLOOD NADIAD\\n24 F.H.S. GROUP \\'B\\' NADIAD\\n512 LIG Pandesara\\n240 LIG Pandesara\\n192 LIG Pandesara\\n16 LIG, Pandesara\\n432 LIG, Pandesara\\n540 LIG, Pandesara\\n150 Urban, Pandesara\\n600 LIG-2, Sachin,Slum\\n364 EWS-A, Kansad Slum\\n312 LIG, Kansad Slum\\n\\n39\\n\\n40\\n\\n45\\n46\\n\\n47\\n\\n48\\n\\n64\\n26,006.25\\n\\n64\\n64\\n\\n2,195\\n22\\n\\n32\\n11,433.84\\n\\n5,863.43\\n2,187.23\\n\\n65,601.00\\n\\n93,929.00\\n\\n48\\n48\\n\\n24\\n72\\n48\\n24\\n512\\n240\\n192\\n16\\n432\\n540\\n150\\n600\\n364\\n312\\n\\n2,195\\n2,195\\n1,098\\n\\n19\\n\\n22\\n16\\n40\\n\\n40\\n\\n1,440\\n1,440\\n\\n1,018\\n2,194\\n1,707\\n1,018\\n15360\\n7200\\n5760\\n480\\n12960\\n16200\\n4500\\n20700\\n10920\\n10608\\n\\n104\\n\\n\\x0cGUJARAT HOUSING BOARD - AHMEDBAD\\n\\nSr.\\nNo.\\n\\n49\\n\\n50\\n\\n51\\n52\\n53\\n\\n54\\n55\\n56\\n57\\n\\nName of Colony\\n\\nDivision\\n\\nCity\\n\\nSurat\\nSurat\\nSurat\\nSurat\\nSurat\\nSurat\\nSURAT\\nSURAT\\nSURAT\\nSURAT\\nSURAT\\nSURAT\\nSURAT\\nSurat\\n\\nSurat\\nSurat\\nSurat\\nSurat\\nValsad\\nValsad\\nVAPI\\nVAPI\\nVAPI\\nVAPI\\nVAPI\\nVAPI\\nVAPI\\nBillimora\\n\\n156 EWS-B, Kansad Slum\\n312 LIG-1, Sachin Slum\\n312 EWS-A, Sachin Slum\\n576 EWS-B, Sachin Slum\\n360 MIG, Valsad\\n240 LIG, Valsad\\n288 SIHS\\n24 Damanganga-A\\n24 Damanganga-B\\n24 Damanganga-C\\n256 LIG\\n80 MIG\\n192-LIG\\n24 SIHS Billimora\\n\\nRajkot\\nRajkot\\nRajkot\\nRajkot\\nRajkot\\nRajkot\\nRajkot\\nRajkot\\nRajkot\\nRajkot\\nRajkot\\n\\nRajkot\\n\\n120 MIG Dairyland(New) Rajkot\\n120 MIG Dairyland(Old) Rajkot\\n456 LIG Dairyland Rajkot\\n48 MIG Dairyland Rajkot\\n307 Hudco Anandnagar Rajkot\\n144 Flood Anandnagar Rajkot\\n48 SIT GR-1, Anandnagar Rajkot\\n48 SIT GR-2, Anandnagar Rajkot\\n144 LIG Lakshmivadi Rajkot\\n144 LIG Takudipara Jetpur\\n24 SIT Takudipara Jetpur\\n\\nRajkot\\n\\nRajkot\\nRajkot\\nRajkot\\nRajkot\\nRajkot\\nRajkot\\n\\nPlot Area\\n(sq m.)\\n\\n25,890.00\\n\\n22,753.00\\n\\n919.28\\n\\n5,789.25\\n16,795.00\\n\\n21,652.00\\n2,160.00\\n\\n4,957.30\\n3,012.00\\n\\nNo. of\\nDUs\\n156\\n312\\n312\\n576\\n360\\n240\\n288\\n24\\n24\\n24\\n256\\n80\\n192\\n24\\n120\\n120\\n456\\n48\\n307\\n144\\n48\\n48\\n144\\n144\\n24\\n\\nProject\\nDuration\\n\\n34\\n\\n34\\n\\n16\\n22\\n34\\n\\n34\\n19\\n22\\n22\\n\\nProposed PHC\\nCarpet Area (sq\\nm.)\\n4680\\n9360\\n9360\\n17280\\n10800\\n7200\\n8640\\n843.7\\n1080.58\\n1154.16\\n7874.05\\n3856.16\\n5760\\n720\\n6930\\n5278.56\\n13680\\n2270.02\\n12240.7\\n7420.9\\n1747.2\\n1440\\n7146.72\\n4320\\n720\\n\\n105\\n\\n\\x0cGUJARAT HOUSING BOARD - AHMEDBAD\\n\\nPlot Area\\n(sq m.)\\n\\nNo. of\\nDUs\\n\\nProject\\nDuration\\n\\nProposed PHC\\nCarpet Area (sq\\nm.)\\n\\n21,048.61\\n\\n498\\n\\n34\\n\\n30181.79\\n\\nSr.\\nNo.\\n\\nDivision\\n\\nCity\\n\\n58\\n\\nRajkot\\n\\nMorbi\\n\\nRajkot\\n\\nJamnagar\\n\\n360 MIG Sadhana (New) Jamnagar\\n\\nRajkot\\n\\nJamnagar\\n\\n264 LIG Sadhana Jamnagar\\n\\n60\\n\\nRajkot\\n\\nJamnagar\\n\\n108 LIG Sadhana Jamnagar\\n\\n3783.67\\n\\n108\\n\\n22\\n\\n3240\\n\\n61\\n\\nRajkot\\n\\nJamnagar\\n\\n324 LIG Sadhana Jamnagar\\n\\n7576\\n\\n324\\n\\n28\\n\\n9720\\n\\n62\\n\\nRajkot\\n\\nJamnagar\\n\\n144 SIT Shastri Nagar, Jamnagar\\n\\n6490\\n\\n144\\n\\n28\\n\\n5080.32\\n\\nRajkot\\n\\nJamnagar\\n\\n48+24+24 SIT Shastri Nagar, Jamnagar\\n\\n63\\n\\nRajkot\\n\\nBhavnagar\\n\\n468 LIG Kailash nagar, BHARATNAGAR\\n\\n15581.68\\n\\n468\\n\\n28\\n\\n14873.04\\n\\n64\\n\\nRajkot\\n\\nBhavnagar\\n\\n216 LIG Maruti nagar,BHARATANAGAR\\n\\n7252\\n\\n216\\n\\n22\\n\\n6480\\n\\n65\\n\\nRajkot\\n\\nBhavnagar\\n\\n144 + 96 LIG Sidharth & Pushpak society,\\nBHARATANAGAR\\n\\n7636.22\\n\\n240\\n\\n22\\n\\n7630.56\\n\\n66\\n\\nRajkot\\n\\nBhavnagar\\n\\n492 LIG Shiv nagar, BHARATNAGAR\\n\\n10560\\n\\n492\\n\\n28\\n\\n15188.04\\n\\n67\\n\\nRajkot\\n\\nBhavnagar\\n\\n108 MIG Ekta society, ANANDNAGAR\\n\\n4198.49\\n\\n108\\n\\n22\\n\\n5917.97\\n\\n68\\n\\nRajkot\\n\\nBhavnagar\\n\\n48 MIG Anandnagar Bhavnagar\\n\\n2282.77\\n\\n48\\n\\n19\\n\\n2284.8\\n\\n69\\n\\nRajkot\\n\\nRajkot\\n\\n24 MIG Staff Quarter Anandnagar Rajkot\\n\\n826.24\\n\\n24\\n\\n16\\n\\n1006.99\\n\\n70\\n\\nRajkot\\n\\nAmreli\\n\\n48 MIG Amreli\\n\\n2220\\n\\n48\\n\\n19\\n\\n1687.2\\n\\n71\\n\\nRajkot\\n\\nJamnagar\\n\\n60 LIG Ranjitnagar\\n\\n2474.13\\n\\n60\\n\\n19\\n\\n3192\\n\\n72\\n\\nRajkot\\n\\nBhavnagar\\n\\n72 MIG Parasmani Bhavnagar\\n\\n2667\\n\\n72\\n\\n22\\n\\n4066.27\\n\\n73\\n\\nRajkot\\n\\nBhavnagar\\n\\n216 LIG Jalaram Anandnagar Bhavnagar\\n\\n8634\\n\\n216\\n\\n28\\n\\n9967.1\\n\\n59\\n\\nName of Colony\\n498 MIG SanalaRoad Morbi\\n\\n21791\\n\\n360\\n264\\n\\n34\\n\\n96\\n\\n18648\\n7920\\n\\n3400.32\\n\\n106\\n\\n\\x0cGUJARAT HOUSING BOARD - AHMEDBAD\\nLIST OF ONGOING PROJECTS FOR REDEVELOPMENT (GHB)\\n\\nSr.\\nNo.\\n\\nDivision\\n\\nCity\\n\\n1\\n1\\n2\\n3\\n4\\n\\n2\\nRajkot\\nRajkot\\nSurat\\nSurat\\n\\n3\\nBhavnagar\\nJamnagar\\nSurat\\nSurat\\n\\n5\\n\\nAhmedabad\\n\\nAhmedabad\\n\\n6\\n7\\n8\\n9\\n10\\n11\\n\\nAhmedabad\\nAhmedabad\\nAhmedabad\\nAhmedabad\\nAhmedabad\\nAhmedabad\\n\\nAhmedabad\\nAhmedabad\\nAhmedabad\\nAhmedabad\\nAhmedabad\\nAhmedabad\\n\\n12\\n\\nAhmedabad\\n\\nAhmedabad\\n\\n13\\n14\\n\\nAhmedabad\\nAhmedabad\\n\\nAhmedabad\\nAhmedabad\\n\\n15\\n\\nAhmedabad\\n\\nAhmedabad\\n\\n16\\n\\nAhmedabad\\n\\nAhmedabad\\n\\n17\\n18\\n\\nAhmedabad\\nAhmedabad\\n\\nAhmedabad\\nAhmedabad\\n\\nProject Name/Location\\n4\\n420 LIG at Vardhaman Nagar , Bhavnagar\\n7 HIG +OB + 12 shops Jamnagar\\n168 LIG Suryanagari Umarwada Surat\\n324 +264 MIG plot B Pandesara, Surat\\n48 MIG M5- Block no. 40 to 45 Lal\\nBahadur Shahtrinagar Association-6\\n24 LIG Kiranpark, Nava Vadaj, Ahmedabad\\n270 MIG Utsav Apartment\\n228 MIG Vishram park\\n72 MIG M-5(block 8-16) Shastrinagar\\n84 HIG NIDHI Apartment\\n24 HIG Nidhi apartment\\n312 HIG Rameshwar apartment,sola road,\\nAhmedabad\\n276 LIG satyam apartment,Sola\\n192+24+64 MIG Ravi Shanti Unnati\\n100 HIG +60 Shops +3 Stall Shraddhadip\\napartment\\n120 M.I.G. Surya Apartment Part-1 Sola\\nroad, Ahmedabad\\n132 MIG Surya -2\\n132 MIG Surya -3\\n\\nPlot Area (sq\\nm.)\\n\\nNo. of\\nDUs\\n\\nProject\\nDuration\\n\\n5\\n15859\\n1062\\n15562\\n29226\\n\\n6\\n420\\n7\\n168\\n528\\n\\n27\\n27\\n27\\n27\\n\\nProposed\\nPHC\\nCarpet\\nArea (sq\\nm.)\\n7\\n12,600.00\\n591.82\\n6,576.19\\n25,872.00\\n\\n3199.51\\n\\n48\\n\\n27\\n\\n5,201.95\\n\\n2129\\n14658\\n10336\\n8511\\n8726\\n2453\\n\\n24\\n270\\n228\\n72\\n84\\n24\\n\\n27\\n27\\n27\\n27\\n27\\n27\\n\\n1,629.60\\n13,744.08\\n9,802.63\\n7,802.93\\n8,611.85\\n2,426.93\\n\\n20749\\n\\n312\\n\\n27\\n\\n25,019.90\\n\\n12600\\n17178\\n\\n276\\n280\\n\\n27\\n27\\n\\n13,346.26\\n19,135.09\\n\\n11602\\n\\n100\\n\\n27\\n\\n10,843.00\\n\\n5065.5\\n\\n120\\n\\n28\\n\\n6,185.76\\n\\n5687\\n5917\\n\\n132\\n132\\n\\n28\\n28\\n\\n6,804.34\\n6,804.34\\n\\n107\\n\\n\\x0cGUJARAT HOUSING BOARD - AHMEDBAD\\n\\nSr.\\nNo.\\n\\nDivision\\n\\nCity\\n\\n1\\n19\\n20\\n\\n2\\nAhmedabad\\nRajkot\\n\\n3\\nAhmedabad\\nBhavnagar\\n\\n21\\n\\nAhmedabad\\n\\nAhmedabad\\n\\n22\\n\\nAhmedabad\\n\\nAhmedabad\\n\\n23\\n\\nAhmedabad\\n\\nAhmedabad\\n\\n24\\n\\nAhmedabad\\n\\nAhmedabad\\n\\n25\\n\\nAhmedabad\\n\\nAhmedabad\\n\\n26\\n\\nAhmedabad\\n\\nAhmedabad\\n\\n27\\n28\\n\\nAhmedabad\\nAhmedabad\\n\\nAhmedabad\\nAhmedabad\\n\\n29\\n\\nSurat\\n\\nRander\\n\\n30\\n\\nAhmedabad\\n\\nAhmedabad\\n\\n31\\n32\\n\\nAhmedabad\\nSurat\\n\\nGandhinagar\\nSurat\\n\\n33\\n\\nAhmedabad\\n\\nGandhinagar\\n\\n34\\n35\\n\\nAhmedabad\\nAhmedabad\\n\\nAhmedabad\\nAhmedabad\\n\\nProject Name/Location\\n4\\n180 HIG +195 HIG Amar Suramya\\n144 MIG Amardeep,Bhavnagar\\n132 LIG Anandvihar Apartment,\\nVastrapur, Ahmedabad\\n24 L.I.G. Patrakar Colony, Pragatinagar,\\nAhmedabad\\n100 HIG +60 Shops Nidhi Apartment\\n300 HIG +18 Shops at Nirmal Apartment,\\nNaranpura, Ahmedabad\\n24 MIG M5- Block no. 22 to 24 Lal\\nBahadur Shashtrinagar Association-4\\n96 MIG M5- Block no. 25 to 36 Lal\\nBahadur Shahtrinagar Association-5\\n64 MIG Abhishek apartment\\n276 HIG Parishram Apartment\\n348 LIG + 360 MIG + 234 MIG + 16 Shops,\\nRander, Surat\\n96 M.I.G. Anand Apartment, Naranpura,\\nAhmedabad\\n192 MIG,Satyam Gandhinagar, Sector 24\\nSatyanagar Udhna\\n27 MIG Ambika Apartment, Gandhinagar\\n- Sector 24\\n60 MIG Sonal Park, Naranpura\\n110 HIG Pujan Apartment, Vasna\\n\\nPlot Area (sq\\nm.)\\n\\nNo. of\\nDUs\\n\\nProject\\nDuration\\n\\n5\\n31215\\n9277\\n\\n6\\n375\\n144\\n\\n27\\n28\\n\\nProposed\\nPHC\\nCarpet\\nArea (sq\\nm.)\\n7\\n39,860.94\\n7,660.80\\n\\n4319\\n\\n132\\n\\n27\\n\\n4,307.69\\n\\n1179.83\\n\\n24\\n\\n28\\n\\n984.00\\n\\n11022.65\\n\\n100\\n\\n28\\n\\n10,100.00\\n\\n22574\\n\\n300\\n\\n28\\n\\n30,118.20\\n\\n2201\\n\\n24\\n\\n28\\n\\n2,600.98\\n\\n4886\\n\\n96\\n\\n28\\n\\n10,403.90\\n\\n5876.8\\n24531\\n\\n64\\n276\\n\\n3,712.00\\n29,503.99\\n\\n40176\\n\\n942\\n\\n28\\n40\\n30\\n\\n7838.01\\n\\n96\\n\\n5700\\n35383.57\\n\\n192\\n598\\n\\n28\\n30\\n\\n6,326.40\\n22,736.00\\n\\n-\\n\\n27\\n\\n28\\n\\n1,333.53\\n\\n4886\\n\\n60\\n110\\n\\n19\\n28\\n\\n3,000.00\\n7,838.60\\n\\n28\\n\\n41,717.51\\n8,448.00\\n\\n108\\n\\n\\x0cGUJARAT HOUSING BOARD - AHMEDBAD\\nNote:\\nAbove carpet area & Numbers of sites are indicative. The projects listed above are at various stages from pre-tender stage to\\nconstruction stage. The selected bidder shall commence his services based on present stage of project and payment shall be released\\nas per terms & condition mentioned in RFP Unit planning can be in the combination of any of the housing type like EWS1, EWS2,\\nLIG1, LIG2, MIG1, MIG2, HIG\\nCommercial Units are part of project development.\\n\\n109\\n\\n\\x0c15 APPENDIX 2 : PROPOSED TEAM COMPOSITION\\nSN\\n\\nPosition\\n\\nMin\\nNos\\n\\nMinimum qualification\\n\\nMin. Experience\\n\\nExperience field\\n\\nSchedule\\n\\nPART - I Resources for Core Team at Ahmedabad\\n\\n1\\n\\nProject Manager\\n(Team Leader)\\n\\n1\\n\\n• M.E/ MTech/ MBA\\n• B.E in Civil\\nEngineering\\n\\n18 Yrs.\\n\\n2\\n\\nSr. Structural\\nEngineer\\n\\n1\\n\\n• B.E/ B.Tech in Civil\\nEngineering\\n\\n15 Yrs.\\n\\n3\\n\\nSr. Architect\\n\\n1\\n\\n• B. Arch.\\n\\n15 Yrs.\\n\\n4\\n\\nLegal Expert\\n\\n1\\n\\n• Bachelor of Law\\n\\n15 Yrs.\\n\\n• The Person should be from the Civil • Team Leader should visit\\nEngineering/Architectural background.\\nthe Project sites at least\\nMust\\nhave\\nworked\\nfor\\nmore\\nthan\\n05\\nyears\\non\\nonce in a week during\\n•\\nhousing projects.\\nconstruction period.\\n• Must have worked with reputed PMCs for at least • He should inspect the site\\n5 years.\\nonce in three months\\n• Out of the total work experience for the candidate during defect liability\\nshould be more than 10 years dealing in period.\\ngovernment projects/ National and International\\nProjects.\\n• Must have sound knowledge of the government\\npolicies, procedure and local language.\\n• In advance structural design of min 05 high-rise Should visit the Project\\nbuilding projects including pre-cast/alternative •\\nsites at least once in a week\\ntechnology design in residential Projects.\\nduring\\nconstruction\\n• Must have worked for agencies directly delivering period.\\nhousing projects.\\n• In architect design of high-rise building projects. Should visit the Project\\nPreferably must have worked for more than 05 •\\nsites at least once in a week\\nyears directly with the Gujarat government or must\\nduring\\nconstruction\\nhave worked as for agencies directly delivering\\nperiod.\\nprojects for the Gujarat government.\\n• Worked as Legal expert for any government\\ndepartment/ authority/ULB/PSUs for minimum of\\n5 years. Having experience of providing legal\\nadvisory for minimum one Housing Development\\nProject for any government project\\n\\n\\x0cGUJARAT HOUSING BOARD - AHMEDBAD\\n\\nSN\\n\\nPosition\\n\\nMin\\nNos\\n\\nMinimum qualification\\n\\n1\\n\\n• B.E./ B.Tech with post\\ndiploma or M.E./\\nM.Tech in\\nEnvironment\\nEngineering in\\nIndustrial safety\\n\\n10 Yrs.\\n\\nMin. Experience\\n\\nExperience field\\n\\n15 Yrs.\\n\\n• In construction supervision and worked as a Safety\\nEngineer of high-rise building.\\n• Must have worked for min 5 years on housing\\nprojects\\n\\n5\\n\\nSr. Environment &\\nSafety\\nEngineer\\n\\n6\\n\\nSr. Quality\\nEngineer\\n\\n1\\n\\n• B.E. / B. Tech. in civil\\nEngineering\\n\\n7\\n\\nFinance Expert\\n\\n1\\n\\n• Chartered Accountant or\\nMBA (Finance) from\\nReputed Institute\\n\\n15 Yrs.\\n\\n8\\n\\nPublic Housing\\nExpert\\n\\n1\\n\\n• Master in Urban\\nPlanning / Regional\\nPlanning.\\n\\n15 Yrs.\\n\\n9\\n\\nBIM Expert\\n\\n1\\n\\n• Bachelors in\\nArchitecture\\n\\n05 Yrs\\n\\n10\\n\\nUrban Infrastructure\\nExpert\\n\\n1\\n\\n• Master in Urban\\nPlanning / Regional\\nPlanning\\n\\n10 Yrs\\n\\nSchedule\\n\\n• In construction supervision and worked as a\\nQuality Engineer of high-rise building.\\n• Preferably must have worked for min than 02 years\\ndirectly with the Gujarat government\\n• Having extensive experience in financial\\nassessment, financial modeling, Feasibility study\\nDeveloping Financial Capacity, Project appraisal,\\n& Financial Evaluation.\\n• Having good experiences of working for high rise\\nbuildings/ Housing Projects and similar experience\\nof minimum 05 Yrs.\\n• Having the Knowledge of overall policy. Advisory\\nexperiences for housing projects and similar work\\nexperience for minimum 10 years.\\n• Having critical skill and knowledge to deliver\\nprojects in BIM sector by using technologies &\\nsoftware’s.\\n• Having experience of BIM coordinator for\\nminimum 03 years\\n• Having the Knowledge of overall Urban\\ninfrastructure like internal roads, drainages, sewer\\nnetwork, landscaping etc. and minimum 05 years\\nof experience in similar field.\\n\\n111\\n\\n\\x0cGUJARAT HOUSING BOARD - AHMEDBAD\\n\\nSN\\n\\nPosition\\n\\nMin Nos\\n\\n1 Resident construction 1 Resource per 5\\nprojects\\nmanager\\n\\n2 Site Engineer\\n\\n2 Resource per 1\\nProject\\n\\n3 MEP Engineer\\n\\n1 Resource per\\nproject\\n\\n4 Environment &\\nSafety Engineer\\n\\n1 Resource per\\nproject\\n\\n5 Quality Engineer\\n\\n1 Resource per\\nproject\\n\\nMinimum qualification Min. Experience\\n\\nExperience field\\n\\nSchedule\\n\\nPART - II Resources for Site Team\\n10 yrs\\n• B.E. /\\n• Experience of working in construction of • Should be available at all the\\nB.Tech. in Civil\\nhigh-rise building.\\nworks regularly (daily day\\nEngineering\\n• Must have worked for min. 05 years on and night during time when\\nHousing Projects\\nwork is in progress) During\\nexecution.\\n05 yrs\\n• B.E. /\\n• Experience of working in construction of • Should be available at site\\nB. Tech. in civil\\nhigh-rise building.\\nduring execution of work\\nEngineering\\n• Must have worked for min. 03 years on\\nHousing Projects\\n• B. E. in relevant field\\ni.e. Mechanical- 01,\\nElectrical- 01, Civil01 for plumbing\\n• B.E./B.Tech with\\npost diploma or\\nM.E./MTech in\\nEnvironment\\nEngineering in\\nIndustrial safety\\n• B.E. / B.Tech. in\\ncivil Engineering\\n\\n05 yrs\\n\\n05 yrs\\n\\n05 yrs\\n\\n• Experience of working as a MEP Engineer • Should be available at site\\nfor high-rise building projects.\\nduring execution of work\\n• Must have worked for min. 03 years on\\nHousing Projects\\n• Working experience In construction • Should be available at site\\nsupervision and worked as a Safety during execution of work\\nEngineer of high-rise building.\\n• Must have worked for min. 02 years on\\nHousing Projects\\n• Working experience In construction • Should be available at site\\nsupervision and worked as a Quality during execution of work\\nEngineer of high-rise building.\\n• Must have worked for min. 02 years on\\nHousing Projects\\n\\nNote:\\n\\n112\\n\\n\\x0cGUJARAT HOUSING BOARD - AHMEDBAD\\n1. The change in Team Leader of the Core team will not be allowed during the first 18 months of the project.\\n2. The change in Site team will not be allowed during the first 18 months of the project.\\n3. Agency has to deploy the staff as and when required and as per instructions of Engineer in-charge.\\n4. Above complete set of staff (PART II) have to be deployed for each project as specified in Appendix I. The Field staff as shown MEP, Fire\\nFighting Expert and Quality staff to depute by catering 2-5 sites as per requirement of GHB as and when required.\\nTeam Composition\\n(A)\\n\\nCore Team\\n\\nAll the key staff proposed shall be regular full-time employees of the firm for not less than 12 months prior to date of submission of the\\nproposal. Furnish a notarized true copy of the TDS/PF statement proposed staff shall be attached as a proof is essential with all required\\ndocuments i.e. Curriculum Vitae, Degree Certificate, Experience certificate of client…etc. and HR certificate for proposed key staff\\npersonnel.\\n(B)\\n\\nSite Team\\n\\nDetails of supporting staff should be submitted immediately after award of the work. Furnish a notarized true copy of the TDS/PF statement\\nproposed staff shall be attached as a proof is essential with all required documents i.e. Curriculum Vitae, Degree Certificate, Experience\\ncertificate of client etc. and HR certificate for proposed supporting staff.\\n\\n113\\n\\n\\x0c')]"
            ]
          },
          "metadata": {},
          "execution_count": 63
        }
      ]
    },
    {
      "cell_type": "markdown",
      "source": [
        "### **CSVLoader**"
      ],
      "metadata": {
        "id": "JQjzLDBjC4GB"
      }
    },
    {
      "cell_type": "code",
      "source": [
        "from langchain_community.document_loaders import CSVLoader"
      ],
      "metadata": {
        "id": "ii3_-uCzC6-j"
      },
      "execution_count": 66,
      "outputs": []
    },
    {
      "cell_type": "code",
      "source": [
        "loader=CSVLoader('/content/99Acres Houses.csv')"
      ],
      "metadata": {
        "id": "7SK45YJpDCzo"
      },
      "execution_count": 68,
      "outputs": []
    },
    {
      "cell_type": "code",
      "source": [
        "docs=loader.load()"
      ],
      "metadata": {
        "id": "eiNHJGC3DJTw"
      },
      "execution_count": 70,
      "outputs": []
    },
    {
      "cell_type": "code",
      "source": [
        "len(docs) # Equal to number of rows =>Convert Each row to Document Object"
      ],
      "metadata": {
        "colab": {
          "base_uri": "https://localhost:8080/"
        },
        "id": "eJ42NZAGDXS0",
        "outputId": "ccf8d6ab-11fb-43c9-dfb4-aa60b9d0d266"
      },
      "execution_count": 72,
      "outputs": [
        {
          "output_type": "execute_result",
          "data": {
            "text/plain": [
              "729"
            ]
          },
          "metadata": {},
          "execution_count": 72
        }
      ]
    },
    {
      "cell_type": "code",
      "source": [
        "print(docs[0].metadata)"
      ],
      "metadata": {
        "colab": {
          "base_uri": "https://localhost:8080/"
        },
        "id": "jnCTLlXdDgz7",
        "outputId": "a8bdc9fe-82f6-4c3f-d9a6-2f30b5a10342"
      },
      "execution_count": 74,
      "outputs": [
        {
          "output_type": "stream",
          "name": "stdout",
          "text": [
            "{'source': '/content/99Acres Houses.csv', 'row': 0}\n"
          ]
        }
      ]
    },
    {
      "cell_type": "code",
      "source": [
        "print(docs[0].page_content)"
      ],
      "metadata": {
        "colab": {
          "base_uri": "https://localhost:8080/"
        },
        "id": "kjH-ZsBVDqJ3",
        "outputId": "90590ab8-b316-4e7b-cc6f-774ab3f9d941"
      },
      "execution_count": 75,
      "outputs": [
        {
          "output_type": "stream",
          "name": "stdout",
          "text": [
            "property_name: 5 Bedroom House for sale in Sector 70A Gurgaon\n",
            "society: Bptp Visionnaire\n",
            "price: 5.25 Crore\n",
            "rate: ₹ 20,115/sq.ft.\n",
            "area: (242 sq.m.) Plot Area\n",
            "areaWithType: Plot area 290(242.48 sq.m.)\n",
            "bedRoom: 5 Bedrooms\n",
            "bathroom: 4 Bathrooms\n",
            "balcony: 3+ Balconies\n",
            "additionalRoom: Servant Room\n",
            "address: 29b, Sector 70A Gurgaon, Gurgaon, Haryana\n",
            "noOfFloor: 3 Floors\n",
            "facing: North-East\n",
            "agePossession: 0 to 1 Year Old\n",
            "nearbyLocations: ['Good Earth City Center 2', 'Kunskapsskolan International School', 'Peace Taekwondo Academy', 'Rama krishna public school', 'Suraj School Sector 75', 'Axis Bank ATM, Sector 57', 'Sparsh Hospital, Sohna Rd', 'Oriental Bank of Commerce Palra Rd', 'The Federal Bank Ltd Palra', 'HDFC Bank Darbaripur Rd', 'Central Bank Of IndiaSohna Rd', 'Tata Projects Limited', 'IndianOil, Hasanpur', 'HPCL Sadhuram & Sons Petromart', 'RAMA Filling Station']\n",
            "description: Do you wish to buy an independent house in sector 70a gurgaon. This 5 bhk house looks like an ideal choice for somebody looking for peace of mind. This house occupies a super built up area of 290 sq.Yards and contains 5 bedrooms, 4 bathrooms and more than 3 balconies. There are 2 covered & 1 open parking available with this house. As the property is already ready to move, so you can easily move into this 0-1 year old house. This house is owned under freehold contract. This spacious house can be all yours at an attractive price of  5.25 crore.\n",
            "furnishDetails: ['1 Wardrobe', '1 Fan', '1 Exhaust Fan', '1 Geyser', '1 Light', '1 Modular Kitchen', '1 AC', '1 Chimney', 'No Bed', 'No Curtains', 'No Dining Table', 'No Microwave', 'No Fridge', 'No Sofa', 'No Stove', 'No TV', 'No Washing Machine', 'No Water Purifier']\n",
            "features: ['Feng Shui / Vaastu Compliant', 'Private Garden / Terrace', 'Maintenance Staff', 'Water Storage', 'Park', 'Visitor Parking', 'Waste Disposal', 'Rain Water Harvesting']\n",
            "rating: ['Environment5 out of 5', 'Lifestyle4 out of 5', 'Connectivity4 out of 5', 'Safety4 out of 5']\n",
            "property_id: K70037724\n"
          ]
        }
      ]
    },
    {
      "cell_type": "markdown",
      "source": [
        "## **DIRECTORY LOADER** -> Lets you load multiple documents from a folder"
      ],
      "metadata": {
        "id": "9FOwmuPkDxT7"
      }
    },
    {
      "cell_type": "code",
      "source": [
        "from langchain_community.document_loaders import DirectoryLoader,PyPDFLoader"
      ],
      "metadata": {
        "id": "PCAMCjH7EF4F"
      },
      "execution_count": 77,
      "outputs": []
    },
    {
      "cell_type": "code",
      "source": [
        "loader=DirectoryLoader(\n",
        "    path='/content/drive/MyDrive/pdfs',\n",
        "    glob='*.pdf',\n",
        "    loader_cls=PyPDFLoader\n",
        ")"
      ],
      "metadata": {
        "id": "XRasi9w_EUSf"
      },
      "execution_count": 79,
      "outputs": []
    },
    {
      "cell_type": "code",
      "source": [
        "docs=loader.load()"
      ],
      "metadata": {
        "id": "8KReL5GmEwn7"
      },
      "execution_count": 80,
      "outputs": []
    },
    {
      "cell_type": "code",
      "source": [
        "len(docs)"
      ],
      "metadata": {
        "colab": {
          "base_uri": "https://localhost:8080/"
        },
        "id": "hRt4yKlfFCUA",
        "outputId": "81de0524-be29-4f23-fceb-8aee08fd5682"
      },
      "execution_count": 81,
      "outputs": [
        {
          "output_type": "execute_result",
          "data": {
            "text/plain": [
              "66"
            ]
          },
          "metadata": {},
          "execution_count": 81
        }
      ]
    },
    {
      "cell_type": "code",
      "source": [
        "docs[0].metadata"
      ],
      "metadata": {
        "colab": {
          "base_uri": "https://localhost:8080/"
        },
        "id": "ALmezBV6FDnT",
        "outputId": "68ed5bc0-ce3b-44b9-cca4-36a679eb5f46"
      },
      "execution_count": 82,
      "outputs": [
        {
          "output_type": "execute_result",
          "data": {
            "text/plain": [
              "{'producer': 'PyPDF',\n",
              " 'creator': 'Microsoft Word',\n",
              " 'creationdate': '2024-08-14T03:31:43-07:00',\n",
              " 'title': 'Untitled document',\n",
              " 'moddate': '2024-08-14T03:31:43-07:00',\n",
              " 'source': '/content/drive/MyDrive/pdfs/Required_Text (1) (2) 2 (3).pdf',\n",
              " 'total_pages': 33,\n",
              " 'page': 0,\n",
              " 'page_label': '1'}"
            ]
          },
          "metadata": {},
          "execution_count": 82
        }
      ]
    },
    {
      "cell_type": "code",
      "source": [
        "print(docs[1].page_content)"
      ],
      "metadata": {
        "colab": {
          "base_uri": "https://localhost:8080/"
        },
        "id": "oDDCIvs6FHuF",
        "outputId": "571f9919-ff32-48aa-d491-5e79daa7d8c8"
      },
      "execution_count": 84,
      "outputs": [
        {
          "output_type": "stream",
          "name": "stdout",
          "text": [
            "Column1   A  B  C   D   E  F  G  H      \n",
            " \n",
            "1 \n",
            "  Company  \n",
            "    \n",
            "Name \n",
            "Branches \n",
            "Allowed   Profile   \n",
            "CTC (per \n",
            "year)   \n",
            "Base (per \n",
            "year)   \n",
            "Internship \n",
            "(per month)   Location   \n",
            "Eligibility \n",
            "Criteria      \n",
            "                               \n",
            " \n",
            "2   Zhealthehr   \n",
            "BE –   \n",
            "CSE/ECE/EN \n",
            "C/EIC/EE/EE  \n",
            "C   \n",
            "SDE 1   40 lpa   18 lpa   \n",
            "37.5k per   \n",
            "month(comp  \n",
            "ulsory)   \n",
            "Gurugram   8+      \n",
            " \n",
            "3   Zomato   \n",
            "BE –  \n",
            "CS/EC/ENC/E \n",
            "E   \n",
            "SDE 1   25 lpa   20 lpa   60k per \n",
            "month   Gurugram   7.5+      \n",
            " 4   Plex Labs   BE-CS   Software \n",
            "Engineer   22 lpa   16 \n",
            "lpa+5.5lpa   1 lpa   Hyderabad/T \n",
            "elangana   8+      \n",
            "5   American   \n",
            "Express  \n",
            "BE-   \n",
            "CS/ENC/ELE/ \n",
            "EIC/ECE/EEC  \n",
            "Software  \n",
            "Engineer   16.78 lpa   12.94 lpa + \n",
            "3lpa   \n",
            "85k per \n",
            "month   \n",
            "Ggn/Bangalo \n",
            "re   7+      \n",
            "  \n",
            "6   Caastle   BE-CS/ ENC   Software \n",
            "Engineer   22 lpa   12 lpa   27.5 per \n",
            "month   New Delhi   8+      \n",
            "7   Cloudera   BE-CS   SDE 1   \n",
            "not   \n",
            "mentioned   \n",
            "17 lpa   45k per \n",
            "month   Bangalore   \n",
            "10 th,   \n",
            "10+2/Dip  \n",
            "75%, Present  \n",
            "CGPA 7.50 \n",
            "&amp; \n",
            "above, No \n",
            "backlogs and \n",
            "no \n",
            "educational \n",
            "gap   \n",
            "  \n",
            "   \n",
            "8   Oracle   BECS/EC/ENC/E \n",
            "E   \n",
            "Software  \n",
            "  \n",
            "Engineer/Ap \n",
            "p Developer   \n",
            "19 lpa   14.5 lpa   -   \n",
            "Mumbai /   \n",
            "Pune / \n",
            "Bangalore / \n",
            "Chennai   \n",
            "7+      \n",
            "9   Bain & Co.   \n",
            "BE – CS, ECE,   \n",
            "ENC, EEC,  \n",
            "ELE, EIC   \n",
            "Analyst   \n",
            "not   \n",
            "mentioned   \n",
            "14 lpa   \n",
            "40k per   \n",
            "month(comp  \n",
            "ulsory)   \n",
            "Ggn/Bangalo \n",
            "re   None      \n",
            "10   Celigo   \n",
            "BE –   \n",
            "CS/EC/ENC/E \n",
            "IC/EEC   \n",
            "SDE 1   19 lpa   16 lpa   33k per \n",
            "month   Hyderabad   7+\n"
          ]
        }
      ]
    },
    {
      "cell_type": "markdown",
      "source": [
        "### **WEBBASELOADER**"
      ],
      "metadata": {
        "id": "7BzZXFbrFRBK"
      }
    },
    {
      "cell_type": "code",
      "source": [
        "from langchain_community.document_loaders import WebBaseLoader"
      ],
      "metadata": {
        "colab": {
          "base_uri": "https://localhost:8080/"
        },
        "id": "B6OiEb0yGmqp",
        "outputId": "9bfc7c53-efb8-4b6e-c173-61963e322021"
      },
      "execution_count": 85,
      "outputs": [
        {
          "output_type": "stream",
          "name": "stderr",
          "text": [
            "WARNING:langchain_community.utils.user_agent:USER_AGENT environment variable not set, consider setting it to identify your requests.\n"
          ]
        }
      ]
    },
    {
      "cell_type": "code",
      "source": [
        "loader=WebBaseLoader('https://www.apple.com/in/shop/buy-mac/macbook-pro/14-inch-space-black-standard-display-apple-m4-chip-with-10-core-cpu-and-10-core-gpu-16gb-memory-512gb?cid=aos-IN-kwgo-pla-mac')"
      ],
      "metadata": {
        "id": "YEdxOkuVGuKI"
      },
      "execution_count": 86,
      "outputs": []
    },
    {
      "cell_type": "code",
      "source": [
        "docs=loader.load()"
      ],
      "metadata": {
        "id": "ASfmpJOeHTKP"
      },
      "execution_count": 87,
      "outputs": []
    },
    {
      "cell_type": "code",
      "source": [
        "len(docs)"
      ],
      "metadata": {
        "colab": {
          "base_uri": "https://localhost:8080/"
        },
        "id": "jWiERmYxHVy1",
        "outputId": "e72349cd-7fa8-48e1-dbdb-a24443013bc4"
      },
      "execution_count": 88,
      "outputs": [
        {
          "output_type": "execute_result",
          "data": {
            "text/plain": [
              "1"
            ]
          },
          "metadata": {},
          "execution_count": 88
        }
      ]
    },
    {
      "cell_type": "code",
      "source": [
        "docs[0].metadata"
      ],
      "metadata": {
        "colab": {
          "base_uri": "https://localhost:8080/"
        },
        "id": "YDbmvEOkHXi3",
        "outputId": "dd78c29e-68be-46af-b2a0-50ebe8dce9eb"
      },
      "execution_count": 92,
      "outputs": [
        {
          "output_type": "execute_result",
          "data": {
            "text/plain": [
              "{'source': 'https://www.apple.com/in/shop/buy-mac/macbook-pro/14-inch-space-black-standard-display-apple-m4-chip-with-10-core-cpu-and-10-core-gpu-16gb-memory-512gb?cid=aos-IN-kwgo-pla-mac',\n",
              " 'title': '14\" MacBook Pro - Space Black - Apple (IN)',\n",
              " 'description': 'Discover the MacBook Pro laptop, supercharged by the M4 family of chips and built for Apple Intelligence. Financing options available. Buy now.',\n",
              " 'language': 'en-IN'}"
            ]
          },
          "metadata": {},
          "execution_count": 92
        }
      ]
    },
    {
      "cell_type": "code",
      "source": [
        "print(docs[0].page_content)"
      ],
      "metadata": {
        "colab": {
          "base_uri": "https://localhost:8080/"
        },
        "id": "g5a2ru07Hi3E",
        "outputId": "f4035e3d-cfa2-4307-dfe0-106dacf1f2ba"
      },
      "execution_count": 97,
      "outputs": [
        {
          "output_type": "stream",
          "name": "stdout",
          "text": [
            "\n",
            "\n",
            "\n",
            "\n",
            "\n",
            "\n",
            "\n",
            "\n",
            "14\" MacBook Pro - Space Black - Apple (IN)\n",
            "\n",
            "\n",
            "\n",
            "\n",
            "\n",
            "\n",
            "\n",
            "\n",
            "\n",
            "\n",
            "\n",
            "\n",
            "\n",
            "\n",
            "\n",
            "\n",
            "\n",
            "\n",
            "\n",
            "\n",
            "\n",
            "\n",
            "\n",
            "\n",
            "\n",
            "\n",
            "\n",
            "\n",
            "\n",
            "\n",
            "\n",
            "\n",
            "\n",
            "\n",
            "\n",
            "\n",
            "\n",
            "\n",
            "\n",
            "\n",
            "\n",
            "\n",
            "\n",
            "\n",
            "\n",
            "\n",
            "\n",
            "\n",
            "\n",
            "\n",
            "\n",
            "\n",
            "\n",
            "\n",
            "\n",
            "\n",
            "\n",
            "\n",
            "\n",
            "\n",
            "\n",
            "\n",
            "\n",
            "\n",
            "\n",
            "\n",
            "\n",
            "\n",
            "\n",
            "\n",
            "\n",
            "\n",
            "\n",
            "\n",
            "\n",
            "\n",
            "\n",
            "\n",
            "\n",
            "\n",
            "\n",
            "\n",
            "\n",
            "\n",
            "\n",
            "\n",
            "\n",
            "\n",
            "\n",
            "\n",
            "\n",
            "\n",
            "\n",
            "\n",
            "\n",
            "\n",
            "\n",
            "Apple\n",
            "\n",
            "\n",
            "\n",
            "\n",
            "\n",
            "\n",
            "\n",
            "\n",
            "Store\n",
            "\n",
            "\n",
            "\n",
            "\n",
            "\n",
            "\n",
            "\n",
            "Mac\n",
            "\n",
            "\n",
            "\n",
            "\n",
            "\n",
            "\n",
            "\n",
            "iPad\n",
            "\n",
            "\n",
            "\n",
            "\n",
            "\n",
            "\n",
            "\n",
            "iPhone\n",
            "\n",
            "\n",
            "\n",
            "\n",
            "\n",
            "\n",
            "\n",
            "Watch\n",
            "\n",
            "\n",
            "\n",
            "\n",
            "\n",
            "\n",
            "\n",
            "AirPods\n",
            "\n",
            "\n",
            "\n",
            "\n",
            "\n",
            "\n",
            "\n",
            "TV & Home\n",
            "\n",
            "\n",
            "\n",
            "\n",
            "\n",
            "\n",
            "\n",
            "Entertainment\n",
            "\n",
            "\n",
            "\n",
            "\n",
            "\n",
            "\n",
            "\n",
            "Accessories\n",
            "\n",
            "\n",
            "\n",
            "\n",
            "\n",
            "\n",
            "\n",
            "Support\n",
            "\n",
            "\n",
            "\n",
            "\n",
            "\n",
            "\n",
            "\n",
            "\n",
            "\n",
            " \n",
            "\n",
            "\n",
            "\n",
            "\n",
            "\n",
            "\n",
            "\n",
            "\n",
            "\n",
            "\n",
            "\n",
            "\n",
            "\n",
            "\n",
            "\n",
            "\n",
            "\n",
            "\n",
            "\n",
            "\n",
            "\n",
            "\n",
            "\n",
            "\n",
            "\n",
            "\n",
            "0+\n",
            "\n",
            "\n",
            "\n",
            "\n",
            "\n",
            "\n",
            "\n",
            "\n",
            "\n",
            "\n",
            "\n",
            "\n",
            "\n",
            "\n",
            "\n",
            "\n",
            "\n",
            "\n",
            "\n",
            "\n",
            "\n",
            "\n",
            "\n",
            "\n",
            "\n",
            "\n",
            "\n",
            "\n",
            "\n",
            "\n",
            "\n",
            "\n",
            "\n",
            "\n",
            "\n",
            "\n",
            "    MacBook Pro\n",
            "\n",
            "\n",
            "\n",
            "\n",
            "\n",
            "\n",
            "\n",
            "\n",
            "\n",
            "\n",
            "\n",
            "\n",
            "                                        Overview\n",
            " \n",
            "\n",
            "                                        macOS\n",
            " \n",
            "\n",
            "                                        Compare\n",
            " \n",
            "\n",
            "\n",
            "\n",
            "\n",
            "\n",
            "\n",
            "\n",
            "\n",
            "\n",
            "\n",
            "\n",
            "\n",
            "\n",
            "\n",
            "\n",
            "\n",
            "\n",
            "\n",
            "\n",
            "\n",
            "\n",
            "\n",
            "              Get up to 12 months of No Cost EMI§ plus up to ₹8000.00 instant cashback§§ on selected Mac models with eligible cards.\n",
            "            \n",
            "\n",
            "\n",
            "\n",
            "\n",
            "\n",
            "\n",
            "\n",
            "\n",
            "\n",
            "\n",
            "\n",
            "\n",
            "\n",
            "\n",
            "\n",
            "\n",
            "                            Customise your 14\" MacBook Pro - Space Black\n",
            "                        \n",
            "\n",
            "\n",
            " \n",
            "\n",
            "\n",
            "\n",
            "\n",
            "                        Customise your 14\" MacBook Pro - Space Black\n",
            "                    \n",
            "\n",
            "\n",
            "\n",
            "35.97 cm (14.2\") Liquid Retina XDR display²\n",
            "Standard display\n",
            "Apple M4 chip with 10-core CPU, 10-core GPU, 16-core Neural Engine\n",
            "16GB unified memory\n",
            "512GB SSD storage\n",
            "70W USB-C Power Adapter\n",
            "Three Thunderbolt 4 ports, HDMI port, SDXC card slot, headphone jack, MagSafe 3 port\n",
            "Backlit Magic Keyboard with Touch ID - US English\n",
            "\n",
            "\n",
            "\n",
            "                    ₹169900.00\n",
            "                \n",
            "\n",
            "\n",
            "\n",
            "\n",
            "\n",
            "\n",
            "\n",
            "\n",
            "\n",
            "\n",
            "\n",
            "\n",
            "\n",
            "\n",
            "\n",
            "\n",
            "\n",
            "            Get 3 months of Apple TV+ free when you buy a Mac. Footnote °\n",
            "            \n",
            "\n",
            "\n",
            " Try it free Footnote ^\n",
            "Learn moreLearn more about Apple TV+\n",
            "\n",
            "\n",
            "\n",
            "\n",
            "\n",
            "\n",
            "\n",
            "\n",
            "\n",
            "\n",
            "\n",
            "\n",
            "\n",
            "\n",
            "\n",
            "\n",
            "Footer\n",
            "footnotes\n",
            "\n",
            "\n",
            "\n",
            "        \n",
            "\n",
            "\n",
            "\t\n",
            "\n",
            "\n",
            "\t\t\n",
            "\t\t\t∆ Apple Intelligence is available in beta on all Mac models with M1 and later, with Siri and device language set to Chinese (Simplified), English (Australia, Canada, India, Ireland, New Zealand, Singapore, South Africa, UK or US), French, German, Italian, Japanese, Korean, Portuguese (Brazil) or Spanish, as a macOS Sequoia update, with more languages coming over the course of the year, including Vietnamese. Some features may not be available in all regions or languages.\n",
            "\n",
            "1GB = 1 billion bytes and 1TB = 1 trillion bytes; actual formatted capacity less.\n",
            "The displays on the 14″ MacBook Pro and 16″ MacBook Pro have rounded corners at the top. When measured as a standard rectangular shape, the screens are 35.97 cm (14.2″) and 41.05 cm (16.2″) diagonally (actual viewable area is less).\n",
            "Testing conducted by Apple August through October 2024 using pre‑production 14″ MacBook Pro systems with Apple M4, 10‑core CPU, 10‑core GPU, 24GB of RAM and 1TB SSD. Tested with Apple 96W USB‑C Power Adapter (Model A2166) and USB‑C to MagSafe 3 Cable (Model A2363). Fast‑charge testing conducted with drained MacBook Pro units. Times measured from the beginning of wake from hibernate, or from the appearance of the Apple logo as the unit started up. Charge time varies with settings and environmental factors; actual results will vary.\n",
            "\n",
            "° Apple TV+ offer available to new and qualified returning subscribers only. ₹99/month after free trial. Only one offer per Apple Account and only one offer per family if you’re part of a Family Sharing group, regardless of the number of devices that you or your family purchase. This offer is not available if you or your family have previously accepted an Apple TV+ 3 months free or 1 year free offer. Offer valid for three months after eligible device is activated. Plan automatically renews until cancelled. Restrictions and other terms apply.\n",
            "^ 7-day free trial for new subscribers only. ₹99/month after trial. Plan automatically renews until cancelled. Terms apply.\n",
            "\n",
            "* Mac, iPad, and Apple Watch trade-in is available only in-store in India. Apple Retail Online in India does not offer trade-in for Mac, iPad, and Apple Watch. Trade‑in values will vary based on the condition, year and configuration of your eligible trade‑in device. Not all devices are eligible for credit. You must be at least the age of majority to be eligible to trade in for credit. Trade‑in value may be applied towards a qualifying new device purchase. Actual value awarded is based on receipt of a qualifying device matching the description provided when estimate was made. Sales tax may be assessed on full value of a new device purchase. In-store trade‑in requires presentation of a valid photo ID (local law may require saving this information). Some stores may have additional requirements. Apple or its trade‑in partners reserve the right to refuse, cancel or limit the quantity of any trade‑in transaction for any reason. More details are available from Apple’s trade‑in partner for trade‑in and recycling of eligible devices. Restrictions and limitations may apply.\n",
            "§ No Cost EMI is available with the purchase of an eligible product made using qualifying cards on 3-, 6-, 9-, or 12-month tenures from most leading card issuers. Eligible AirPods, HomePod and Beats products are available with No Cost EMI on 3- and 6-month tenures only.  Monthly pricing is rounded to the nearest rupee. Exact pricing will be provided by your card issuer, subject to your card issuer’s terms and conditions. Minimum order spend applies as per your card issuer’s threshold. No Cost EMI is not available to Business customers and cannot be combined with Apple Store for Education or Corporate Employee Purchase Plan pricing. Card eligibility is subject to terms and conditions between you and your card issuer. Offer may be revised or withdrawn at any time without any prior notice. Terms apply.\n",
            "Representative example:\n",
            "A purchase of ₹79900.00 repaid over 12 months with an interest rate of 15.99% p.a. and No Cost EMI savings of ₹6514.00 requires monthly payments of ₹6658.00.  Total amount payable: ₹79900.00.\n",
            "\n",
            "§§ Instant cashback is available with the purchase of an eligible product with qualifying American Express, Axis Bank and ICICI Bank cards only. Minimum transaction value of ₹10001.00 applies. Click here to see instant cashback amounts and eligible devices. Instant cashback is available for up to two orders per rolling 90-day period with an eligible card. Card eligibility is subject to terms and conditions between you and your card issuer. Total transaction value is calculated after any trade-in credit or eligible discount is applied. Any subsequent order adjustment(s) or cancellation(s) may result in instant cashback being recalculated, and any refund may be adjusted to account for instant cashback clawback; this may result in no refund being made to you. Offer may be revised or withdrawn at any time without any prior notice. Additional terms apply. Instant cashback is not available to Business customers and cannot be combined with Apple Store for Education or Corporate Employee Purchase Plan pricing. Multiple separate orders cannot be combined for instant cashback.\n",
            "◊◊ Monthly pricing is after purchase using EMI with qualifying cards at 15.99% p.a. over a 12‑month tenure. Monthly pricing is rounded to the nearest rupee. Exact pricing will be provided by your card issuer, subject to your card issuer’s terms and conditions.\n",
            "Representative example:\n",
            "A purchase of ₹79900.00 repaid over 12 months with an interest rate of 15.99% p.a. requires monthly payments of ₹7249.00.  Total amount payable: ₹86988.00.  Total interest paid to bank: ₹7088.00.\n",
            "\n",
            "** New and qualified returning subscribers only. ₹99/month after free trial. Only one offer per Apple Account and only one offer per family if you’re part of a Family Sharing group, regardless of the number of devices you or your family purchases. This offer is not available if you or your Family have previously accepted an Apple Arcade 3-month-free offer. Offer is valid for 3 months after eligible device activation. Plan automatically renews until cancelled. Restrictions and other terms apply.\n",
            "⁺ New subscribers only. ₹119.00/month after trial. Offer is available for new Apple Music subscribers with a new eligible device for a limited time only. Offer redemption for eligible audio devices requires connecting or pairing to an Apple device running the latest iOS or iPadOS. Offer redemption for Apple Watch requires connecting or pairing to an iPhone running the latest iOS. Offer good for three months after eligible device activation. Only one offer per Apple Account, regardless of the number of eligible devices you purchase. Plan automatically renews until cancelled. Restrictions and other terms (opens in new window) apply.\n",
            "\n",
            "‡ Listed pricing is Maximum Retail Price (inclusive of all taxes).\n",
            "We use your location to show you delivery options faster. We found your location using your IP address or because you entered it during a previous visit to Apple.\n",
            "\n",
            "\n",
            " \n",
            "Apple\n",
            "\n",
            "\n",
            "\n",
            "\n",
            "Mac\n",
            "\n",
            "\n",
            "MacBook Pro\n",
            "\n",
            "\n",
            "Buy MacBook Pro\n",
            "\n",
            "\n",
            "Customise MacBook Pro\n",
            "\n",
            "\n",
            "\n",
            "\n",
            "\n",
            "\n",
            "\n",
            "\n",
            "\n",
            "Shop and Learn\n",
            "\n",
            "Shop and Learn\n",
            "+\n",
            "\n",
            "\n",
            "\n",
            "\n",
            "                    Store\n",
            " \n",
            "\n",
            "                    Mac\n",
            " \n",
            "\n",
            "                    iPad\n",
            " \n",
            "\n",
            "                    iPhone\n",
            " \n",
            "\n",
            "                    Watch\n",
            " \n",
            "\n",
            "                    AirPods\n",
            " \n",
            "\n",
            "                    TV & Home\n",
            " \n",
            "\n",
            "                    AirTag\n",
            " \n",
            "\n",
            "                    Accessories\n",
            " \n",
            "\n",
            "                    Gift Cards\n",
            " \n",
            "\n",
            "\n",
            "\n",
            "\n",
            "Apple Wallet\n",
            "\n",
            "Apple Wallet\n",
            "+\n",
            "\n",
            "\n",
            "\n",
            "\n",
            "                    Wallet\n",
            " \n",
            "\n",
            "\n",
            "\n",
            "\n",
            "\n",
            "\n",
            "Account\n",
            "\n",
            "Account\n",
            "+\n",
            "\n",
            "\n",
            "\n",
            "\n",
            "                    Manage Your Apple Account\n",
            " \n",
            "\n",
            "                    Apple Store Account\n",
            " \n",
            "\n",
            "                    iCloud.com\n",
            " \n",
            "\n",
            "\n",
            "\n",
            "\n",
            "Entertainment\n",
            "\n",
            "Entertainment\n",
            "+\n",
            "\n",
            "\n",
            "\n",
            "\n",
            "                    Apple One\n",
            " \n",
            "\n",
            "                    Apple TV+\n",
            " \n",
            "\n",
            "                    Apple Music\n",
            " \n",
            "\n",
            "                    Apple Arcade\n",
            " \n",
            "\n",
            "                    Apple Podcasts\n",
            " \n",
            "\n",
            "                    Apple Books\n",
            " \n",
            "\n",
            "                    App Store\n",
            " \n",
            "\n",
            "\n",
            "\n",
            "\n",
            "\n",
            "\n",
            "Apple Store\n",
            "\n",
            "Apple Store\n",
            "+\n",
            "\n",
            "\n",
            "\n",
            "\n",
            "                    Find a Store\n",
            " \n",
            "\n",
            "                    Genius Bar\n",
            " \n",
            "\n",
            "                    Today at Apple\n",
            " \n",
            "\n",
            "                    Apple Summer Camp\n",
            " \n",
            "\n",
            "                    Ways to Buy\n",
            " \n",
            "\n",
            "                    Apple Trade In\n",
            " \n",
            "\n",
            "                    Recycling Programme\n",
            " \n",
            "\n",
            "                    Find your Order - Apple\n",
            " \n",
            "\n",
            "                    Shopping Help\n",
            " \n",
            "\n",
            "\n",
            "\n",
            "\n",
            "\n",
            "\n",
            "For Business\n",
            "\n",
            "For Business\n",
            "+\n",
            "\n",
            "\n",
            "\n",
            "\n",
            "                    Apple and Business\n",
            " \n",
            "\n",
            "\n",
            "\n",
            "\n",
            "For Education\n",
            "\n",
            "For Education\n",
            "+\n",
            "\n",
            "\n",
            "\n",
            "\n",
            "                    Apple and Education\n",
            " \n",
            "\n",
            "                    Shop for Education\n",
            " \n",
            "\n",
            "                    Shop for University\n",
            " \n",
            "\n",
            "\n",
            "\n",
            "\n",
            "For Healthcare\n",
            "\n",
            "For Healthcare\n",
            "+\n",
            "\n",
            "\n",
            "\n",
            "\n",
            "                    Apple in Healthcare\n",
            " \n",
            "\n",
            "                    Health on Apple Watch\n",
            " \n",
            "\n",
            "\n",
            "\n",
            "\n",
            "\n",
            "\n",
            "Apple Values\n",
            "\n",
            "Apple Values\n",
            "+\n",
            "\n",
            "\n",
            "\n",
            "\n",
            "                    Accessibility\n",
            " \n",
            "\n",
            "                    Environment\n",
            " \n",
            "\n",
            "                    Privacy\n",
            " \n",
            "\n",
            "                    Supply Chain\n",
            " \n",
            "\n",
            "\n",
            "\n",
            "\n",
            "About Apple\n",
            "\n",
            "About Apple\n",
            "+\n",
            "\n",
            "\n",
            "\n",
            "\n",
            "                    Newsroom\n",
            " \n",
            "\n",
            "                    Apple Leadership\n",
            " \n",
            "\n",
            "                    Career Opportunities\n",
            " \n",
            "\n",
            "                    Investors\n",
            " \n",
            "\n",
            "                    Ethics & Compliance\n",
            " \n",
            "\n",
            "                    Events\n",
            " \n",
            "\n",
            "                    Contact Apple\n",
            " \n",
            "\n",
            "\n",
            "\n",
            "\n",
            "\n",
            "\n",
            "More ways to shop: Find an Apple Store or other retailer near you. Or call 000800 040 1966.\n",
            "\n",
            "\n",
            "                            India\n",
            " \n",
            "\n",
            "\n",
            "                    Copyright © 2025 Apple Inc.  All rights reserved.\n",
            "                \n",
            "\n",
            "\n",
            "Privacy Policy \n",
            "\n",
            "Terms of Use \n",
            "\n",
            "Sales Policy \n",
            "\n",
            "Legal \n",
            "\n",
            "Site Map \n",
            "\n",
            "\n",
            "\n",
            "\n",
            "\n",
            "\n",
            "\n",
            "\n",
            "\n",
            "\n",
            "\n",
            "\n",
            "\n",
            "\n",
            "\n",
            "\n",
            "\n"
          ]
        }
      ]
    }
  ]
}