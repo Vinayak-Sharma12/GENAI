{
  "nbformat": 4,
  "nbformat_minor": 0,
  "metadata": {
    "colab": {
      "provenance": [],
      "authorship_tag": "ABX9TyOzXihZPTvB0LuAlti4oSoa",
      "include_colab_link": true
    },
    "kernelspec": {
      "name": "python3",
      "display_name": "Python 3"
    },
    "language_info": {
      "name": "python"
    }
  },
  "cells": [
    {
      "cell_type": "markdown",
      "metadata": {
        "id": "view-in-github",
        "colab_type": "text"
      },
      "source": [
        "<a href=\"https://colab.research.google.com/github/Vinayak-Sharma12/GENAI/blob/main/9_Pydantic(Default%2BOptional%2BField%2BTo_Json).ipynb\" target=\"_parent\"><img src=\"https://colab.research.google.com/assets/colab-badge.svg\" alt=\"Open In Colab\"/></a>"
      ]
    },
    {
      "cell_type": "code",
      "execution_count": 1,
      "metadata": {
        "colab": {
          "base_uri": "https://localhost:8080/"
        },
        "id": "xIfeCaFKakSX",
        "outputId": "d00eb3c6-8b59-48a0-c843-2a69cd56d456"
      },
      "outputs": [
        {
          "output_type": "stream",
          "name": "stdout",
          "text": [
            "Requirement already satisfied: pydantic in /usr/local/lib/python3.11/dist-packages (2.11.1)\n",
            "Requirement already satisfied: annotated-types>=0.6.0 in /usr/local/lib/python3.11/dist-packages (from pydantic) (0.7.0)\n",
            "Requirement already satisfied: pydantic-core==2.33.0 in /usr/local/lib/python3.11/dist-packages (from pydantic) (2.33.0)\n",
            "Requirement already satisfied: typing-extensions>=4.12.2 in /usr/local/lib/python3.11/dist-packages (from pydantic) (4.13.0)\n",
            "Requirement already satisfied: typing-inspection>=0.4.0 in /usr/local/lib/python3.11/dist-packages (from pydantic) (0.4.0)\n"
          ]
        }
      ],
      "source": [
        "!pip install pydantic"
      ]
    },
    {
      "cell_type": "code",
      "source": [
        "from pydantic import BaseModel\n",
        "class Student(BaseModel):\n",
        "   name:str\n",
        "\n",
        "new_student={'name':'Vinayak'}\n",
        "student=Student(**new_student)\n",
        "print(student)"
      ],
      "metadata": {
        "colab": {
          "base_uri": "https://localhost:8080/"
        },
        "id": "2pTnuZ10ao7j",
        "outputId": "9492ee5a-c263-4fe3-8e32-e53bd8ca36b4"
      },
      "execution_count": 10,
      "outputs": [
        {
          "output_type": "stream",
          "name": "stdout",
          "text": [
            "name='Vinayak'\n"
          ]
        }
      ]
    },
    {
      "cell_type": "markdown",
      "source": [
        "Setting Default Value"
      ],
      "metadata": {
        "id": "PvbnKEkvcBZm"
      }
    },
    {
      "cell_type": "code",
      "source": [
        "from typing import Optional\n",
        "from pydantic import BaseModel\n",
        "class Student(BaseModel):\n",
        "  name:str ='Sarthak' # setting default value\n",
        "  age: Optional[int]=None # Setting Optional\n",
        "\n",
        "new_student={'age':21}\n",
        "student=Student(**new_student)\n",
        "print(student)\n",
        "\n",
        "second_student={'name':'Vinayak'}\n",
        "student2=Student(**second_student)\n",
        "print(student2)"
      ],
      "metadata": {
        "colab": {
          "base_uri": "https://localhost:8080/"
        },
        "id": "iEhKXEijcDcl",
        "outputId": "8db7c47c-d9e4-43cb-be42-f3de8424701d"
      },
      "execution_count": 13,
      "outputs": [
        {
          "output_type": "stream",
          "name": "stdout",
          "text": [
            "name='Sarthak' age=21\n",
            "name='Vinayak' age=None\n"
          ]
        }
      ]
    },
    {
      "cell_type": "code",
      "source": [
        "from typing import Optional\n",
        "from pydantic import BaseModel\n",
        "class Student(BaseModel):\n",
        "  name:str ='Sarthak' # setting default value\n",
        "  age: Optional[int]=None # Setting Optional\n",
        "\n",
        "new_student={'age':'21'}\n",
        "student=Student(**new_student)\n",
        "print(student)\n",
        "print(student.age)\n",
        "second_student={'name':'Vinayak'}\n",
        "student2=Student(**second_student)\n",
        "print(student2)"
      ],
      "metadata": {
        "colab": {
          "base_uri": "https://localhost:8080/"
        },
        "id": "-i8u4WvhfzP0",
        "outputId": "629be431-1fec-400b-cc43-a00ee7067a09"
      },
      "execution_count": 17,
      "outputs": [
        {
          "output_type": "stream",
          "name": "stdout",
          "text": [
            "name='Sarthak' age=21\n",
            "21\n",
            "name='Vinayak' age=None\n"
          ]
        }
      ]
    },
    {
      "cell_type": "markdown",
      "source": [
        "Field"
      ],
      "metadata": {
        "id": "b8J0V7nTjrBC"
      }
    },
    {
      "cell_type": "code",
      "source": [
        "from pydantic import BaseModel,Field\n",
        "class Student(BaseModel):\n",
        "  name:str\n",
        "  cpga:float=Field(gt=0,lt=10,default=5,description='Tells the cpga of student')\n",
        "\n",
        "new_student={'name':'Vinayak','cgpa':6}\n",
        "#new_student={'name':'Vinayak','cgpa':11}\n",
        "student=Student(**new_student)\n",
        "print(student)\n",
        "\n"
      ],
      "metadata": {
        "colab": {
          "base_uri": "https://localhost:8080/"
        },
        "id": "I6GWQy0yjsfz",
        "outputId": "f9bc9f3b-92cd-4aee-980a-b1f5afffdeb1"
      },
      "execution_count": 25,
      "outputs": [
        {
          "output_type": "stream",
          "name": "stdout",
          "text": [
            "name='Vinayak' cpga=5\n"
          ]
        }
      ]
    },
    {
      "cell_type": "markdown",
      "source": [
        "Converting Response to Json"
      ],
      "metadata": {
        "id": "bozmZxkqkxzg"
      }
    },
    {
      "cell_type": "code",
      "source": [
        "json_result=student.model_dump_json()"
      ],
      "metadata": {
        "id": "q1buZF5Ok0ov"
      },
      "execution_count": 26,
      "outputs": []
    },
    {
      "cell_type": "code",
      "source": [
        "json_result"
      ],
      "metadata": {
        "colab": {
          "base_uri": "https://localhost:8080/",
          "height": 35
        },
        "id": "JnLNKLCGk53q",
        "outputId": "c08c31a2-4fba-4076-80c1-3388beb4f5eb"
      },
      "execution_count": 27,
      "outputs": [
        {
          "output_type": "execute_result",
          "data": {
            "text/plain": [
              "'{\"name\":\"Vinayak\",\"cpga\":5.0}'"
            ],
            "application/vnd.google.colaboratory.intrinsic+json": {
              "type": "string"
            }
          },
          "metadata": {},
          "execution_count": 27
        }
      ]
    }
  ]
}