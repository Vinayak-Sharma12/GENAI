{
  "nbformat": 4,
  "nbformat_minor": 0,
  "metadata": {
    "colab": {
      "provenance": [],
      "authorship_tag": "ABX9TyONcWfTsmNe9ECjcPSTsoXq",
      "include_colab_link": true
    },
    "kernelspec": {
      "name": "python3",
      "display_name": "Python 3"
    },
    "language_info": {
      "name": "python"
    }
  },
  "cells": [
    {
      "cell_type": "markdown",
      "metadata": {
        "id": "view-in-github",
        "colab_type": "text"
      },
      "source": [
        "<a href=\"https://colab.research.google.com/github/Vinayak-Sharma12/GENAI/blob/main/Xxiii_DocumentLoaderForComplexPDF(Unstructured).ipynb\" target=\"_parent\"><img src=\"https://colab.research.google.com/assets/colab-badge.svg\" alt=\"Open In Colab\"/></a>"
      ]
    },
    {
      "cell_type": "markdown",
      "source": [
        "PDF Link -> https://github.com/chinnovinosoft/YouTube_Explain/blob/main/LangChain/data/layout-parser-paper.pdf"
      ],
      "metadata": {
        "id": "NCxarGQ2e-Sb"
      }
    },
    {
      "cell_type": "markdown",
      "source": [
        "**USE WHEN YOU PDF IS UNSTRUCTURED AND CONTAIN TABLES,IMAGES**"
      ],
      "metadata": {
        "id": "gT67fo5SI5JR"
      }
    },
    {
      "cell_type": "code",
      "source": [
        "!pip install langchain_unstructured"
      ],
      "metadata": {
        "colab": {
          "base_uri": "https://localhost:8080/"
        },
        "id": "N9u_O8YPJvjH",
        "outputId": "465a8335-13aa-40ab-e252-304b2bd81979"
      },
      "execution_count": 1,
      "outputs": [
        {
          "output_type": "stream",
          "name": "stdout",
          "text": [
            "Collecting langchain_unstructured\n",
            "  Downloading langchain_unstructured-0.1.6-py3-none-any.whl.metadata (3.3 kB)\n",
            "Requirement already satisfied: langchain-core<0.4.0,>=0.3.6 in /usr/local/lib/python3.11/dist-packages (from langchain_unstructured) (0.3.51)\n",
            "Collecting onnxruntime<=1.19.2,>=1.17.0 (from langchain_unstructured)\n",
            "  Downloading onnxruntime-1.19.2-cp311-cp311-manylinux_2_27_x86_64.manylinux_2_28_x86_64.whl.metadata (4.5 kB)\n",
            "Collecting unstructured-client<1,>=0.27.0 (from langchain_unstructured)\n",
            "  Downloading unstructured_client-0.32.3-py3-none-any.whl.metadata (23 kB)\n",
            "Requirement already satisfied: langsmith<0.4,>=0.1.125 in /usr/local/lib/python3.11/dist-packages (from langchain-core<0.4.0,>=0.3.6->langchain_unstructured) (0.3.28)\n",
            "Requirement already satisfied: tenacity!=8.4.0,<10.0.0,>=8.1.0 in /usr/local/lib/python3.11/dist-packages (from langchain-core<0.4.0,>=0.3.6->langchain_unstructured) (9.1.2)\n",
            "Requirement already satisfied: jsonpatch<2.0,>=1.33 in /usr/local/lib/python3.11/dist-packages (from langchain-core<0.4.0,>=0.3.6->langchain_unstructured) (1.33)\n",
            "Requirement already satisfied: PyYAML>=5.3 in /usr/local/lib/python3.11/dist-packages (from langchain-core<0.4.0,>=0.3.6->langchain_unstructured) (6.0.2)\n",
            "Requirement already satisfied: packaging<25,>=23.2 in /usr/local/lib/python3.11/dist-packages (from langchain-core<0.4.0,>=0.3.6->langchain_unstructured) (24.2)\n",
            "Requirement already satisfied: typing-extensions>=4.7 in /usr/local/lib/python3.11/dist-packages (from langchain-core<0.4.0,>=0.3.6->langchain_unstructured) (4.13.1)\n",
            "Requirement already satisfied: pydantic<3.0.0,>=2.5.2 in /usr/local/lib/python3.11/dist-packages (from langchain-core<0.4.0,>=0.3.6->langchain_unstructured) (2.11.3)\n",
            "Collecting coloredlogs (from onnxruntime<=1.19.2,>=1.17.0->langchain_unstructured)\n",
            "  Downloading coloredlogs-15.0.1-py2.py3-none-any.whl.metadata (12 kB)\n",
            "Requirement already satisfied: flatbuffers in /usr/local/lib/python3.11/dist-packages (from onnxruntime<=1.19.2,>=1.17.0->langchain_unstructured) (25.2.10)\n",
            "Requirement already satisfied: numpy>=1.21.6 in /usr/local/lib/python3.11/dist-packages (from onnxruntime<=1.19.2,>=1.17.0->langchain_unstructured) (2.0.2)\n",
            "Requirement already satisfied: protobuf in /usr/local/lib/python3.11/dist-packages (from onnxruntime<=1.19.2,>=1.17.0->langchain_unstructured) (5.29.4)\n",
            "Requirement already satisfied: sympy in /usr/local/lib/python3.11/dist-packages (from onnxruntime<=1.19.2,>=1.17.0->langchain_unstructured) (1.13.1)\n",
            "Collecting aiofiles>=24.1.0 (from unstructured-client<1,>=0.27.0->langchain_unstructured)\n",
            "  Downloading aiofiles-24.1.0-py3-none-any.whl.metadata (10 kB)\n",
            "Requirement already satisfied: cryptography>=3.1 in /usr/local/lib/python3.11/dist-packages (from unstructured-client<1,>=0.27.0->langchain_unstructured) (43.0.3)\n",
            "Collecting eval-type-backport>=0.2.0 (from unstructured-client<1,>=0.27.0->langchain_unstructured)\n",
            "  Downloading eval_type_backport-0.2.2-py3-none-any.whl.metadata (2.2 kB)\n",
            "Requirement already satisfied: httpx>=0.27.0 in /usr/local/lib/python3.11/dist-packages (from unstructured-client<1,>=0.27.0->langchain_unstructured) (0.28.1)\n",
            "Requirement already satisfied: nest-asyncio>=1.6.0 in /usr/local/lib/python3.11/dist-packages (from unstructured-client<1,>=0.27.0->langchain_unstructured) (1.6.0)\n",
            "Collecting pypdf>=4.0 (from unstructured-client<1,>=0.27.0->langchain_unstructured)\n",
            "  Downloading pypdf-5.4.0-py3-none-any.whl.metadata (7.3 kB)\n",
            "Requirement already satisfied: python-dateutil>=2.8.2 in /usr/local/lib/python3.11/dist-packages (from unstructured-client<1,>=0.27.0->langchain_unstructured) (2.8.2)\n",
            "Requirement already satisfied: requests-toolbelt>=1.0.0 in /usr/local/lib/python3.11/dist-packages (from unstructured-client<1,>=0.27.0->langchain_unstructured) (1.0.0)\n",
            "Requirement already satisfied: typing-inspection>=0.4.0 in /usr/local/lib/python3.11/dist-packages (from unstructured-client<1,>=0.27.0->langchain_unstructured) (0.4.0)\n",
            "Requirement already satisfied: cffi>=1.12 in /usr/local/lib/python3.11/dist-packages (from cryptography>=3.1->unstructured-client<1,>=0.27.0->langchain_unstructured) (1.17.1)\n",
            "Requirement already satisfied: anyio in /usr/local/lib/python3.11/dist-packages (from httpx>=0.27.0->unstructured-client<1,>=0.27.0->langchain_unstructured) (4.9.0)\n",
            "Requirement already satisfied: certifi in /usr/local/lib/python3.11/dist-packages (from httpx>=0.27.0->unstructured-client<1,>=0.27.0->langchain_unstructured) (2025.1.31)\n",
            "Requirement already satisfied: httpcore==1.* in /usr/local/lib/python3.11/dist-packages (from httpx>=0.27.0->unstructured-client<1,>=0.27.0->langchain_unstructured) (1.0.7)\n",
            "Requirement already satisfied: idna in /usr/local/lib/python3.11/dist-packages (from httpx>=0.27.0->unstructured-client<1,>=0.27.0->langchain_unstructured) (3.10)\n",
            "Requirement already satisfied: h11<0.15,>=0.13 in /usr/local/lib/python3.11/dist-packages (from httpcore==1.*->httpx>=0.27.0->unstructured-client<1,>=0.27.0->langchain_unstructured) (0.14.0)\n",
            "Requirement already satisfied: jsonpointer>=1.9 in /usr/local/lib/python3.11/dist-packages (from jsonpatch<2.0,>=1.33->langchain-core<0.4.0,>=0.3.6->langchain_unstructured) (3.0.0)\n",
            "Requirement already satisfied: orjson<4.0.0,>=3.9.14 in /usr/local/lib/python3.11/dist-packages (from langsmith<0.4,>=0.1.125->langchain-core<0.4.0,>=0.3.6->langchain_unstructured) (3.10.16)\n",
            "Requirement already satisfied: requests<3,>=2 in /usr/local/lib/python3.11/dist-packages (from langsmith<0.4,>=0.1.125->langchain-core<0.4.0,>=0.3.6->langchain_unstructured) (2.32.3)\n",
            "Requirement already satisfied: zstandard<0.24.0,>=0.23.0 in /usr/local/lib/python3.11/dist-packages (from langsmith<0.4,>=0.1.125->langchain-core<0.4.0,>=0.3.6->langchain_unstructured) (0.23.0)\n",
            "Requirement already satisfied: annotated-types>=0.6.0 in /usr/local/lib/python3.11/dist-packages (from pydantic<3.0.0,>=2.5.2->langchain-core<0.4.0,>=0.3.6->langchain_unstructured) (0.7.0)\n",
            "Requirement already satisfied: pydantic-core==2.33.1 in /usr/local/lib/python3.11/dist-packages (from pydantic<3.0.0,>=2.5.2->langchain-core<0.4.0,>=0.3.6->langchain_unstructured) (2.33.1)\n",
            "Requirement already satisfied: six>=1.5 in /usr/local/lib/python3.11/dist-packages (from python-dateutil>=2.8.2->unstructured-client<1,>=0.27.0->langchain_unstructured) (1.17.0)\n",
            "Collecting humanfriendly>=9.1 (from coloredlogs->onnxruntime<=1.19.2,>=1.17.0->langchain_unstructured)\n",
            "  Downloading humanfriendly-10.0-py2.py3-none-any.whl.metadata (9.2 kB)\n",
            "Requirement already satisfied: mpmath<1.4,>=1.1.0 in /usr/local/lib/python3.11/dist-packages (from sympy->onnxruntime<=1.19.2,>=1.17.0->langchain_unstructured) (1.3.0)\n",
            "Requirement already satisfied: pycparser in /usr/local/lib/python3.11/dist-packages (from cffi>=1.12->cryptography>=3.1->unstructured-client<1,>=0.27.0->langchain_unstructured) (2.22)\n",
            "Requirement already satisfied: charset-normalizer<4,>=2 in /usr/local/lib/python3.11/dist-packages (from requests<3,>=2->langsmith<0.4,>=0.1.125->langchain-core<0.4.0,>=0.3.6->langchain_unstructured) (3.4.1)\n",
            "Requirement already satisfied: urllib3<3,>=1.21.1 in /usr/local/lib/python3.11/dist-packages (from requests<3,>=2->langsmith<0.4,>=0.1.125->langchain-core<0.4.0,>=0.3.6->langchain_unstructured) (2.3.0)\n",
            "Requirement already satisfied: sniffio>=1.1 in /usr/local/lib/python3.11/dist-packages (from anyio->httpx>=0.27.0->unstructured-client<1,>=0.27.0->langchain_unstructured) (1.3.1)\n",
            "Downloading langchain_unstructured-0.1.6-py3-none-any.whl (7.0 kB)\n",
            "Downloading onnxruntime-1.19.2-cp311-cp311-manylinux_2_27_x86_64.manylinux_2_28_x86_64.whl (13.2 MB)\n",
            "\u001b[2K   \u001b[90m━━━━━━━━━━━━━━━━━━━━━━━━━━━━━━━━━━━━━━━━\u001b[0m \u001b[32m13.2/13.2 MB\u001b[0m \u001b[31m50.1 MB/s\u001b[0m eta \u001b[36m0:00:00\u001b[0m\n",
            "\u001b[?25hDownloading unstructured_client-0.32.3-py3-none-any.whl (180 kB)\n",
            "\u001b[2K   \u001b[90m━━━━━━━━━━━━━━━━━━━━━━━━━━━━━━━━━━━━━━━━\u001b[0m \u001b[32m180.6/180.6 kB\u001b[0m \u001b[31m9.8 MB/s\u001b[0m eta \u001b[36m0:00:00\u001b[0m\n",
            "\u001b[?25hDownloading aiofiles-24.1.0-py3-none-any.whl (15 kB)\n",
            "Downloading eval_type_backport-0.2.2-py3-none-any.whl (5.8 kB)\n",
            "Downloading pypdf-5.4.0-py3-none-any.whl (302 kB)\n",
            "\u001b[2K   \u001b[90m━━━━━━━━━━━━━━━━━━━━━━━━━━━━━━━━━━━━━━━━\u001b[0m \u001b[32m302.3/302.3 kB\u001b[0m \u001b[31m16.7 MB/s\u001b[0m eta \u001b[36m0:00:00\u001b[0m\n",
            "\u001b[?25hDownloading coloredlogs-15.0.1-py2.py3-none-any.whl (46 kB)\n",
            "\u001b[2K   \u001b[90m━━━━━━━━━━━━━━━━━━━━━━━━━━━━━━━━━━━━━━━━\u001b[0m \u001b[32m46.0/46.0 kB\u001b[0m \u001b[31m2.3 MB/s\u001b[0m eta \u001b[36m0:00:00\u001b[0m\n",
            "\u001b[?25hDownloading humanfriendly-10.0-py2.py3-none-any.whl (86 kB)\n",
            "\u001b[2K   \u001b[90m━━━━━━━━━━━━━━━━━━━━━━━━━━━━━━━━━━━━━━━━\u001b[0m \u001b[32m86.8/86.8 kB\u001b[0m \u001b[31m5.4 MB/s\u001b[0m eta \u001b[36m0:00:00\u001b[0m\n",
            "\u001b[?25hInstalling collected packages: pypdf, humanfriendly, eval-type-backport, aiofiles, coloredlogs, unstructured-client, onnxruntime, langchain_unstructured\n",
            "Successfully installed aiofiles-24.1.0 coloredlogs-15.0.1 eval-type-backport-0.2.2 humanfriendly-10.0 langchain_unstructured-0.1.6 onnxruntime-1.19.2 pypdf-5.4.0 unstructured-client-0.32.3\n"
          ]
        }
      ]
    },
    {
      "cell_type": "code",
      "source": [
        "from langchain_unstructured import UnstructuredLoader"
      ],
      "metadata": {
        "id": "YTjrgXS2JXB4"
      },
      "execution_count": 2,
      "outputs": []
    },
    {
      "cell_type": "code",
      "source": [
        "loader=UnstructuredLoader(\n",
        "        file_path='/content/layout-parser-paper.pdf',\n",
        "        api_key='657mvE6v5U9au0zgATYqEs3ZVnE7Yp',\n",
        "        partition_via_api=True,\n",
        "        strategy='hi_res',\n",
        "        coordinates=True\n",
        ")"
      ],
      "metadata": {
        "id": "UY_EKNFtJ_NO"
      },
      "execution_count": 3,
      "outputs": []
    },
    {
      "cell_type": "code",
      "source": [
        "docs = loader.load()"
      ],
      "metadata": {
        "id": "4n8-bi24jru6"
      },
      "execution_count": 4,
      "outputs": []
    },
    {
      "cell_type": "markdown",
      "source": [
        "## **NOTE:**\n",
        "\n",
        "\n",
        "      Check what things are there in Meta Data (Important)\n",
        "\n",
        "\n",
        "\n",
        "\n",
        "      In UnSTRUCTURED Loader Metadata  WE CAN GET WHETHER THIS PARTICULAR TEXT IS IN CATEGORY TITLE,IMAGE,NORMAL TEXT\n",
        "\n",
        "\n",
        "\n",
        "\n"
      ],
      "metadata": {
        "id": "VEqgJT04b9ib"
      }
    },
    {
      "cell_type": "markdown",
      "source": [
        "    By default (when mode=\"elements\"), the loader divides the PDF based on:\n",
        "                 \n",
        "                 \n",
        "                  Logical layout elements, such as:\n",
        "\n",
        "                  Paragraphs\n",
        "\n",
        "                  Headings\n",
        "\n",
        "                  Tables\n",
        "\n",
        "                  List items\n",
        "\n",
        "                  Titles\n",
        "\n",
        "                  Narrative text\n",
        "\n",
        "                  Page breaks\n"
      ],
      "metadata": {
        "id": "mqi_YvoTdhX-"
      }
    },
    {
      "cell_type": "code",
      "source": [
        "len(docs) #Total Pages=16"
      ],
      "metadata": {
        "colab": {
          "base_uri": "https://localhost:8080/"
        },
        "id": "RiwDaQZqcPH_",
        "outputId": "e36fc28b-053f-4c91-d50d-e3d3dcd06634"
      },
      "execution_count": 5,
      "outputs": [
        {
          "output_type": "execute_result",
          "data": {
            "text/plain": [
              "187"
            ]
          },
          "metadata": {},
          "execution_count": 5
        }
      ]
    },
    {
      "cell_type": "code",
      "source": [
        "docs[0].metadata"
      ],
      "metadata": {
        "colab": {
          "base_uri": "https://localhost:8080/"
        },
        "id": "khqt9bmqjGh6",
        "outputId": "53161641-e9ad-4159-e336-04eabf2aaeff"
      },
      "execution_count": 6,
      "outputs": [
        {
          "output_type": "execute_result",
          "data": {
            "text/plain": [
              "{'source': '/content/layout-parser-paper.pdf',\n",
              " 'coordinates': {'points': [[436.5199890136719, 314.07989501953125],\n",
              "   [436.5199890136719, 411.07293701171875],\n",
              "   [1271.4886007777775, 411.07293701171875],\n",
              "   [1271.4886007777775, 314.07989501953125]],\n",
              "  'system': 'PixelSpace',\n",
              "  'layout_width': 1700,\n",
              "  'layout_height': 2200},\n",
              " 'filetype': 'application/pdf',\n",
              " 'languages': ['eng'],\n",
              " 'page_number': 1,\n",
              " 'filename': 'layout-parser-paper.pdf',\n",
              " 'category': 'Title',\n",
              " 'element_id': 'b7f58c2fd9c15949a55a62eb84e39575'}"
            ]
          },
          "metadata": {},
          "execution_count": 6
        }
      ]
    },
    {
      "cell_type": "code",
      "source": [
        "docs[0].page_content"
      ],
      "metadata": {
        "colab": {
          "base_uri": "https://localhost:8080/",
          "height": 35
        },
        "id": "YeHI3l8gkzg5",
        "outputId": "b4dac791-0856-4373-9678-765ccc2fddf2"
      },
      "execution_count": 7,
      "outputs": [
        {
          "output_type": "execute_result",
          "data": {
            "text/plain": [
              "'LayoutParser: A Uniﬁed Toolkit for Deep Learning Based Document Image Analysis'"
            ],
            "application/vnd.google.colaboratory.intrinsic+json": {
              "type": "string"
            }
          },
          "metadata": {},
          "execution_count": 7
        }
      ]
    },
    {
      "cell_type": "code",
      "source": [
        "docs[0].metadata"
      ],
      "metadata": {
        "id": "Th9V92eQlUKw",
        "outputId": "519c737b-7489-44be-eea8-594d84f50e4d",
        "colab": {
          "base_uri": "https://localhost:8080/"
        }
      },
      "execution_count": 8,
      "outputs": [
        {
          "output_type": "execute_result",
          "data": {
            "text/plain": [
              "{'source': '/content/layout-parser-paper.pdf',\n",
              " 'coordinates': {'points': [[436.5199890136719, 314.07989501953125],\n",
              "   [436.5199890136719, 411.07293701171875],\n",
              "   [1271.4886007777775, 411.07293701171875],\n",
              "   [1271.4886007777775, 314.07989501953125]],\n",
              "  'system': 'PixelSpace',\n",
              "  'layout_width': 1700,\n",
              "  'layout_height': 2200},\n",
              " 'filetype': 'application/pdf',\n",
              " 'languages': ['eng'],\n",
              " 'page_number': 1,\n",
              " 'filename': 'layout-parser-paper.pdf',\n",
              " 'category': 'Title',\n",
              " 'element_id': 'b7f58c2fd9c15949a55a62eb84e39575'}"
            ]
          },
          "metadata": {},
          "execution_count": 8
        }
      ]
    },
    {
      "cell_type": "code",
      "source": [
        "docs[1].page_content"
      ],
      "metadata": {
        "colab": {
          "base_uri": "https://localhost:8080/",
          "height": 35
        },
        "id": "U_gEPSCxRuID",
        "outputId": "efbabe98-b5a3-46cb-b6c7-31aaee79b4f8"
      },
      "execution_count": 9,
      "outputs": [
        {
          "output_type": "execute_result",
          "data": {
            "text/plain": [
              "'1 2 0 2 n u J 1 2 ] V C . s c [ 2 v 8 4 3 5 1 . 3 0 1 2 : v i X r'"
            ],
            "application/vnd.google.colaboratory.intrinsic+json": {
              "type": "string"
            }
          },
          "metadata": {},
          "execution_count": 9
        }
      ]
    },
    {
      "cell_type": "code",
      "source": [
        "docs[1].metadata"
      ],
      "metadata": {
        "colab": {
          "base_uri": "https://localhost:8080/"
        },
        "id": "PfJWW4lCR00a",
        "outputId": "4a08c636-2fef-40e2-9fa2-f113723b0500"
      },
      "execution_count": 10,
      "outputs": [
        {
          "output_type": "execute_result",
          "data": {
            "text/plain": [
              "{'source': '/content/layout-parser-paper.pdf',\n",
              " 'coordinates': {'points': [[45.388888888888886, 589.9458618164062],\n",
              "   [45.388888888888886, 1542.93359375],\n",
              "   [100.94444444444446, 1542.93359375],\n",
              "   [100.94444444444446, 589.9458618164062]],\n",
              "  'system': 'PixelSpace',\n",
              "  'layout_width': 1700,\n",
              "  'layout_height': 2200},\n",
              " 'filetype': 'application/pdf',\n",
              " 'languages': ['eng'],\n",
              " 'page_number': 1,\n",
              " 'parent_id': 'b7f58c2fd9c15949a55a62eb84e39575',\n",
              " 'filename': 'layout-parser-paper.pdf',\n",
              " 'category': 'NarrativeText',\n",
              " 'element_id': 'af6eb0f727c7b91679dd32d189ae32ed'}"
            ]
          },
          "metadata": {},
          "execution_count": 10
        }
      ]
    },
    {
      "cell_type": "code",
      "source": [
        "docs[5].page_content"
      ],
      "metadata": {
        "colab": {
          "base_uri": "https://localhost:8080/",
          "height": 35
        },
        "id": "nQAsO-8CR52j",
        "outputId": "abd392d4-2e21-445f-aa95-e6c4e28f3294"
      },
      "execution_count": 11,
      "outputs": [
        {
          "output_type": "execute_result",
          "data": {
            "text/plain": [
              "'2 Brown University ruochen zhang@brown.edu'"
            ],
            "application/vnd.google.colaboratory.intrinsic+json": {
              "type": "string"
            }
          },
          "metadata": {},
          "execution_count": 11
        }
      ]
    },
    {
      "cell_type": "code",
      "source": [
        "docs[5].metadata"
      ],
      "metadata": {
        "colab": {
          "base_uri": "https://localhost:8080/"
        },
        "id": "z0ITddpdR_Ui",
        "outputId": "6fcc0446-02fc-46c6-b00e-e07eab9d53ea"
      },
      "execution_count": 12,
      "outputs": [
        {
          "output_type": "execute_result",
          "data": {
            "text/plain": [
              "{'source': '/content/layout-parser-paper.pdf',\n",
              " 'coordinates': {'points': [[706.1194444444443, 623.583484444444],\n",
              "   [706.1194444444443, 684.1622924804688],\n",
              "   [1003.203888888889, 684.1622924804688],\n",
              "   [1003.203888888889, 623.583484444444]],\n",
              "  'system': 'PixelSpace',\n",
              "  'layout_width': 1700,\n",
              "  'layout_height': 2200},\n",
              " 'filetype': 'application/pdf',\n",
              " 'languages': ['eng'],\n",
              " 'page_number': 1,\n",
              " 'parent_id': '693da13bf21981fa8e5afdd9a1eb42a2',\n",
              " 'filename': 'layout-parser-paper.pdf',\n",
              " 'category': 'NarrativeText',\n",
              " 'element_id': 'f4e05380dfb381aaa67b1d345c130503'}"
            ]
          },
          "metadata": {},
          "execution_count": 12
        }
      ]
    },
    {
      "cell_type": "markdown",
      "source": [
        "### **To Access a Particular Page**"
      ],
      "metadata": {
        "id": "xVdDruDaSkNq"
      }
    },
    {
      "cell_type": "code",
      "source": [
        "first_page_docs = [doc for doc in docs if doc.metadata.get(\"page_number\") == 1]\n",
        "\n",
        "for doc in first_page_docs:\n",
        "    print(doc.page_content)"
      ],
      "metadata": {
        "colab": {
          "base_uri": "https://localhost:8080/"
        },
        "id": "LboDWCM8SeQu",
        "outputId": "8282b529-4f6e-4da3-a10b-ae7d120da16b"
      },
      "execution_count": 13,
      "outputs": [
        {
          "output_type": "stream",
          "name": "stdout",
          "text": [
            "LayoutParser: A Uniﬁed Toolkit for Deep Learning Based Document Image Analysis\n",
            "1 2 0 2 n u J 1 2 ] V C . s c [ 2 v 8 4 3 5 1 . 3 0 1 2 : v i X r\n",
            "a\n",
            "Zejiang Shen® (<), Ruochen Zhang?, Melissa Dell®, Benjamin Charles Germain Lee?, Jacob Carlson®, and Weining Li®\n",
            "1 Allen Institute for AI shannons@allenai.org\n",
            "2 Brown University ruochen zhang@brown.edu\n",
            "3 Harvard University {melissadell,jacob carlson}@fas.harvard.edu\n",
            "4 University of Washington bcgl@cs.washington.edu\n",
            "5 University of Waterloo w422li@uwaterloo.ca\n",
            "Abstract. Recent advances in document image analysis (DIA) have been primarily driven by the application of neural networks. Ideally, research outcomes could be easily deployed in production and extended for further investigation. However, various factors like loosely organized codebases and sophisticated model conﬁgurations complicate the easy reuse of im- portant innovations by a wide audience. Though there have been on-going eﬀorts to improve reusability and simplify deep learning (DL) model development in disciplines like natural language processing and computer vision, none of them are optimized for challenges in the domain of DIA. This represents a major gap in the existing toolkit, as DIA is central to academic research across a wide range of disciplines in the social sciences and humanities. This paper introduces LayoutParser, an open-source library for streamlining the usage of DL in DIA research and applica- tions. The core LayoutParser library comes with a set of simple and intuitive interfaces for applying and customizing DL models for layout de- tection, character recognition, and many other document processing tasks. To promote extensibility, LayoutParser also incorporates a community platform for sharing both pre-trained models and full document digiti- zation pipelines. We demonstrate that LayoutParser is helpful for both lightweight and large-scale digitization pipelines in real-word use cases. The library is publicly available at https://layout-parser.github.io.\n",
            "Keywords: Document Image Analysis · Deep Learning · Layout Analysis · Character Recognition · Open Source library · Toolkit.\n",
            "1 Introduction\n",
            "Deep Learning(DL)-based approaches are the state-of-the-art for a wide range of document image analysis (DIA) tasks including document image classiﬁcation [11,\n"
          ]
        }
      ]
    },
    {
      "cell_type": "markdown",
      "source": [
        "**ACCESSING TABLES FROM PARITCULAR PAGE IN  DOCS**"
      ],
      "metadata": {
        "id": "_JmTSci5TGSp"
      }
    },
    {
      "cell_type": "code",
      "source": [
        "page5_data = [\n",
        "    doc\n",
        "    for doc in docs\n",
        "    if doc.metadata.get(\"page_number\") == 5 and doc.metadata.get(\"category\") == \"Table\"\n",
        "]"
      ],
      "metadata": {
        "id": "ETlQOtCfTJqB"
      },
      "execution_count": 14,
      "outputs": []
    },
    {
      "cell_type": "code",
      "source": [
        "page5_data"
      ],
      "metadata": {
        "colab": {
          "base_uri": "https://localhost:8080/"
        },
        "id": "t0dtgeRuUE0S",
        "outputId": "97d6b476-8689-46e7-b064-92ba1568c446"
      },
      "execution_count": 15,
      "outputs": [
        {
          "output_type": "execute_result",
          "data": {
            "text/plain": [
              "[Document(metadata={'source': '/content/layout-parser-paper.pdf', 'coordinates': {'points': [[380.18585205078125, 381.6856994628906], [380.18585205078125, 569.8789672851562], [1334.3929443359375, 569.8789672851562], [1334.3929443359375, 381.6856994628906]], 'system': 'PixelSpace', 'layout_width': 1700, 'layout_height': 2200}, 'links': [{'text': '[ 38 ]', 'url': 'cite.zhong2019publaynet', 'start_index': 10}, {'text': '[ 3 ]', 'url': 'cite.antonacopoulos2009realistic', 'start_index': 21}, {'text': '[ 17 ]', 'url': 'cite.newspaper_navigator_dataset', 'start_index': 35}, {'text': '[ 18 ]', 'url': 'cite.li2019tablebank', 'start_index': 50}, {'text': '[ 31 ]', 'url': 'cite.shen2020large', 'start_index': 65}], 'text_as_html': '<table><thead><tr><th>Dataset</th><th>Base Md1</th><th>Large Model</th><th>| Notes</th></tr></thead><tbody><tr><td>PubLayNet [38]</td><td>F/M</td><td>M</td><td>Layouts of modern scientific documents</td></tr><tr><td>PRImA [3]</td><td>M</td><td>-</td><td>Layouts of scanned modern magazines and scientific reports</td></tr><tr><td>Newspaper</td><td>F</td><td>-</td><td>Layouts of scanned US newspapers from the 20th century</td></tr><tr><td>TableBank</td><td>F</td><td>F</td><td>Table region on modern scientific and business document</td></tr><tr><td>HJDataset</td><td>F/M</td><td></td><td>Layouts of history Japanese documents</td></tr></tbody></table>', 'filetype': 'application/pdf', 'languages': ['eng'], 'page_number': 5, 'parent_id': 'bb9603875915cf44e225bf8572b0d4be', 'filename': 'layout-parser-paper.pdf', 'category': 'Table', 'element_id': 'a8d01a8d75ba1b1c25106fd51ffb4abc'}, page_content='Dataset Base Model1 Large Model Notes PubLayNet [38] F / M M Layouts of modern scientiﬁc documents PRImA [3] M - Layouts of scanned modern magazines and scientiﬁc reports Newspaper [17] F - Layouts of scanned US newspapers from the 20th century TableBank [18] F F Table region on modern scientiﬁc and business document HJDataset [31] F / M - Layouts of history Japanese documents')]"
            ]
          },
          "metadata": {},
          "execution_count": 15
        }
      ]
    },
    {
      "cell_type": "code",
      "source": [
        "page5_data[0].page_content"
      ],
      "metadata": {
        "colab": {
          "base_uri": "https://localhost:8080/",
          "height": 89
        },
        "id": "F07jddaGT0V3",
        "outputId": "748aec30-23c6-4789-ce44-afd9763b62ff"
      },
      "execution_count": 16,
      "outputs": [
        {
          "output_type": "execute_result",
          "data": {
            "text/plain": [
              "'Dataset Base Model1 Large Model Notes PubLayNet [38] F / M M Layouts of modern scientiﬁc documents PRImA [3] M - Layouts of scanned modern magazines and scientiﬁc reports Newspaper [17] F - Layouts of scanned US newspapers from the 20th century TableBank [18] F F Table region on modern scientiﬁc and business document HJDataset [31] F / M - Layouts of history Japanese documents'"
            ],
            "application/vnd.google.colaboratory.intrinsic+json": {
              "type": "string"
            }
          },
          "metadata": {},
          "execution_count": 16
        }
      ]
    },
    {
      "cell_type": "code",
      "source": [
        "page5_data[0].metadata"
      ],
      "metadata": {
        "colab": {
          "base_uri": "https://localhost:8080/"
        },
        "id": "S-hfXNpaULO9",
        "outputId": "fa7d2ffe-0079-4bd5-99ed-d421fcc5bac3"
      },
      "execution_count": 17,
      "outputs": [
        {
          "output_type": "execute_result",
          "data": {
            "text/plain": [
              "{'source': '/content/layout-parser-paper.pdf',\n",
              " 'coordinates': {'points': [[380.18585205078125, 381.6856994628906],\n",
              "   [380.18585205078125, 569.8789672851562],\n",
              "   [1334.3929443359375, 569.8789672851562],\n",
              "   [1334.3929443359375, 381.6856994628906]],\n",
              "  'system': 'PixelSpace',\n",
              "  'layout_width': 1700,\n",
              "  'layout_height': 2200},\n",
              " 'links': [{'text': '[ 38 ]',\n",
              "   'url': 'cite.zhong2019publaynet',\n",
              "   'start_index': 10},\n",
              "  {'text': '[ 3 ]',\n",
              "   'url': 'cite.antonacopoulos2009realistic',\n",
              "   'start_index': 21},\n",
              "  {'text': '[ 17 ]',\n",
              "   'url': 'cite.newspaper_navigator_dataset',\n",
              "   'start_index': 35},\n",
              "  {'text': '[ 18 ]', 'url': 'cite.li2019tablebank', 'start_index': 50},\n",
              "  {'text': '[ 31 ]', 'url': 'cite.shen2020large', 'start_index': 65}],\n",
              " 'text_as_html': '<table><thead><tr><th>Dataset</th><th>Base Md1</th><th>Large Model</th><th>| Notes</th></tr></thead><tbody><tr><td>PubLayNet [38]</td><td>F/M</td><td>M</td><td>Layouts of modern scientific documents</td></tr><tr><td>PRImA [3]</td><td>M</td><td>-</td><td>Layouts of scanned modern magazines and scientific reports</td></tr><tr><td>Newspaper</td><td>F</td><td>-</td><td>Layouts of scanned US newspapers from the 20th century</td></tr><tr><td>TableBank</td><td>F</td><td>F</td><td>Table region on modern scientific and business document</td></tr><tr><td>HJDataset</td><td>F/M</td><td></td><td>Layouts of history Japanese documents</td></tr></tbody></table>',\n",
              " 'filetype': 'application/pdf',\n",
              " 'languages': ['eng'],\n",
              " 'page_number': 5,\n",
              " 'parent_id': 'bb9603875915cf44e225bf8572b0d4be',\n",
              " 'filename': 'layout-parser-paper.pdf',\n",
              " 'category': 'Table',\n",
              " 'element_id': 'a8d01a8d75ba1b1c25106fd51ffb4abc'}"
            ]
          },
          "metadata": {},
          "execution_count": 17
        }
      ]
    },
    {
      "cell_type": "code",
      "source": [
        "from IPython.display import HTML\n",
        "display(HTML(page5_data[0].metadata[\"text_as_html\"]))"
      ],
      "metadata": {
        "colab": {
          "base_uri": "https://localhost:8080/",
          "height": 147
        },
        "id": "PY6WX5g1UUDS",
        "outputId": "6b44b180-c4b4-4f69-a776-60bc7aecae89"
      },
      "execution_count": 27,
      "outputs": [
        {
          "output_type": "display_data",
          "data": {
            "text/plain": [
              "<IPython.core.display.HTML object>"
            ],
            "text/html": [
              "<table><thead><tr><th>Dataset</th><th>Base Md1</th><th>Large Model</th><th>| Notes</th></tr></thead><tbody><tr><td>PubLayNet [38]</td><td>F/M</td><td>M</td><td>Layouts of modern scientific documents</td></tr><tr><td>PRImA [3]</td><td>M</td><td>-</td><td>Layouts of scanned modern magazines and scientific reports</td></tr><tr><td>Newspaper</td><td>F</td><td>-</td><td>Layouts of scanned US newspapers from the 20th century</td></tr><tr><td>TableBank</td><td>F</td><td>F</td><td>Table region on modern scientific and business document</td></tr><tr><td>HJDataset</td><td>F/M</td><td></td><td>Layouts of history Japanese documents</td></tr></tbody></table>"
            ]
          },
          "metadata": {}
        }
      ]
    },
    {
      "cell_type": "markdown",
      "source": [
        "**ACCESSING THE METADATA OF ALL THE TABLE AT PAGE NUMBER 5**"
      ],
      "metadata": {
        "id": "9sZg3PMlDJ5e"
      }
    },
    {
      "cell_type": "code",
      "source": [
        "segments = [\n",
        "    doc.metadata\n",
        "    for doc in docs\n",
        "    if doc.metadata.get(\"page_number\") == 5 and doc.metadata.get(\"category\") == \"Table\"\n",
        "]"
      ],
      "metadata": {
        "id": "hrie1v_jC-zm"
      },
      "execution_count": 22,
      "outputs": []
    },
    {
      "cell_type": "code",
      "source": [
        "segments[0]"
      ],
      "metadata": {
        "colab": {
          "base_uri": "https://localhost:8080/"
        },
        "id": "CI4FJi5vDAnw",
        "outputId": "1db6c0c9-bb23-4e23-c6d0-99e002271e0d"
      },
      "execution_count": 24,
      "outputs": [
        {
          "output_type": "execute_result",
          "data": {
            "text/plain": [
              "{'source': '/content/layout-parser-paper.pdf',\n",
              " 'coordinates': {'points': [[380.18585205078125, 381.6856994628906],\n",
              "   [380.18585205078125, 569.8789672851562],\n",
              "   [1334.3929443359375, 569.8789672851562],\n",
              "   [1334.3929443359375, 381.6856994628906]],\n",
              "  'system': 'PixelSpace',\n",
              "  'layout_width': 1700,\n",
              "  'layout_height': 2200},\n",
              " 'links': [{'text': '[ 38 ]',\n",
              "   'url': 'cite.zhong2019publaynet',\n",
              "   'start_index': 10},\n",
              "  {'text': '[ 3 ]',\n",
              "   'url': 'cite.antonacopoulos2009realistic',\n",
              "   'start_index': 21},\n",
              "  {'text': '[ 17 ]',\n",
              "   'url': 'cite.newspaper_navigator_dataset',\n",
              "   'start_index': 35},\n",
              "  {'text': '[ 18 ]', 'url': 'cite.li2019tablebank', 'start_index': 50},\n",
              "  {'text': '[ 31 ]', 'url': 'cite.shen2020large', 'start_index': 65}],\n",
              " 'text_as_html': '<table><thead><tr><th>Dataset</th><th>Base Md1</th><th>Large Model</th><th>| Notes</th></tr></thead><tbody><tr><td>PubLayNet [38]</td><td>F/M</td><td>M</td><td>Layouts of modern scientific documents</td></tr><tr><td>PRImA [3]</td><td>M</td><td>-</td><td>Layouts of scanned modern magazines and scientific reports</td></tr><tr><td>Newspaper</td><td>F</td><td>-</td><td>Layouts of scanned US newspapers from the 20th century</td></tr><tr><td>TableBank</td><td>F</td><td>F</td><td>Table region on modern scientific and business document</td></tr><tr><td>HJDataset</td><td>F/M</td><td></td><td>Layouts of history Japanese documents</td></tr></tbody></table>',\n",
              " 'filetype': 'application/pdf',\n",
              " 'languages': ['eng'],\n",
              " 'page_number': 5,\n",
              " 'parent_id': 'bb9603875915cf44e225bf8572b0d4be',\n",
              " 'filename': 'layout-parser-paper.pdf',\n",
              " 'category': 'Table',\n",
              " 'element_id': 'a8d01a8d75ba1b1c25106fd51ffb4abc'}"
            ]
          },
          "metadata": {},
          "execution_count": 24
        }
      ]
    },
    {
      "cell_type": "code",
      "source": [
        "from IPython.display import HTML, display\n",
        "display(HTML(segments[0][\"text_as_html\"]))"
      ],
      "metadata": {
        "colab": {
          "base_uri": "https://localhost:8080/",
          "height": 147
        },
        "id": "7l4Qjk8fDRU0",
        "outputId": "f000bbe9-1f93-42ec-a95c-2aea2ed8da60"
      },
      "execution_count": 25,
      "outputs": [
        {
          "output_type": "display_data",
          "data": {
            "text/plain": [
              "<IPython.core.display.HTML object>"
            ],
            "text/html": [
              "<table><thead><tr><th>Dataset</th><th>Base Md1</th><th>Large Model</th><th>| Notes</th></tr></thead><tbody><tr><td>PubLayNet [38]</td><td>F/M</td><td>M</td><td>Layouts of modern scientific documents</td></tr><tr><td>PRImA [3]</td><td>M</td><td>-</td><td>Layouts of scanned modern magazines and scientific reports</td></tr><tr><td>Newspaper</td><td>F</td><td>-</td><td>Layouts of scanned US newspapers from the 20th century</td></tr><tr><td>TableBank</td><td>F</td><td>F</td><td>Table region on modern scientific and business document</td></tr><tr><td>HJDataset</td><td>F/M</td><td></td><td>Layouts of history Japanese documents</td></tr></tbody></table>"
            ]
          },
          "metadata": {}
        }
      ]
    },
    {
      "cell_type": "markdown",
      "source": [
        "### **EXTRACTING TEXT FROM SPECIFIC SECTION**"
      ],
      "metadata": {
        "id": "A5gh8-zfENFj"
      }
    },
    {
      "cell_type": "code",
      "source": [
        "conclusion_docs = []\n",
        "parent_id = -1\n",
        "for doc in docs:\n",
        "    if doc.metadata[\"category\"] == \"Title\" and \"Conclusion\" in doc.page_content:\n",
        "        parent_id = doc.metadata[\"element_id\"]\n",
        "    if doc.metadata.get(\"parent_id\") == parent_id:\n",
        "        conclusion_docs.append(doc)"
      ],
      "metadata": {
        "id": "cXjDfpCCEQjq"
      },
      "execution_count": 28,
      "outputs": []
    },
    {
      "cell_type": "code",
      "source": [
        "conclusion_docs"
      ],
      "metadata": {
        "colab": {
          "base_uri": "https://localhost:8080/"
        },
        "id": "C1sRrdVIEa-V",
        "outputId": "216301e8-3058-435b-b357-feaa2b6b4b4c"
      },
      "execution_count": 31,
      "outputs": [
        {
          "output_type": "execute_result",
          "data": {
            "text/plain": [
              "[Document(metadata={'source': '/content/layout-parser-paper.pdf', 'coordinates': {'points': [[372.977783203125, 399.1314697265625], [372.977783203125, 730.6536254882812], [1343.2889404296875, 730.6536254882812], [1343.2889404296875, 399.1314697265625]], 'system': 'PixelSpace', 'layout_width': 1700, 'layout_height': 2200}, 'links': [{'text': '37', 'url': 'cite.xu2019layoutlm', 'start_index': 709}, {'text': '36', 'url': 'cite.xu2020layoutlmv2', 'start_index': 713}, {'text': '9', 'url': 'cite.garncarek2020lambert', 'start_index': 717}], 'filetype': 'application/pdf', 'languages': ['eng'], 'page_number': 14, 'parent_id': '2d665682ba83d4a2ef20e6084f9f50db', 'filename': 'layout-parser-paper.pdf', 'category': 'NarrativeText', 'element_id': '6a1bfe38f685ad357fff728c1a9ae7ba'}, page_content='LayoutParser provides a comprehensive toolkit for deep learning-based document image analysis. The oﬀ-the-shelf library is easy to install, and can be used to build ﬂexible and accurate pipelines for processing documents with complicated structures. It also supports high-level customization and enables easy labeling and training of DL models on unique document image datasets. The LayoutParser community platform facilitates sharing DL models and DIA pipelines, inviting discussion and promoting code reproducibility and reusability. The LayoutParser team is committed to keeping the library updated continuously and bringing the most recent advances in DL-based DIA, such as multi-modal document modeling [37, 36, 9] (an upcoming priority), to a diverse audience of end-users.'),\n",
              " Document(metadata={'source': '/content/layout-parser-paper.pdf', 'coordinates': {'points': [[372.24920654296875, 784.898681640625], [372.24920654296875, 918.6974487304688], [1343.6966552734375, 918.6974487304688], [1343.6966552734375, 784.898681640625]], 'system': 'PixelSpace', 'layout_width': 1700, 'layout_height': 2200}, 'filetype': 'application/pdf', 'languages': ['eng'], 'page_number': 14, 'parent_id': '2d665682ba83d4a2ef20e6084f9f50db', 'filename': 'layout-parser-paper.pdf', 'category': 'NarrativeText', 'element_id': '4f354f7589e4209919b8135b2fdfbfa8'}, page_content='Acknowledgements We thank the anonymous reviewers for their comments and suggestions. This project is supported in part by NSF Grant OIA-2033558 and funding from the Harvard Data Science Initiative and Harvard Catalyst. Zejiang Shen thanks Doug Downey for suggestions.')]"
            ]
          },
          "metadata": {},
          "execution_count": 31
        }
      ]
    },
    {
      "cell_type": "code",
      "source": [
        "len(conclusion_docs)"
      ],
      "metadata": {
        "colab": {
          "base_uri": "https://localhost:8080/"
        },
        "id": "QvR3nsxTElvG",
        "outputId": "18d4ae39-86ee-4026-eb2f-a8d034529ef9"
      },
      "execution_count": 32,
      "outputs": [
        {
          "output_type": "execute_result",
          "data": {
            "text/plain": [
              "2"
            ]
          },
          "metadata": {},
          "execution_count": 32
        }
      ]
    },
    {
      "cell_type": "code",
      "source": [
        "for i in conclusion_docs:\n",
        "  print(i.page_content)"
      ],
      "metadata": {
        "colab": {
          "base_uri": "https://localhost:8080/"
        },
        "id": "tAEaE7vqEpSe",
        "outputId": "3e031a56-3510-44d0-ea3d-008987576cce"
      },
      "execution_count": 33,
      "outputs": [
        {
          "output_type": "stream",
          "name": "stdout",
          "text": [
            "LayoutParser provides a comprehensive toolkit for deep learning-based document image analysis. The oﬀ-the-shelf library is easy to install, and can be used to build ﬂexible and accurate pipelines for processing documents with complicated structures. It also supports high-level customization and enables easy labeling and training of DL models on unique document image datasets. The LayoutParser community platform facilitates sharing DL models and DIA pipelines, inviting discussion and promoting code reproducibility and reusability. The LayoutParser team is committed to keeping the library updated continuously and bringing the most recent advances in DL-based DIA, such as multi-modal document modeling [37, 36, 9] (an upcoming priority), to a diverse audience of end-users.\n",
            "Acknowledgements We thank the anonymous reviewers for their comments and suggestions. This project is supported in part by NSF Grant OIA-2033558 and funding from the Harvard Data Science Initiative and Harvard Catalyst. Zejiang Shen thanks Doug Downey for suggestions.\n"
          ]
        }
      ]
    }
  ]
}